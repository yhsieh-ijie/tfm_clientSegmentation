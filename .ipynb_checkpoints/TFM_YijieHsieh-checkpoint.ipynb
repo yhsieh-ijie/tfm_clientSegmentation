{
 "cells": [
  {
   "cell_type": "markdown",
   "metadata": {
    "id": "vkH6kZ0GYztA"
   },
   "source": [
    "## Import pakages"
   ]
  },
  {
   "cell_type": "code",
   "execution_count": null,
   "metadata": {
    "id": "rJiPbNuTdhPq"
   },
   "outputs": [],
   "source": [
    "#!pip install pyodbc\n",
    "# import pyodbc"
   ]
  },
  {
   "cell_type": "code",
   "execution_count": 4,
   "metadata": {
    "colab": {
     "base_uri": "https://localhost:8080/"
    },
    "executionInfo": {
     "elapsed": 3223,
     "status": "ok",
     "timestamp": 1620980379590,
     "user": {
      "displayName": "Yijie Hsieh",
      "photoUrl": "",
      "userId": "01348553246469964659"
     },
     "user_tz": -120
    },
    "id": "4TyO0griYztL",
    "outputId": "d4fd925b-3168-4f71-a525-109f6aaeaf34"
   },
   "outputs": [],
   "source": [
    "# import packages\n",
    "\n",
    "import pandas as pd\n",
    "import sqlalchemy\n",
    "import numpy as np\n",
    "import seaborn as sns\n",
    "import matplotlib.pyplot as plt\n",
    "from sklearn.preprocessing import StandardScaler\n",
    "from sklearn.cluster import KMeans"
   ]
  },
  {
   "cell_type": "code",
   "execution_count": null,
   "metadata": {
    "colab": {
     "base_uri": "https://localhost:8080/"
    },
    "executionInfo": {
     "elapsed": 91150,
     "status": "ok",
     "timestamp": 1620980467531,
     "user": {
      "displayName": "Yijie Hsieh",
      "photoUrl": "",
      "userId": "01348553246469964659"
     },
     "user_tz": -120
    },
    "id": "Mcr1hSBpY252",
    "outputId": "ca5eba60-f472-4568-af02-5b7dcde961c6"
   },
   "outputs": [
    {
     "name": "stdout",
     "output_type": "stream",
     "text": [
      "Mounted at /content/drive\n"
     ]
    }
   ],
   "source": [
    "from google.colab import drive\n",
    "drive.mount('/content/drive')"
   ]
  },
  {
   "cell_type": "code",
   "execution_count": null,
   "metadata": {
    "colab": {
     "base_uri": "https://localhost:8080/"
    },
    "executionInfo": {
     "elapsed": 91532,
     "status": "ok",
     "timestamp": 1620980467927,
     "user": {
      "displayName": "Yijie Hsieh",
      "photoUrl": "",
      "userId": "01348553246469964659"
     },
     "user_tz": -120
    },
    "id": "5NkezW57Y4sS",
    "outputId": "28355f3e-2c33-4171-e01a-71a942fb3a9d"
   },
   "outputs": [
    {
     "name": "stdout",
     "output_type": "stream",
     "text": [
      " client.csv   sales.csv  'TFM_Yijie Hsieh.ipynb'\n"
     ]
    }
   ],
   "source": [
    "!ls /content/drive/MyDrive/TFM/0_PythonScript"
   ]
  },
  {
   "cell_type": "markdown",
   "metadata": {
    "id": "oNRfR2ZWL6dl"
   },
   "source": [
    "## Data Acquisition\n",
    "Below are scripts I used to acquire the AS400 data via the ODBC driver. I have saved and uploaded the datasets to the folders for ease of use."
   ]
  },
  {
   "cell_type": "code",
   "execution_count": null,
   "metadata": {
    "id": "87igjFihYztM"
   },
   "outputs": [],
   "source": [
    "# connect to the database\n",
    "# cnxn = pyodbc.connect(driver = '{iSeries Access ODBC Driver}', system ='10.200.11.2', uid='YHSIEH',pwd = 'YHSIEH',LibraryList=['CONTAF','GUARDERIAF','REGALOF','PEDIDOSF','RETRIPLUSF','TRANSPORF','RTESF'])"
   ]
  },
  {
   "cell_type": "code",
   "execution_count": null,
   "metadata": {
    "id": "hO4cUvQ1YztN"
   },
   "outputs": [],
   "source": [
    "# create a cursor object\n",
    "# c1 = cnxn.cursor()"
   ]
  },
  {
   "cell_type": "markdown",
   "metadata": {
    "id": "3pZxAQ5Osg2u"
   },
   "source": [
    "*sql command in order to get data from the specified table\n",
    "dataset1: Select data of clients that are currently active.* \n",
    "\n",
    "sql1 = \"SELECT P.*, B.PBJFEC FROM \\\n",
    "PEDIDOSF.PAGADOR AS P, PEDIDOSF.PAGBAJ AS B \\\n",
    "WHERE (P.PAGCLI = B.PBJCLI) AND (P.PAGFEC LIKE '1%' OR P.PAGFEC LIKE '2%') AND P.PAGACT = 0 \\\n",
    "UNION ALL \\\n",
    "SELECT A.*, C.PBJFEC FROM \\\n",
    "GUARDERIAF.PAGADOR AS A, GUARDERIAF.PAGBAJ AS C \\\n",
    "WHERE (A.PAGCLI = C.PBJCLI) AND (A.PAGFEC LIKE '1%' OR A.PAGFEC LIKE '2%') AND A.PAGACT = 0 \\\n",
    "UNION ALL \\\n",
    "SELECT D.*, E.PBJFEC FROM \\\n",
    "REGALOF.PAGADOR AS D, REGALOF.PAGBAJ AS E \\\n",
    "WHERE (D.PAGCLI = E.PBJCLI) AND (D.PAGFEC LIKE '1%' OR D.PAGFEC LIKE '2%') AND D.PAGACT = 0 \\\n",
    "UNION ALL \\\n",
    "SELECT F.*, G.PBJFEC FROM \\\n",
    "RETRIPLUSF.PAGADOR AS F, RETRIPLUSF.PAGBAJ AS G \\\n",
    "WHERE (F.PAGCLI = G.PBJCLI) AND (F.PAGFEC LIKE '1%' OR F.PAGFEC LIKE '2%') AND F.PAGACT = 0 \\\n",
    "UNION ALL \\\n",
    "SELECT H.*, I.PBJFEC FROM \\\n",
    "TRANSPORF.PAGADOR AS H, TRANSPORF.PAGBAJ AS I \\\n",
    "WHERE (H.PAGCLI = I.PBJCLI) AND (H.PAGFEC LIKE '1%' OR H.PAGFEC LIKE '2%') AND H.PAGACT = 0 \\\n",
    "ORDER BY PAGFEC\""
   ]
  },
  {
   "cell_type": "code",
   "execution_count": null,
   "metadata": {
    "id": "KeLynyj6YztO"
   },
   "outputs": [],
   "source": [
    "# df_client = pd.read_sql(sql1,cnxn)"
   ]
  },
  {
   "cell_type": "code",
   "execution_count": null,
   "metadata": {
    "id": "5b6tcPEzYztO"
   },
   "outputs": [],
   "source": [
    "# Save this df as csv so I can access and work on the dataset.\n",
    "# df_client.to_csv(r\"C:\\Users\\yhsieh\\Documents\\client.csv\",sep=',')"
   ]
  },
  {
   "cell_type": "markdown",
   "metadata": {
    "id": "mKVQKP-IsTPV"
   },
   "source": [
    " *define sql command in order to get data from the specified table\n",
    "dataset2: Select sales data (all-time) but only with active clients.*\n",
    "\n",
    "sql2 = \"SELECT * \\\n",
    "FROM REGALOF.FACCAB AS R \\\n",
    "WHERE R.FACCLI IN (SELECT PAGCLI FROM REGALOF.PAGADOR WHERE PAGACT =0) \\\n",
    "UNION ALL \\\n",
    "SELECT * \\\n",
    "FROM GUARDERIAF.FACCAB AS G \\\n",
    "WHERE G.FACCLI IN (SELECT PAGCLI FROM GUARDERIAF.PAGADOR WHERE PAGACT =0) \\\n",
    "UNION ALL \\\n",
    "SELECT * \\\n",
    "FROM CONTAF.FACCAB AS C \\\n",
    "WHERE C.FACCLI IN (SELECT PAGCLI FROM PEDIDOSF.PAGADOR WHERE PAGACT =0) \\\n",
    "UNION ALL \\\n",
    "SELECT * \\\n",
    "FROM RETRIPLUSF.FACCAB AS E \\\n",
    "WHERE E.FACCLI IN (SELECT PAGCLI FROM RETRIPLUSF.PAGADOR WHERE PAGACT =0) \\\n",
    "UNION ALL \\\n",
    "SELECT * FROM TRANSPORF.TSFACCAB AS T \\\n",
    "WHERE T.FACCLI IN (SELECT PAGCLI FROM TRANSPORF.PAGADOR WHERE PAGACT =0) \\\n",
    "UNION ALL \\\n",
    "SELECT * FROM PEDIDOSF.TSFACCAB AS A \\\n",
    "WHERE A.FACCLI IN (SELECT PAGCLI FROM PEDIDOSF.PAGADOR WHERE PAGACT =0)\""
   ]
  },
  {
   "cell_type": "code",
   "execution_count": null,
   "metadata": {
    "id": "VHpXYtndYztP"
   },
   "outputs": [],
   "source": [
    "# df_sales = pd.read_sql(sql2,cnxn)"
   ]
  },
  {
   "cell_type": "code",
   "execution_count": null,
   "metadata": {
    "id": "Mw-luKfuYztQ"
   },
   "outputs": [],
   "source": [
    "# Save this df as csv so I can access and work on the dataset.\n",
    "# df_sales.to_csv(r\"C:\\Users\\yhsieh\\Documents\\sales.csv\",sep=',')"
   ]
  },
  {
   "cell_type": "markdown",
   "metadata": {
    "id": "WRgEg69zYztQ"
   },
   "source": [
    "Now that I have 2 datasets (Client dataset and Sales dataset). I can start doing the data exploritory analysis."
   ]
  },
  {
   "cell_type": "markdown",
   "metadata": {
    "id": "fGk-6r6bYztQ"
   },
   "source": [
    "## Data Exploration"
   ]
  },
  {
   "cell_type": "markdown",
   "metadata": {
    "id": "ZI7PmYw7dVUY"
   },
   "source": [
    "### Client Dataset Overview"
   ]
  },
  {
   "cell_type": "code",
   "execution_count": 5,
   "metadata": {
    "id": "hMsW4TXsYztR"
   },
   "outputs": [],
   "source": [
    "df_client = pd.read_csv('client.csv')"
   ]
  },
  {
   "cell_type": "code",
   "execution_count": 6,
   "metadata": {
    "colab": {
     "base_uri": "https://localhost:8080/",
     "height": 517
    },
    "executionInfo": {
     "elapsed": 92634,
     "status": "ok",
     "timestamp": 1620980469088,
     "user": {
      "displayName": "Yijie Hsieh",
      "photoUrl": "",
      "userId": "01348553246469964659"
     },
     "user_tz": -120
    },
    "id": "kjhD_8L-YztR",
    "outputId": "95aa08a8-59bf-481d-99f5-1a7f993db636"
   },
   "outputs": [
    {
     "data": {
      "text/html": [
       "<div>\n",
       "<style scoped>\n",
       "    .dataframe tbody tr th:only-of-type {\n",
       "        vertical-align: middle;\n",
       "    }\n",
       "\n",
       "    .dataframe tbody tr th {\n",
       "        vertical-align: top;\n",
       "    }\n",
       "\n",
       "    .dataframe thead th {\n",
       "        text-align: right;\n",
       "    }\n",
       "</style>\n",
       "<table border=\"1\" class=\"dataframe\">\n",
       "  <thead>\n",
       "    <tr style=\"text-align: right;\">\n",
       "      <th></th>\n",
       "      <th>Unnamed: 0</th>\n",
       "      <th>PAGACT</th>\n",
       "      <th>PAGCLI</th>\n",
       "      <th>PAGRZ1</th>\n",
       "      <th>PAGRZ2</th>\n",
       "      <th>PAGDI1</th>\n",
       "      <th>PAGDI2</th>\n",
       "      <th>PAGDP</th>\n",
       "      <th>PAGPOB</th>\n",
       "      <th>PAGPRO</th>\n",
       "      <th>...</th>\n",
       "      <th>PAGTRA</th>\n",
       "      <th>PAGVEN</th>\n",
       "      <th>PAGCFA</th>\n",
       "      <th>PAGDEU</th>\n",
       "      <th>PAGCIF</th>\n",
       "      <th>PAGTE1</th>\n",
       "      <th>PAGTE2</th>\n",
       "      <th>PAGMOV</th>\n",
       "      <th>PAGPER</th>\n",
       "      <th>PBJFEC</th>\n",
       "    </tr>\n",
       "  </thead>\n",
       "  <tbody>\n",
       "    <tr>\n",
       "      <th>0</th>\n",
       "      <td>0</td>\n",
       "      <td>0</td>\n",
       "      <td>1.0</td>\n",
       "      <td>PUBLIESPAÑA, S.A.U.</td>\n",
       "      <td></td>\n",
       "      <td>CTRA. FUENCARRAL-ALCOBENDAS, 4</td>\n",
       "      <td></td>\n",
       "      <td>28049</td>\n",
       "      <td>MADRID</td>\n",
       "      <td>MADRID</td>\n",
       "      <td>...</td>\n",
       "      <td>0.0</td>\n",
       "      <td>86.0</td>\n",
       "      <td>1.0</td>\n",
       "      <td>0.0</td>\n",
       "      <td>A78928371</td>\n",
       "      <td>Nº Cuenta: ES30 2100 3782 41 2200007548       ...</td>\n",
       "      <td>...</td>\n",
       "      <td>0.0</td>\n",
       "      <td>1.0</td>\n",
       "      <td>0.0</td>\n",
       "    </tr>\n",
       "    <tr>\n",
       "      <th>1</th>\n",
       "      <td>1</td>\n",
       "      <td>0</td>\n",
       "      <td>8.0</td>\n",
       "      <td>ANTARES, S.A.</td>\n",
       "      <td></td>\n",
       "      <td>PLAZA DE LAS CORTES, 8</td>\n",
       "      <td></td>\n",
       "      <td>28014</td>\n",
       "      <td>MADRID</td>\n",
       "      <td>MADRID</td>\n",
       "      <td>...</td>\n",
       "      <td>5.0</td>\n",
       "      <td>86.0</td>\n",
       "      <td>8.0</td>\n",
       "      <td>0.0</td>\n",
       "      <td>A78586344</td>\n",
       "      <td>Nº Cuenta: ES30 2100 3782 41 2200007548       ...</td>\n",
       "      <td>...</td>\n",
       "      <td>0.0</td>\n",
       "      <td>98.0</td>\n",
       "      <td>0.0</td>\n",
       "    </tr>\n",
       "    <tr>\n",
       "      <th>2</th>\n",
       "      <td>2</td>\n",
       "      <td>0</td>\n",
       "      <td>16.0</td>\n",
       "      <td>ADIC</td>\n",
       "      <td></td>\n",
       "      <td>CTRA.COLMENAR KM.14 UAM.</td>\n",
       "      <td></td>\n",
       "      <td>28049</td>\n",
       "      <td>CANTOBLANCO</td>\n",
       "      <td>MADRID</td>\n",
       "      <td>...</td>\n",
       "      <td>0.0</td>\n",
       "      <td>86.0</td>\n",
       "      <td>16.0</td>\n",
       "      <td>0.0</td>\n",
       "      <td>G79251716</td>\n",
       "      <td>...</td>\n",
       "      <td>...</td>\n",
       "      <td>0.0</td>\n",
       "      <td>99.0</td>\n",
       "      <td>0.0</td>\n",
       "    </tr>\n",
       "    <tr>\n",
       "      <th>3</th>\n",
       "      <td>3</td>\n",
       "      <td>0</td>\n",
       "      <td>14.0</td>\n",
       "      <td>EUROP ASSISTANCE ESPAÑA, S.A.</td>\n",
       "      <td></td>\n",
       "      <td>ORENSE, 4 PLTA. 10ª</td>\n",
       "      <td></td>\n",
       "      <td>28020</td>\n",
       "      <td>MADRID</td>\n",
       "      <td>MADRID</td>\n",
       "      <td>...</td>\n",
       "      <td>0.0</td>\n",
       "      <td>44.0</td>\n",
       "      <td>14.0</td>\n",
       "      <td>0.0</td>\n",
       "      <td>A28461994</td>\n",
       "      <td>Nº Cuenta: ES30 2100 3782 41 2200007548       ...</td>\n",
       "      <td>Nº DE PEDIDO RC2021051                        ...</td>\n",
       "      <td>0.0</td>\n",
       "      <td>98.0</td>\n",
       "      <td>0.0</td>\n",
       "    </tr>\n",
       "    <tr>\n",
       "      <th>4</th>\n",
       "      <td>4</td>\n",
       "      <td>0</td>\n",
       "      <td>32.0</td>\n",
       "      <td>JOHNSON'S WAX ESPAÑOLA, S.L.</td>\n",
       "      <td></td>\n",
       "      <td>QUINTANAVIDES 17 EDIF. 3 PLTA. 4</td>\n",
       "      <td></td>\n",
       "      <td>28050</td>\n",
       "      <td>MADRID</td>\n",
       "      <td>MADRID</td>\n",
       "      <td>...</td>\n",
       "      <td>5.0</td>\n",
       "      <td>99.0</td>\n",
       "      <td>32.0</td>\n",
       "      <td>0.0</td>\n",
       "      <td>B28128890</td>\n",
       "      <td>Nº DE PEDIDO ANUAL: 110077                    ...</td>\n",
       "      <td>...</td>\n",
       "      <td>0.0</td>\n",
       "      <td>98.0</td>\n",
       "      <td>0.0</td>\n",
       "    </tr>\n",
       "  </tbody>\n",
       "</table>\n",
       "<p>5 rows × 41 columns</p>\n",
       "</div>"
      ],
      "text/plain": [
       "   Unnamed: 0  PAGACT  PAGCLI                            PAGRZ1  \\\n",
       "0           0       0     1.0  PUBLIESPAÑA, S.A.U.                \n",
       "1           1       0     8.0  ANTARES, S.A.                      \n",
       "2           2       0    16.0  ADIC                               \n",
       "3           3       0    14.0  EUROP ASSISTANCE ESPAÑA, S.A.      \n",
       "4           4       0    32.0  JOHNSON'S WAX ESPAÑOLA, S.L.       \n",
       "\n",
       "                             PAGRZ2                            PAGDI1  \\\n",
       "0                                    CTRA. FUENCARRAL-ALCOBENDAS, 4     \n",
       "1                                    PLAZA DE LAS CORTES, 8             \n",
       "2                                    CTRA.COLMENAR KM.14 UAM.           \n",
       "3                                    ORENSE, 4 PLTA. 10ª                \n",
       "4                                    QUINTANAVIDES 17 EDIF. 3 PLTA. 4   \n",
       "\n",
       "                             PAGDI2  PAGDP                            PAGPOB  \\\n",
       "0                                    28049  MADRID                             \n",
       "1                                    28014  MADRID                             \n",
       "2                                    28049  CANTOBLANCO                        \n",
       "3                                    28020  MADRID                             \n",
       "4                                    28050  MADRID                             \n",
       "\n",
       "                             PAGPRO  ... PAGTRA PAGVEN  PAGCFA  PAGDEU  \\\n",
       "0  MADRID                            ...    0.0   86.0     1.0     0.0   \n",
       "1  MADRID                            ...    5.0   86.0     8.0     0.0   \n",
       "2  MADRID                            ...    0.0   86.0    16.0     0.0   \n",
       "3  MADRID                            ...    0.0   44.0    14.0     0.0   \n",
       "4  MADRID                            ...    5.0   99.0    32.0     0.0   \n",
       "\n",
       "           PAGCIF                                             PAGTE1  \\\n",
       "0  A78928371       Nº Cuenta: ES30 2100 3782 41 2200007548       ...   \n",
       "1  A78586344       Nº Cuenta: ES30 2100 3782 41 2200007548       ...   \n",
       "2  G79251716                                                     ...   \n",
       "3  A28461994       Nº Cuenta: ES30 2100 3782 41 2200007548       ...   \n",
       "4  B28128890       Nº DE PEDIDO ANUAL: 110077                    ...   \n",
       "\n",
       "                                              PAGTE2  PAGMOV PAGPER PBJFEC  \n",
       "0                                                ...     0.0    1.0    0.0  \n",
       "1                                                ...     0.0   98.0    0.0  \n",
       "2                                                ...     0.0   99.0    0.0  \n",
       "3  Nº DE PEDIDO RC2021051                        ...     0.0   98.0    0.0  \n",
       "4                                                ...     0.0   98.0    0.0  \n",
       "\n",
       "[5 rows x 41 columns]"
      ]
     },
     "execution_count": 6,
     "metadata": {},
     "output_type": "execute_result"
    }
   ],
   "source": [
    "# Have the first glance of the client dataset\n",
    "df_client.head()"
   ]
  },
  {
   "cell_type": "code",
   "execution_count": 7,
   "metadata": {
    "colab": {
     "base_uri": "https://localhost:8080/"
    },
    "executionInfo": {
     "elapsed": 92622,
     "status": "ok",
     "timestamp": 1620980469089,
     "user": {
      "displayName": "Yijie Hsieh",
      "photoUrl": "",
      "userId": "01348553246469964659"
     },
     "user_tz": -120
    },
    "id": "dGI4Y0oPYztS",
    "outputId": "a989742f-202f-4a96-9e38-d0727e8fff25"
   },
   "outputs": [
    {
     "data": {
      "text/plain": [
       "Index(['Unnamed: 0', 'PAGACT', 'PAGCLI', 'PAGRZ1', 'PAGRZ2', 'PAGDI1',\n",
       "       'PAGDI2', 'PAGDP', 'PAGPOB', 'PAGPRO', 'PAGTEL', 'PAGFAX', 'PAGLOG',\n",
       "       'PAGMOD', 'PAGDIA', 'PAGGRU', 'PAGNNO', 'PAGFCA', 'PAGINT', 'PAGCON',\n",
       "       'PAGALB', 'PAGFAC', 'PAGDF1', 'PAGDF2', 'PAGDPF', 'PAGPOF', 'PAGPRF',\n",
       "       'PAGFEC', 'PAGCOM', 'PAGFIJ', 'PAGNPR', 'PAGTRA', 'PAGVEN', 'PAGCFA',\n",
       "       'PAGDEU', 'PAGCIF', 'PAGTE1', 'PAGTE2', 'PAGMOV', 'PAGPER', 'PBJFEC'],\n",
       "      dtype='object')"
      ]
     },
     "execution_count": 7,
     "metadata": {},
     "output_type": "execute_result"
    }
   ],
   "source": [
    "# Identify column names and variables types\n",
    "df_client.columns"
   ]
  },
  {
   "cell_type": "code",
   "execution_count": 8,
   "metadata": {
    "colab": {
     "base_uri": "https://localhost:8080/"
    },
    "executionInfo": {
     "elapsed": 630,
     "status": "ok",
     "timestamp": 1620980915613,
     "user": {
      "displayName": "Yijie Hsieh",
      "photoUrl": "",
      "userId": "01348553246469964659"
     },
     "user_tz": -120
    },
    "id": "gVObzVbH_ayI",
    "outputId": "fda987e4-443b-4c30-ba27-395bc713285c"
   },
   "outputs": [
    {
     "data": {
      "text/plain": [
       "(7331, 41)"
      ]
     },
     "execution_count": 8,
     "metadata": {},
     "output_type": "execute_result"
    }
   ],
   "source": [
    "df_client.shape"
   ]
  },
  {
   "cell_type": "markdown",
   "metadata": {
    "id": "wjx4wIWNYztV"
   },
   "source": [
    "#### Variable Types\n",
    "**Categorical variables:** \n",
    "- PAGACT: Active Status, should remove because this dataset only includes active clients.\n",
    "- PAGCLI: Client code\n",
    "- PAGRZ1: Client company name 1\n",
    "- PAGRZ2: Client company name 2\n",
    "- PAGDI1: Address 1, will remove and use Fiscal address.\n",
    "- PAGDI2: Address 2, will remove and use Fiscal address.\n",
    "- PAGDP: Postal code, will remove and use Fiscal address.\n",
    "- PAGPOB: City, will remove and use Fiscal address.\n",
    "- PAGPRO: Province, will remove and use Fiscal address.\n",
    "- PAGTEL: Phone number, should remove because it doesn't add value.\n",
    "- PAGFAX: Fax number, should remove because it doesn't add value.\n",
    "- PAGGRU: Client Group code\n",
    "- PAGNNO: Info not available\n",
    "- PAGFCA: Info not available\n",
    "- PAGINT: All blank, should remove because it doesn't add value.\n",
    "- PAGCON: At.factura\n",
    "- PAGALB: T.Albarán\n",
    "- PAGFAC: T.factura\n",
    "- PAGDF1: Fiscal address 1\n",
    "- PAGDF2: Fiscal address 2\n",
    "- PAGDPF: Fiscal postal code\n",
    "- PAFPOF: Fiscal city\n",
    "- PAGPRF: Fiscal province\n",
    "- PAGNPR: Info not available\n",
    "- PAGVEN: Up Spain Comercial Code\n",
    "- PAGCFA: Client Facturado (TBC)\n",
    "- PAGCIF: Client CIF\n",
    "- PAGTE1: Text on the Bill 1, should remove because it doesn't add value. \n",
    "- PAGTE2: Text on the Bill 2, should remove because it doesn't add value.\n",
    "- PAGMOV: Mobile phone, should remove because it doesn't add value.\n",
    "- PAGMOD: Payment Method\n",
    "- PAGPER: Payment Freqency, one number corresponds to one category. (TBC if this column should be removed because it's not the reality, just an estimation.)\n",
    "- PAGDIA: Payment Day of a month.\n",
    "\n",
    "**Numerical variables:**\n",
    "- PAGLOG: Info not available\n",
    "- PAGCOM: Commission\n",
    "- PAGFIJ: Forfeit\n",
    "- PAGTRA: Shipping Cost\n",
    "- PAGDEU: Risk \n",
    "\n",
    "**DateTime variables:**\n",
    "- PAGFEC: Client opt-in date (The date that a client signed the contract with Up Spain)\n",
    "- PBJFEC: Unsubscribe date (The date that a client ended the contract). This column will be removed because in this analysis we only care about the active clients. (Those that haven't ended the contract with Up Spain.)"
   ]
  },
  {
   "cell_type": "markdown",
   "metadata": {
    "id": "nZuyqTCnxIx3"
   },
   "source": [
    "Now I'll remove the columns that are not of our interests:"
   ]
  },
  {
   "cell_type": "code",
   "execution_count": 9,
   "metadata": {
    "id": "8sN_vPUdxWnt"
   },
   "outputs": [],
   "source": [
    "df_client_clean = df_client.drop(['PAGACT','Unnamed: 0','PAGRZ1','PAGRZ2','PAGDI1','PAGDI2','PAGDP','PAGPOB','PAGPRO','PAGTEL','PAGFAX','PAGINT','PAGCON','PAGDF1','PAGDF2','PAGDPF','PAGCFA','PAGTE1','PAGTE2','PAGMOV', 'PAGNPR','PAGFCA', 'PBJFEC'],axis=1)"
   ]
  },
  {
   "cell_type": "code",
   "execution_count": 10,
   "metadata": {
    "colab": {
     "base_uri": "https://localhost:8080/"
    },
    "executionInfo": {
     "elapsed": 486,
     "status": "ok",
     "timestamp": 1620987515487,
     "user": {
      "displayName": "Yijie Hsieh",
      "photoUrl": "",
      "userId": "01348553246469964659"
     },
     "user_tz": -120
    },
    "id": "0JGSAb3BYm_o",
    "outputId": "da495053-20d3-4ce9-d530-ed0622d4ca75"
   },
   "outputs": [
    {
     "data": {
      "text/plain": [
       "Index(['PAGCLI', 'PAGLOG', 'PAGMOD', 'PAGDIA', 'PAGGRU', 'PAGNNO', 'PAGALB',\n",
       "       'PAGFAC', 'PAGPOF', 'PAGPRF', 'PAGFEC', 'PAGCOM', 'PAGFIJ', 'PAGTRA',\n",
       "       'PAGVEN', 'PAGDEU', 'PAGCIF', 'PAGPER'],\n",
       "      dtype='object')"
      ]
     },
     "execution_count": 10,
     "metadata": {},
     "output_type": "execute_result"
    }
   ],
   "source": [
    "df_client_clean.columns"
   ]
  },
  {
   "cell_type": "markdown",
   "metadata": {
    "id": "O2T5YPCBd0ou"
   },
   "source": [
    "#### Data Visualization"
   ]
  },
  {
   "cell_type": "markdown",
   "metadata": {
    "id": "6Y219N7nmVHy"
   },
   "source": [
    "Numerical Variables:"
   ]
  },
  {
   "cell_type": "code",
   "execution_count": null,
   "metadata": {
    "id": "wGOsNSuqZ6GO"
   },
   "outputs": [],
   "source": [
    "# Select columns that are of my interest:\n",
    "var_num = ['PAGLOG','PAGCOM','PAGFIJ','PAGTRA','PAGDEU']"
   ]
  },
  {
   "cell_type": "code",
   "execution_count": null,
   "metadata": {
    "colab": {
     "base_uri": "https://localhost:8080/",
     "height": 1000
    },
    "executionInfo": {
     "elapsed": 93799,
     "status": "ok",
     "timestamp": 1620980470291,
     "user": {
      "displayName": "Yijie Hsieh",
      "photoUrl": "",
      "userId": "01348553246469964659"
     },
     "user_tz": -120
    },
    "id": "bkkDD4U-loy0",
    "outputId": "7c8eb173-72e3-4be8-e87c-6a939b58876f"
   },
   "outputs": [
    {
     "data": {
      "image/png": "[encoded data removed]",
      "text/plain": [
       "<Figure size 576x396 with 1 Axes>"
      ]
     },
     "metadata": {
      "tags": []
     },
     "output_type": "display_data"
    },
    {
     "data": {
      "image/png": "[encoded data removed]",
      "text/plain": [
       "<Figure size 576x396 with 1 Axes>"
      ]
     },
     "metadata": {
      "tags": []
     },
     "output_type": "display_data"
    },
    {
     "data": {
      "image/png": "[encoded data removed]",
      "text/plain": [
       "<Figure size 576x396 with 1 Axes>"
      ]
     },
     "metadata": {
      "tags": []
     },
     "output_type": "display_data"
    },
    {
     "data": {
      "image/png": "[encoded data removed]",
      "text/plain": [
       "<Figure size 576x396 with 1 Axes>"
      ]
     },
     "metadata": {
      "tags": []
     },
     "output_type": "display_data"
    },
    {
     "data": {
      "image/png": "[encoded data removed]",
      "text/plain": [
       "<Figure size 576x396 with 1 Axes>"
      ]
     },
     "metadata": {
      "tags": []
     },
     "output_type": "display_data"
    },
    {
     "data": {
      "text/plain": [
       "<Figure size 576x396 with 0 Axes>"
      ]
     },
     "metadata": {
      "tags": []
     },
     "output_type": "display_data"
    }
   ],
   "source": [
    "for var in var_num:\n",
    "  sns.violinplot(x=df_client_clean[var]) \n",
    "  plt.figure()"
   ]
  },
  {
   "cell_type": "code",
   "execution_count": null,
   "metadata": {
    "colab": {
     "base_uri": "https://localhost:8080/"
    },
    "executionInfo": {
     "elapsed": 93790,
     "status": "ok",
     "timestamp": 1620980470291,
     "user": {
      "displayName": "Yijie Hsieh",
      "photoUrl": "",
      "userId": "01348553246469964659"
     },
     "user_tz": -120
    },
    "id": "0A3z8ynRm2LF",
    "outputId": "2e483bea-6c5e-422e-a13c-534aff7c7eb4"
   },
   "outputs": [
    {
     "name": "stdout",
     "output_type": "stream",
     "text": [
      "       PAGLOG  percentage\n",
      "0.0      7104    0.969036\n",
      "248.0      65    0.008866\n",
      "179.0      24    0.003274\n",
      "183.0       7    0.000955\n",
      "163.0       5    0.000682\n",
      "151.0       5    0.000682\n",
      "184.0       4    0.000546\n",
      "253.0       3    0.000409\n",
      "252.0       3    0.000409\n",
      "233.0       3    0.000409\n",
      "       PAGCOM  percentage\n",
      "0.00     2164    0.295185\n",
      "99.95    1472    0.200791\n",
      "1.00      576    0.078570\n",
      "1.50      482    0.065748\n",
      "30.95     399    0.054426\n",
      "0.50      329    0.044878\n",
      "2.00      235    0.032056\n",
      "2.50      218    0.029737\n",
      "99.94     120    0.016369\n",
      "99.93     108    0.014732\n",
      "        PAGFIJ  percentage\n",
      "0.00      4339    0.591870\n",
      "2.00      2946    0.401855\n",
      "50.00        7    0.000955\n",
      "75.00        5    0.000682\n",
      "41.67        5    0.000682\n",
      "100.00       2    0.000273\n",
      "90.00        2    0.000273\n",
      "150.00       2    0.000273\n",
      "200.00       2    0.000273\n",
      "66.66        2    0.000273\n",
      "       PAGTRA  percentage\n",
      "0.00     5562    0.758696\n",
      "5.00     1444    0.196972\n",
      "6.00      191    0.026054\n",
      "4.00       63    0.008594\n",
      "8.00       20    0.002728\n",
      "3.01       20    0.002728\n",
      "3.00       11    0.001500\n",
      "2.00        3    0.000409\n",
      "10.00       3    0.000409\n",
      "3.50        2    0.000273\n",
      "         PAGDEU  percentage\n",
      "0.00       7262    0.990588\n",
      "1.00         25    0.003410\n",
      "1000.00       3    0.000409\n",
      "200.00        2    0.000273\n",
      "1523.75       1    0.000136\n",
      "710.94        1    0.000136\n",
      "3536.00       1    0.000136\n",
      "9000.00       1    0.000136\n",
      "1848.44       1    0.000136\n",
      "500.00        1    0.000136\n"
     ]
    }
   ],
   "source": [
    "for var in var_num:\n",
    "  df_valuecounts = pd.DataFrame(df_client_clean[var].value_counts())\n",
    "  df_valuecounts['percentage'] = pd.DataFrame(df_client_clean[var].value_counts()/df_client_clean[var].count())\n",
    "  print(df_valuecounts.head(10))"
   ]
  },
  {
   "cell_type": "markdown",
   "metadata": {
    "id": "ly4DbhMnoF1n"
   },
   "source": [
    "From both the graphs and the output of the above for-loop, I can conclude that except the Commission column, the other variables' values are very focused on 1-2 primary values.\n",
    "\n",
    "As for PAGCOM (commissions), Up Spain has 2 types of commissions:\n",
    "\n",
    "1.   Fixed Commissions: Some clients have a fixed commission %. This commission % doesn't change no matter which sales amount they order.\n",
    "2.   Commissions based on Sales: Different commission % are applied based on the sales amount a client orders. The commission values that are above 30% in the commission column belong to this type of commissions. These commission values should be categorized or transformed. Because when it shows 99.93 it doesn´t really mean 99.93% commission applied.\n",
    "\n"
   ]
  },
  {
   "cell_type": "markdown",
   "metadata": {
    "id": "5_FLpPKQv0Ju"
   },
   "source": [
    "Categorical Variables"
   ]
  },
  {
   "cell_type": "code",
   "execution_count": null,
   "metadata": {
    "colab": {
     "base_uri": "https://localhost:8080/"
    },
    "executionInfo": {
     "elapsed": 93782,
     "status": "ok",
     "timestamp": 1620980470292,
     "user": {
      "displayName": "Yijie Hsieh",
      "photoUrl": "",
      "userId": "01348553246469964659"
     },
     "user_tz": -120
    },
    "id": "W2WtanSzwBW1",
    "outputId": "bcb3d9e4-c34f-434a-a07b-bbafa1573c7e"
   },
   "outputs": [
    {
     "data": {
      "text/plain": [
       "Index(['PAGMOD', 'PAGDIA', 'PAGNNO', 'PAGALB', 'PAGFAC', 'PAGPOF', 'PAGPRF',\n",
       "       'PAGVEN', 'PAGPER'],\n",
       "      dtype='object')"
      ]
     },
     "execution_count": 18,
     "metadata": {
      "tags": []
     },
     "output_type": "execute_result"
    }
   ],
   "source": [
    "# Select columns that are of my interest:\n",
    "var_car = df_client_clean.drop(var_num,axis=1).drop(['PAGFEC','PAGCLI','PAGGRU','PAGCIF'],axis=1).columns\n",
    "var_car"
   ]
  },
  {
   "cell_type": "code",
   "execution_count": null,
   "metadata": {
    "colab": {
     "base_uri": "https://localhost:8080/",
     "height": 1000
    },
    "executionInfo": {
     "elapsed": 107185,
     "status": "ok",
     "timestamp": 1620980483711,
     "user": {
      "displayName": "Yijie Hsieh",
      "photoUrl": "",
      "userId": "01348553246469964659"
     },
     "user_tz": -120
    },
    "id": "LfQTCNxlyo26",
    "outputId": "285ce5da-f7bd-4bd0-dec0-3f48cc0fd839"
   },
   "outputs": [
    {
     "data": {
      "image/png": "[encoded data removed]",
      "text/plain": [
       "<Figure size 576x396 with 1 Axes>"
      ]
     },
     "metadata": {
      "tags": []
     },
     "output_type": "display_data"
    },
    {
     "data": {
      "image/png": "[encoded data removed]",
      "text/plain": [
       "<Figure size 576x396 with 1 Axes>"
      ]
     },
     "metadata": {
      "tags": []
     },
     "output_type": "display_data"
    },
    {
     "data": {
      "image/png": "[encoded data removed]",
      "text/plain": [
       "<Figure size 576x396 with 1 Axes>"
      ]
     },
     "metadata": {
      "tags": []
     },
     "output_type": "display_data"
    },
    {
     "data": {
      "image/png": "[encoded data removed]",
      "text/plain": [
       "<Figure size 576x396 with 1 Axes>"
      ]
     },
     "metadata": {
      "tags": []
     },
     "output_type": "display_data"
    },
    {
     "data": {
      "image/png": "[encoded data removed]",
      "text/plain": [
       "<Figure size 576x396 with 1 Axes>"
      ]
     },
     "metadata": {
      "tags": []
     },
     "output_type": "display_data"
    },
    {
     "data": {
      "image/png": "[encoded data removed]",
      "text/plain": [
       "<Figure size 576x396 with 1 Axes>"
      ]
     },
     "metadata": {
      "tags": []
     },
     "output_type": "display_data"
    },
    {
     "data": {
      "image/png": "[encoded data removed]",
      "text/plain": [
       "<Figure size 576x396 with 1 Axes>"
      ]
     },
     "metadata": {
      "tags": []
     },
     "output_type": "display_data"
    },
    {
     "data": {
      "image/png": "[encoded data removed]",
      "text/plain": [
       "<Figure size 576x396 with 1 Axes>"
      ]
     },
     "metadata": {
      "tags": []
     },
     "output_type": "display_data"
    },
    {
     "data": {
      "image/png": "[encoded data removed]",
      "text/plain": [
       "<Figure size 576x396 with 1 Axes>"
      ]
     },
     "metadata": {
      "tags": []
     },
     "output_type": "display_data"
    },
    {
     "data": {
      "text/plain": [
       "<Figure size 576x396 with 0 Axes>"
      ]
     },
     "metadata": {
      "tags": []
     },
     "output_type": "display_data"
    }
   ],
   "source": [
    "for var in var_car:\n",
    "  sns.countplot(x=df_client_clean[var]) \n",
    "  plt.figure()"
   ]
  },
  {
   "cell_type": "code",
   "execution_count": null,
   "metadata": {
    "colab": {
     "base_uri": "https://localhost:8080/"
    },
    "executionInfo": {
     "elapsed": 107532,
     "status": "ok",
     "timestamp": 1620980484068,
     "user": {
      "displayName": "Yijie Hsieh",
      "photoUrl": "",
      "userId": "01348553246469964659"
     },
     "user_tz": -120
    },
    "id": "aNoeDAr66q6M",
    "outputId": "f0138413-e0b2-400a-b156-5722cfee51ad"
   },
   "outputs": [
    {
     "name": "stdout",
     "output_type": "stream",
     "text": [
      "        PAGMOD  percentage\n",
      "1111.0    3153    0.430091\n",
      "2.0       1191    0.162461\n",
      "0.0        814    0.111035\n",
      "11.0       528    0.072023\n",
      "111.0      527    0.071887\n",
      "222.0      484    0.066021\n",
      "1112.0     121    0.016505\n",
      "99.0       120    0.016369\n",
      "22.0       111    0.015141\n",
      "112.0       78    0.010640\n",
      "      PAGDIA  percentage\n",
      "0.0     6770    0.923476\n",
      "25.0     190    0.025917\n",
      "20.0      79    0.010776\n",
      "15.0      70    0.009548\n",
      "30.0      64    0.008730\n",
      "10.0      62    0.008457\n",
      "5.0       29    0.003956\n",
      "23.0      16    0.002183\n",
      "28.0       9    0.001228\n",
      "1.0        8    0.001091\n",
      "   PAGNNO  percentage\n",
      "     7010    0.956213\n",
      "1     298    0.040649\n",
      "0      22    0.003001\n",
      "O       1    0.000136\n",
      "      PAGALB  percentage\n",
      "1.0     7159    0.976538\n",
      "88.0     172    0.023462\n",
      "      PAGFAC  percentage\n",
      "51.0    3725    0.508116\n",
      "1.0     2345    0.319875\n",
      "31.0     271    0.036966\n",
      "17.0     258    0.035193\n",
      "88.0     204    0.027827\n",
      "10.0     157    0.021416\n",
      "3.0      129    0.017597\n",
      "0.0       56    0.007639\n",
      "89.0      49    0.006684\n",
      "2.0       33    0.004501\n",
      "                                  PAGPOF  percentage\n",
      "MADRID                              2765    0.377165\n",
      "BARCELONA                           1070    0.145956\n",
      "ALCOBENDAS                           237    0.032328\n",
      "VALENCIA                             138    0.018824\n",
      "BILBAO                                81    0.011049\n",
      "POZUELO DE ALARCON                    77    0.010503\n",
      "SEVILLA                               71    0.009685\n",
      "SAN SEBASTIAN DE LOS REYES            70    0.009548\n",
      "ROZAS DE MADRID, LAS                  64    0.008730\n",
      "HOSPITALET DE LLOBREGAT, L'           62    0.008457\n",
      "                                  PAGPRF  percentage\n",
      "MADRID                              3843    0.524212\n",
      "BARCELONA                           1827    0.249216\n",
      "VALENCIA                             286    0.039012\n",
      "VIZCAYA                              194    0.026463\n",
      "SEVILLA                               96    0.013095\n",
      "ZARAGOZA                              86    0.011731\n",
      "PONTEVEDRA                            67    0.009139\n",
      "MURCIA                                61    0.008321\n",
      "GUIPUZCOA                             60    0.008184\n",
      "CORUÑA, A                             56    0.007639\n",
      "      PAGVEN  percentage\n",
      "99.0     978    0.133406\n",
      "86.0     737    0.100532\n",
      "50.0     554    0.075569\n",
      "58.0     497    0.067794\n",
      "93.0     477    0.065066\n",
      "88.0     457    0.062338\n",
      "85.0     453    0.061792\n",
      "46.0     432    0.058928\n",
      "68.0     407    0.055518\n",
      "39.0     388    0.052926\n",
      "      PAGPER  percentage\n",
      "1.0     4013    0.547401\n",
      "99.0     929    0.126722\n",
      "3.0      590    0.080480\n",
      "0.0      523    0.071341\n",
      "2.0      397    0.054154\n",
      "6.0      275    0.037512\n",
      "12.0     226    0.030828\n",
      "98.0     164    0.022371\n",
      "4.0      156    0.021279\n",
      "5.0       53    0.007230\n"
     ]
    }
   ],
   "source": [
    "for var in var_car:\n",
    "  df_valuecounts = pd.DataFrame(df_client_clean[var].value_counts())\n",
    "  df_valuecounts['percentage'] = pd.DataFrame(df_client_clean[var].value_counts()/df_client_clean[var].count())\n",
    "  print(df_valuecounts.head(10))"
   ]
  },
  {
   "cell_type": "markdown",
   "metadata": {
    "id": "3IFWPOPo8iic"
   },
   "source": [
    "#### Data Cleaning & Format Correction\n",
    "\n",
    "\n",
    "1. Remove duplicated client records, leave only the latest record.\n",
    "2. Change and correct data format (dtype).\n",
    "3. Reformat time series variables.\n",
    "4. Missing Values (columns PAGNNO, PAGPOF, PAGPRF)\n",
    "\n",
    "\n",
    "\n"
   ]
  },
  {
   "cell_type": "code",
   "execution_count": null,
   "metadata": {
    "colab": {
     "base_uri": "https://localhost:8080/"
    },
    "executionInfo": {
     "elapsed": 107523,
     "status": "ok",
     "timestamp": 1620980484069,
     "user": {
      "displayName": "Yijie Hsieh",
      "photoUrl": "",
      "userId": "01348553246469964659"
     },
     "user_tz": -120
    },
    "id": "YDTVdvthBFWd",
    "outputId": "7d981cf4-bebc-4d84-bbae-04046e7355b7"
   },
   "outputs": [
    {
     "name": "stdout",
     "output_type": "stream",
     "text": [
      "PAGLOG [  0.   6. 248. 147. 280.   7.  93.  21.  62.  40.  53.  57. 289.  94.\n",
      " 315.  81. 253.  89.  91.  88.  96. 137. 330. 329. 112. 123. 124. 136.\n",
      " 139. 122. 142. 144. 192. 149. 151. 156. 155. 212. 143.   1. 163. 205.\n",
      " 165. 171. 164. 173. 177. 175. 178. 334. 179. 176.  87. 182. 186. 184.\n",
      " 183. 190. 170. 196. 198. 197. 267. 206. 213. 215. 216. 217. 218. 219.\n",
      " 222. 224. 225. 299. 233. 227. 332. 234. 266. 239. 241. 211. 244. 257.\n",
      " 247. 250. 252. 251. 231.]\n",
      "PAGMOD [2.000e+00 1.000e+00 2.200e+01 2.220e+02 1.110e+02 4.440e+02 3.000e+00\n",
      " 1.111e+03 9.900e+01 6.000e+00 1.100e+01 3.330e+02 4.000e+00 1.112e+03\n",
      " 1.000e+01 4.400e+01 1.120e+02 3.300e+01 9.000e+00 8.000e+00 2.222e+03\n",
      " 8.100e+01 0.000e+00]\n",
      "PAGDIA [ 0. 10. 21. 15. 20. 25. 30. 23.  5.  2. 22.  7. 28. 27.  1. 18. 16.  3.\n",
      " 13. 12.]\n",
      "PAGNNO [' ' '1' '0' 'O']\n",
      "PAGALB [ 1. 88.]\n",
      "PAGFAC [51. 10.  1.  3.  8.  6.  2.  9. 17. 16. 19. 18. 11.  7. 20. 21. 13. 99.\n",
      " 81. 39. 88.  0. 31. 30. 89. 40. 32. 37.]\n",
      "PAGPOF ['MADRID                          ' 'CANTOBLANCO                     '\n",
      " 'BARCELONA                       ' 'TRES CANTOS                     '\n",
      " 'MOLLET DEL VALLES               ' 'BENIFAIO                        '\n",
      " 'ROZAS DE MADRID, LAS            ' 'POZUELO DE ALARCON              '\n",
      " 'SAN SEBASTIAN DE LOS REYES      ' 'SEVILLA                         '\n",
      " 'LEGANES                         ' 'CABANILLAS DEL CAMPO            '\n",
      " 'CORNELLA DE LLOBREGAT           ' 'ALCOBENDAS                      '\n",
      " 'SANT CUGAT DEL VALLES           ' 'BILBAO                          '\n",
      " 'ARGANDA DEL REY                 ' 'GAVA                            '\n",
      " 'COSLADA                         ' 'PARQUE TECNOLOGICO (ZAMUDIO)    '\n",
      " 'TORRES DE LA ALAMEDA            ' 'SAN FERNANDO DE HENARES         '\n",
      " 'LEON                            ' 'AZUQUECA DE HENARES             '\n",
      " 'BADALONA                        ' 'OLESA DE MONTSERRAT             '\n",
      " 'VILANOVA I LA GELTRU            ' 'MALAGA                          '\n",
      " 'GRIÑON                          ' 'ABANTO Y CIERVANA               '\n",
      " 'TERRASSA                        ' 'SANT ESTEVE SESROVIRES          '\n",
      " 'LEIOA                           ' 'VALENCIA                        '\n",
      " 'TORREJON DE ARDOZ               ' 'ALCALA DE HENARES               '\n",
      " 'POLINYA                         ' 'SENTMENAT                       '\n",
      " 'SANT VICENÇ DELS HORTS          ' 'BOADILLA DEL MONTE              '\n",
      " 'CERDANYOLA DEL VALLES           ' 'BOECILLO                        '\n",
      " 'LAS ROZAS                       ' 'BARBERA DEL VALLES              '\n",
      " 'AVILA                           ' 'GRANOLLERS                      '\n",
      " \"L'AMETLLA DEL VALLES            \" 'LLANERA                         '\n",
      " 'FUENLABRADA                     ' 'LES FRANQUESES DEL VALLES       '\n",
      " 'SANTA MARGARIDA I ELS MONJOS    ' 'MAJADAHONDA                     '\n",
      " \"LLIÇA D'AMUNT                   \" 'GETAFE                          '\n",
      " 'SANTURTZI                       ' 'PATERNA                         '\n",
      " \"ALCORA, L'                      \" 'PUERTO DE SAGUNTO               '\n",
      " 'VIC                             ' 'PALMA DE MALLORCA               '\n",
      " 'CORUÑA, A                       ' 'MOS                             '\n",
      " '                                ' 'EL PRAT DE LLOBREGAT            '\n",
      " 'MARTORELLES                     ' 'ILLESCAS                        '\n",
      " 'GRAO                            ' 'SANT JOAN DESPI                 '\n",
      " 'OVIEDO                          ' 'BELLATERRA (CERDANYOLA  VALLES) '\n",
      " \"HOSPITALET DE LLOBREGAT, L'     \" 'CENTELLES                       '\n",
      " 'SANTIAGO DE COMPOSTELA          ' 'PAMPLONA                        '\n",
      " 'VITORIA                         ' 'ABRERA                          '\n",
      " 'ALDAIA                          ' 'MONTCADA I REIXAC               '\n",
      " 'MONTORNES DEL VALLES            ' 'PARETS DEL VALLES               '\n",
      " 'BURJASSOT                       ' 'SAN AGUSTIN DE GUADALIX         '\n",
      " 'CADIZ                           ' 'PUÇOL                           '\n",
      " 'REUS                            ' 'TOLEDO                          '\n",
      " 'LOIU                            ' 'VILLAVICIOSA DE ODON            '\n",
      " 'PAMPLONA / IRUÑA                ' 'DOSRIUS                         '\n",
      " 'SANT ADRIÀ DE BESÒS             ' 'CASTELAR DEL VALLES             '\n",
      " 'SANT CELONI                     ' 'DONOSTIA-SAN SEBASTIAN          '\n",
      " 'VILADECAVALLS                   ' 'PINTO                           '\n",
      " 'ALCORA                          ' 'SANTA CRUZ DE TENERIFE          '\n",
      " 'LAS PALMAS DE GRAN CANARIA      ' 'TARRAGONA                       '\n",
      " 'MURCIA                          ' 'SAN JUAN DE MORO                '\n",
      " 'SAN JUAN DE MORÓ                ' 'LA POBLA DE MAFUMET             '\n",
      " 'LLORENÇ DEL PENEDES             ' 'SANT JUST DESVERN               '\n",
      " 'ESPLUGUES DE LLOBREGAT          ' 'SANTURCE                        '\n",
      " 'OLOT                            ' 'CONSORCIO BAHIA DE CADIZ        '\n",
      " 'CARBALLEDA DE VALDEORRAS        ' 'MISLATA                         '\n",
      " 'SANTA PERPETUA DE LA MOGODA     ' 'SANT ANDREU DE LA BARCA         '\n",
      " 'SAN SEBASTIAN                   ' 'VILAFRANCA DEL PENEDES          '\n",
      " 'MOSTOLES                        ' 'LLIÇA DE VALL                   '\n",
      " 'VILASSAR DE MAR                 ' 'PORRIÑO                         '\n",
      " 'PARQUE EMPR. S. FERNANDO HENARES' 'SAN GINES                       '\n",
      " 'CASTELLBISBAL                   ' 'POLINYÀ                         '\n",
      " 'SANT BOI DE LLOBREGAT           ' 'MASANASA                        '\n",
      " 'SAN VICENTE DE ALCANTARA        ' 'VILASSAR DE DALT                '\n",
      " 'ZARAGOZA                        ' 'SELVA DEL CAMP, LA              '\n",
      " 'ARCHENA                         ' 'BENIPARRELL                     '\n",
      " 'MATARO                          ' 'CASTELLO DE LA PLANA            '\n",
      " 'VALLADOLID                      ' 'MARIN                           '\n",
      " 'GRANADA                         ' 'VIGO                            '\n",
      " 'EL MOLAR                        ' 'DERIO                           '\n",
      " 'RIBA-ROJA DE TURIA              ' 'ALZIRA                          '\n",
      " 'ARGAMASILLA DE ALBA             ' 'EL PLANTÍO                      '\n",
      " 'CALATAYUD                       ' 'AJANGIZ                         '\n",
      " 'ZAMUDIO                         ' 'VALLS                           '\n",
      " 'ESPARREGUERA                    ' 'SANTA MARIA DE GUIA             '\n",
      " 'SANT FELIU DE LLOBREGAT         ' 'ERANDIO                         '\n",
      " 'LA FLORIDA-MADRID               ' 'SAN CIPRIAN DE VIÑAS            '\n",
      " 'GETXO                           ' 'PALLEJA                         '\n",
      " 'ORENSE                          ' 'BAIÑA                           '\n",
      " 'SUBIRATS                        ' 'ST. ADRIA DEL BESOS             '\n",
      " 'MONTCADA I REIXACH              ' 'GERNIKA                         '\n",
      " 'HUMANES                         ' 'RIBARROJA DEL TURIA             '\n",
      " 'TARREGA                         ' 'OROPESA                         '\n",
      " \"LA SEU D'URGELL                 \" 'PARACUELLOS DEL JARAMA          '\n",
      " 'CAMPANILLAS                     ' 'ESPLUGES DE LLOBREGAT           '\n",
      " 'PICANYA                         ' 'SANTA PERPETUA MOGODA           '\n",
      " 'CELRA                           ' 'ESPARRAGUERA                    '\n",
      " 'ALMUSSAFES                      ' 'MIERES                          '\n",
      " 'IURRETA                         ' 'DURANGO                         '\n",
      " 'LAS ARENAS                      ' 'HOSPITALET DE LLOBREGAT         '\n",
      " 'PALMAS DE GRAN CANARIA, LAS     ' 'MUTILVA ALTA/MUTILOAGOITI       '\n",
      " 'CIRUELOS DE COCA                ' 'ALBERIC                         '\n",
      " 'PARETS DEL VALLÈS               ' 'LA CORUÑA                       '\n",
      " 'GALDAKAO                        ' 'YUNCLER                         '\n",
      " 'PORTUGALETE                     ' 'ZALDIBAR                        '\n",
      " 'ALIÓ                            ' 'RUBI                            '\n",
      " 'LA POBLA DE VALLBONA            ' 'ARGENTONA                       '\n",
      " 'MONTMELO                        ' 'MEJORADA DEL CAMPO              '\n",
      " 'ALICANTE                        ' 'CATARROJA                       '\n",
      " 'CARTUJA BAJA                    ' 'A CORUÑA                        '\n",
      " 'SUECA                           ' 'COLMENAR VIEJO                  '\n",
      " 'POBLA DE MAFUMET, LA            ' 'SORIA                           '\n",
      " 'MARTORELL                       ' 'ALDAYA                          '\n",
      " 'LES PRESES                      ' 'ABANTO                          '\n",
      " 'LLEIDA                          ' 'SANTA MARIA DE PALAUTORDERA     '\n",
      " 'QUART                           ' 'LAZCANO                         '\n",
      " 'DOS HERMANAS                    ' 'BENIDORM                        '\n",
      " 'GUADARRAMA                      ' 'SESTAO                          '\n",
      " 'IBI                             ' 'COGOLLUDO                       '\n",
      " 'VILAFAMES                       ' 'COBEÑA                          '\n",
      " 'MONTILLA                        ' 'GUADALAJARA                     '\n",
      " 'MOLINS DE REI                   ' 'DUEÑAS                          '\n",
      " 'SONDICA                         ' 'PARLA                           '\n",
      " 'SAN FERNANDO                    ' 'ALMUSAFES                       '\n",
      " 'BERGA                           ' 'ALCALA DE GUADAIRA              '\n",
      " 'MAÇANET DE LA SELVA             ' 'LAS MATAS                       '\n",
      " 'TERRASA                         ' 'SAN VICENTE DEL RASPEIG         '\n",
      " 'PRAT DE LLOBREGAT, EL           ' 'CORDOBA                         '\n",
      " 'LLODIO                          ' 'SAN FELIU DE LLOBREGAT          '\n",
      " 'VILAFRANCA DE PENEDES           ' 'VALDEMORILLO                    '\n",
      " 'FIGUERES                        ' 'BADAJOZ                         '\n",
      " 'SAN FERNANDO (MASPALOMAS)       ' 'URDULIZ                         '\n",
      " 'RAFELBUÑOL                      ' 'CARDONA                         '\n",
      " 'SUKARRIETA                      ' 'COLLADO VILLALBA                '\n",
      " 'LA LLAGOSTA                     ' 'XATIVA                          '\n",
      " 'LOECHES                         ' 'HUMANES DE MADRID               '\n",
      " 'CORNELLA DEL TERRI              ' 'EL PUIG                         '\n",
      " 'SANT CUGAT VALLES               ' 'CUENCA                          '\n",
      " 'LAS PALMAS                      ' 'GRANDA-SIERO                    '\n",
      " 'PARQUE TECNOLOGICO DE LLANERA   ' 'PORCEYO                         '\n",
      " 'VALLROMANES                     ' 'USURBIL                         '\n",
      " 'LAS ARENAS (GETXO)              ' 'CAMARMA DE ESTERUELAS           '\n",
      " 'SESEÑA NUEVO                    ' 'GIRONA                          '\n",
      " 'PALAU SOLITA I PLEGAMANS        ' 'SALINAS                         '\n",
      " 'ALPEDRETE                       ' 'ARTESA DE SEGRE                 '\n",
      " 'SONDIKA                         ' 'ALBACETE                        '\n",
      " 'ARMILLA                         ' 'PUZOL                           '\n",
      " 'PIERA                           ' 'OLVEGA                          '\n",
      " \"ATZENETA D'ALBAIDA              \" 'ULLDECONA                       '\n",
      " 'ALGETE                          ' 'ALFAJARIN                       '\n",
      " 'PARACUELLOS DE JARAMA           ' 'LOGROÑO                         '\n",
      " 'CHIVA                           ' 'SANTANDER                       '\n",
      " 'BELLATERRA                      ' 'BARAKALDO                       '\n",
      " 'SAN BOI DE LLOBREGAT            ' 'FORNELLS DE LA SELVA            '\n",
      " 'IGUALADA                        ' 'ALCANTARILLA                    '\n",
      " 'FLAÇA                           ' 'RIVAS-VACIAMADRID               '\n",
      " 'ALCORCON                        ' 'SANTPEDOR                       '\n",
      " 'PARIS                           ' 'OLIAS DEL REY                   '\n",
      " 'TALAVERA DE LA REINA            ' 'SABADELL                        '\n",
      " 'DAGANZO DE ARRIBA               ' 'AJALVIR                         '\n",
      " 'PLATAFORMA LOGISTICA PLAZA      ' 'CERDANYOLA DEL VALLÈS           '\n",
      " 'ARTEIXO                         ' 'RIVAS VACIAMADRID               '\n",
      " 'SAN JUAN DE ALICANTE            ' 'PEDROLA                         '\n",
      " 'EL PALMAR                       ' 'AMANCY                          '\n",
      " 'AMURRIO                         ' 'POLIGONO FUENTE DEL JARRO       '\n",
      " 'VILLANUEVA DE LA SERENA         ' 'MANRESA                         '\n",
      " 'ARRANKUDIAGA                    ' 'CIUDAD REAL                     '\n",
      " 'VILADECANS                      ' 'ESPLUGUES DEL LLOBREGAT         '\n",
      " 'TORREJON DE LA CALZADA          ' 'POBLA DE FARNALS                '\n",
      " 'BURLADA/BURLATA                 ' 'UNIVERSITAT AUTONOMA D BARCELONA'\n",
      " 'CARTUJA BAJA (ZARAGOZA)         ' 'ARTICA (PAMPLONA)               '\n",
      " 'SANTA COLOMA DE GRAMANET        ' 'PUERTO DE SANTA MARIA           '\n",
      " 'VILANOVA DEL CAMI               ' 'CULLEREDO                       '\n",
      " 'LA MORALEJA-ALCOBENDAS          ' 'TORRELODONES                    '\n",
      " 'TEIA                            ' 'LAS ROZAS DE MADRID             '\n",
      " 'ESQUIVIAS                       ' 'AMES                            '\n",
      " 'NAVALCARNERO                    ' 'VALDEMORO                       '\n",
      " 'MIÑANO                          ' 'SEGOVIA                         '\n",
      " 'QUART DE POBLET                 ' 'OLEIROS                         '\n",
      " 'LEPE                            ' 'HUARTE                          '\n",
      " 'CARLET                          ' 'RIUDECANYES                     '\n",
      " 'VILAMALLA                       ' 'CAUDETE                         '\n",
      " 'PONTEVEDRA                      ' 'BURGOS                          '\n",
      " 'GRANDA SIERO                    ' 'IRAIZOTZ                        '\n",
      " 'LA RINCONADA                    ' 'VILLARRUIBIO                    '\n",
      " 'ALMERIA                         ' 'SANT QUIRZE DEL VALLES          '\n",
      " 'TAMEIGA-MOS                     ' 'GIJON                           '\n",
      " 'LAUDIO/LLODIO                   ' 'SANTA PERPETUA                  '\n",
      " 'GALLARTA                        ' 'VILLANUEVA DEL PARDILLO         '\n",
      " 'EL MASNOU                       ' 'SAN ADRIAN                      '\n",
      " 'SAGUNTO                         ' 'U.CLUB CAMPOS.SEBSTIÁN D L REYES'\n",
      " 'PONFERRADA                      ' 'SANLUCAR DE BARRAMEDA           '\n",
      " 'LA JONQUERA                     ' 'SANT FELIU DE CODINES           '\n",
      " 'ABADIANO                        ' 'VILLAMAYOR                      '\n",
      " 'CORDOVILLA                      ' 'GUADALIX DE LA SIERRA           '\n",
      " 'GARRAY                          ' 'PALMA DE CERVELLO               '\n",
      " 'CONSUEGRA                       ' 'PAPIOL, EL                      '\n",
      " 'OLVAN                           ' 'MUSEROS                         '\n",
      " 'LLINARS DEL VALLES              ' \"L'HOSPITALET DE LLOBREGAT       \"\n",
      " 'ABADIÑO                         ' 'LALIN                           '\n",
      " 'BENETUSSER                      ' 'AZNALCOLLAR                     '\n",
      " 'CASTELLAR DEL VALLES            ' 'FALCES                          '\n",
      " 'AVINYÓ NOU                      ' 'ECIJA                           '\n",
      " 'PECHINA                         ' 'ELCHE                           '\n",
      " 'MADIRD                          ' 'ORKOIEN                         '\n",
      " 'SAN JAVIER                      ' 'TUDELA                          '\n",
      " 'ELORRIO                         ' 'LUGO                            '\n",
      " 'ARROYOMOLINOS                   ' 'ZUERA                           '\n",
      " 'FIGUERUELAS                     ' 'SANT FELIU DE GUIXOLS           '\n",
      " 'OLERDOLA                        ' 'MORATA DE TAJUÑA                '\n",
      " 'NUEVO BAZTAN                    ' 'CONSTANTI                       '\n",
      " 'TORRENTE                        ' 'PINEDA DE MAR                   '\n",
      " 'BLANES                          ' 'LAMETLLA DE MAR                 '\n",
      " 'CABRERA DE MAR                  ' 'CASTELLON                       '\n",
      " 'RIPOLLET                        ' 'EJEA DE LOS CABALLEROS          '\n",
      " 'PUERTO REAL                     ' 'HUELVA                          '\n",
      " 'MORON DE LA FRONTERA            ' 'SANTA PERPETUA DE MOGODA        '\n",
      " 'Bruxelles                       ' 'VILLAREJO DE SALVANES           '\n",
      " 'SESEÑA VIEJO                    ' 'YUNQUERA DE HENARES             '\n",
      " 'PUIG-REIG                       ' 'ANDOIAN                         '\n",
      " 'PUERTO DE SANTAMARIA            ' 'VILABLAREIX                     '\n",
      " 'CUEVAS DEL ALMANZORA            ' 'AMOREBIETA-ETXANO               '\n",
      " 'TELDE                           ' 'VILLAMURIEL DE CERRATO          '\n",
      " 'IRUN                            ' 'VELILLA DE SAN ANTONIO          '\n",
      " 'LIRIA                           ' 'MECO                            '\n",
      " 'VENTA DE BAÑOS                  ' 'POGGIBONSI                      '\n",
      " 'MIÑANO MAYOR                    ' 'CORELLA                         '\n",
      " 'MORA                            ' 'BARBASTRO                       '\n",
      " 'COLLADO MEDIANO                 ' 'AEROPUERTO REINA SOFIA          '\n",
      " 'IGORRE                          ' 'SARIÑENA                        '\n",
      " 'ISLA DE CANELA                  ' 'GARRIGA, LA                     '\n",
      " 'OÑATI                           ' 'TACO                            '\n",
      " 'MONTGAT                         ' 'SAN LORENZO DE EL ESCORIAL      '\n",
      " 'SANT VICENT DEL RASPEIG         ' 'TORRENT                         '\n",
      " 'GALAPAGAR                       ' 'SILLA                           '\n",
      " 'SAN AGUSTIN DEL GUADALIX        ' 'MUNGIA                          '\n",
      " 'SANT FOST DE CAMPSENTELLES      ' 'BUÑOL                           '\n",
      " 'POLIGONO INDUSTRIAL LAS ATALAYAS' 'RETAMAR                         '\n",
      " 'ELGOIBAR                        ' 'SOUTHAMPTON                     '\n",
      " 'MELENARA                        ' 'VITORIA-GASTEIZ                 '\n",
      " 'POLIGONO INDUSTRIAL ALCOBENDAS  ' 'VICAR                           '\n",
      " 'ESCORIAL, EL                    ' 'ALMENARA                        '\n",
      " 'BETANZOS                        ' 'BUSOT                           '\n",
      " 'GADOR                           ' 'INGENIO (SANTA MARIA DE GUIA)   '\n",
      " 'MORADITAS, LAS (ADEJE)          ' 'CADRETE                         '\n",
      " 'CARTAGENA                       ' 'SANLUCAR LA MAYOR               '\n",
      " 'CIUDALCAMPO                     ' 'PUERTOLLANO                     '\n",
      " 'BARCENA, LA (SAN FELICES BUELNA)' 'OLIVERAL, DEL (MASIA)           '\n",
      " 'LLANO DEL MORO                  ' 'CARBALLIÑO, O                   '\n",
      " 'CAMPANARIO                      ' 'PERATALLADA                     '\n",
      " 'NARON                           ' 'FRANQUESES DEL VALLES, LES      '\n",
      " 'OLIVA                           ' 'CEUTA                           '\n",
      " 'PALAU-SOLITA I PLEGAMANS        ' 'BAILEN                          '\n",
      " 'SANT FRUITOS DE BAGES           ' 'ARAZURI                         '\n",
      " 'PALMA DE CERVELLO, LA           ' 'PARQUE TEC. SAN CIBRAO DAS VIÑAS'\n",
      " 'SITGES                          ' 'ARONA                           '\n",
      " 'REBOREDO (SAN CIBRAO DAS VIÑAS) ' 'ARINAGA                         '\n",
      " 'VILA-REAL/VILLARREAL            ' 'JAEN                            '\n",
      " 'AVILES                          ' 'ONDA                            '\n",
      " 'JEREZ DE LA FRONTERA            ' 'TAVERNES DE LA VALLDIGNA        '\n",
      " 'ARTEIXO (CASCO URBANO)          ' 'ALDEA DEL FRESNO                '\n",
      " 'CANOVELLES                      ' 'ADEJE CASCO                     '\n",
      " 'MARBELLA                        ' 'VALVERDE DEL MAJANO             '\n",
      " 'VILA-SECA                       ' 'PINO, O                         '\n",
      " 'CERVELLO                        ' 'FUENTE EL SAZ DE JARAMA         '\n",
      " 'FRANKFURT                       ' 'CASTALLA                        '\n",
      " 'HUERCAL DE ALMERIA              ' 'ROCA DEL VALLES, LA             '\n",
      " 'ODENA                           ' 'SARRIGUREN                      '\n",
      " 'FUSTIÑANA                       ' 'SAN CRISTOBAL DE LA LAGUNA      '\n",
      " 'HUARTE/UHARTE                   ' 'CREVILLENT                      '\n",
      " 'ESPINARDO                       ' 'SALAMANCA                       '\n",
      " 'LLAGOSTA, LA                    ' 'ARRECIFE                        '\n",
      " 'TARAJAL, EL                     ' 'TORREVIEJA                      '\n",
      " 'TORQUEMADA                      ' 'RINCONADA, LA                   '\n",
      " 'VILCHES                         ' 'PASAI ANTXO                     '\n",
      " 'CASAR, EL                       ' 'SEVILLA LA NUEVA                '\n",
      " 'SAN MARTIN DE LA VEGA           ' 'GRANADILLA (POLIGONO INDUSTRIAL)'\n",
      " 'VILLANUEVA DE LA CAÑADA         ' 'TORREMOLINOS                    '\n",
      " 'CARBALLEIRA, A (LOURIZAN)       ' 'MARIN (CASCO URBANO)            '\n",
      " 'TORTOSA                         ' 'CHAUCHINA                       '\n",
      " 'AGRAMUNT                        ' 'Offenbach                       '\n",
      " 'CASTELLDEFELS                   ' 'LUCENA                          '\n",
      " 'PORRIÑO, O (CASCO URBANO)       ' 'ARAFO                           '\n",
      " 'BRUNETE                         ' 'CAMPO REAL                      '\n",
      " 'SALLENT                         ' 'FUENTES DE EBRO                 '\n",
      " 'NAPOLI                          ' 'SOTIELLO (GIJON)                '\n",
      " 'SANT ADRIA DE BESOS             ' 'CAZALEGAS (PUEBLO)              '\n",
      " 'OTXANDIO                        ' 'LEGAZPI                         '\n",
      " 'ARRASATE/MONDRAGON              ' 'MOLAR, EL                       '\n",
      " 'VALENCINA DE LA CONCEPCION      ' 'MOAÑA (CASCO URBANO)            '\n",
      " \"ALFÀS DEL PI, L'                \" \"SANT JOAN D'ALACANT             \"\n",
      " 'SANT JOAN DE MORO               ' 'CIEMPOZUELOS                    '\n",
      " 'ONDARROA                        ' 'MUSKIZ                          '\n",
      " 'TORRELAVIT                      ' 'FOMPEDRAZA                      '\n",
      " 'GENNEVILLIERS                   ' 'VALLE DE TRAPAGA                '\n",
      " 'TAMEIGA (SAN MARTIÑO)           ' 'PARQUE EMPRESARIAL LA MORALEJA  '\n",
      " \"PALAU D'ANGLESOLA, EL           \" 'BARRI MARITIM DEL FRANCAS       '\n",
      " 'ORDIZIA                         ' 'BURGUILLOS                      '\n",
      " 'CIZUR MENOR                     ' 'BENICASIM                       '\n",
      " 'ALHAMA DE MURCIA                ' 'MARCHENA                        '\n",
      " 'TORRES DE COTILLAS, LAS         ' 'BULLAS                          '\n",
      " 'JUMILLA                         ' 'ROBLEDO                         '\n",
      " 'EL CAMPELLO                     ' 'CAMAS                           '\n",
      " 'SAGUNT/SAGUNTO                  ' 'PANCORBO                        '\n",
      " 'CUARTE                          ' 'LLERS                           '\n",
      " '08010                           ' 'GALAR                           '\n",
      " 'MARCHAMALO                      ' 'MOLINA DEL SEGURA               '\n",
      " 'EL ROSARIO                      ' 'VILLALUENGA DE LA SAGRA         '\n",
      " 'FELANITX                        ' 'BOROX                           '\n",
      " 'CORNELLÀ DE LLOBREGAT           ' 'SOBRADELO (CARBALLEDA)          '\n",
      " 'AIZOAIN                         ' 'SANTO DOMINGO DE LA CALZADA     '\n",
      " 'MONCADA                         ' 'POLIGONO INDUSTRIAL CABEZO BEAZA'\n",
      " 'VIZCAYA                         ' 'TALAVERA LA REAL                '\n",
      " 'ALBATARREC                      ' 'OSORNO                          '\n",
      " 'BECERRIL DE LA SIERRA           ' 'VILAGARCIA DE AROUSA            '\n",
      " 'A POBRA DO CARAMIÑAL            ' 'SANT PERE DE RIUDEBITLLES       '\n",
      " 'MASSAMAGRELL                    ' 'SANT JAUME DE LLIERCA           '\n",
      " 'CORRALES DE BUELNA, LOS         ' 'CERVERA                         '\n",
      " 'TORTELLA                        ' 'MACANET DE LA SELVA             '\n",
      " 'SAN JUAN MOZARRIFAR             ' 'GELIDA                          '\n",
      " 'HOSPITALET DE LLOBREGAT, L      ' 'RIUDELLOTS DE LA SELVA          '\n",
      " 'L HOSPITALET DE LLOBREGAT       ' 'EL PUERTO DE SANTA MARIA        '\n",
      " 'SANT MIQUEL DE BALENYA-SEVA     ' 'ALCALÁ DE HENARES               '\n",
      " 'BANYOLES                        ' 'PORQUERES                       '\n",
      " 'GOLMAYO                         ' 'CÓRDOBA                         '\n",
      " 'VERIN                           ' 'FELECHOSA-ALLER                 '\n",
      " 'LOJA                            ' 'CARIÑENA                        '\n",
      " 'PRESES, LES                     ' 'LA GARRIGA                      '\n",
      " 'SAHUN                           ' 'NAJERA                          '\n",
      " 'PALMA DE GRAN CANARIA           ']\n",
      "PAGPRF ['MADRID                          ' 'BARCELONA                       '\n",
      " 'VALENCIA                        ' 'SEVILLA                         '\n",
      " 'GUADALAJARA                     ' 'VIZCAYA                         '\n",
      " 'LEON                            ' 'MALAGA                          '\n",
      " 'VALLADOLID                      ' 'ÁVILA                           '\n",
      " 'ASTURIAS                        ' 'CASTELLON                       '\n",
      " 'PALMA DE MALLORCA               ' 'CORUÑA, A                       '\n",
      " 'PONTEVEDRA                      ' '                                '\n",
      " 'TOLEDO                          ' 'NAVARRA                         '\n",
      " 'ALAVA                           ' 'CADIZ                           '\n",
      " 'TARRAGONA                       ' 'GUIPUZCOA                       '\n",
      " 'Madrid                          ' 'SANTA CRUZ DE TENERIFE          '\n",
      " 'LAS PALMAS                      ' 'MURCIA                          '\n",
      " 'BILBAO                          ' 'GIRONA                          '\n",
      " 'OURENSE                         ' 'BADAJOZ                         '\n",
      " 'ZARAGOZA                        ' 'GRAN CANARIA                    '\n",
      " 'GRANADA                         ' 'CIUDAD REAL                     '\n",
      " 'LAS PALMAS DE GRAN CANARIA      ' 'LLEIDA                          '\n",
      " 'LERIDA                          ' 'SEGOVIA                         '\n",
      " 'CORUÑA                          ' 'ALICANTE                        '\n",
      " 'SORIA                           ' 'AVILA                           '\n",
      " 'CORDOBA                         ' 'PALENCIA                        '\n",
      " 'ISLAS BALEARES                  ' 'GERONA                          '\n",
      " 'CUENCA                          ' 'ALBACETE                        '\n",
      " 'LA CORUÑA                       ' 'LA RIOJA                        '\n",
      " 'CANTABRIA                       ' 'ILLES BALEARS                   '\n",
      " 'FRANCIA                         ' 'A CORUÑA                        '\n",
      " 'FRANCE                          ' 'BALEARES                        '\n",
      " 'HUELVA                          ' 'BURGOS                          '\n",
      " 'PUERTO REAL                     ' 'ALMERIA                         '\n",
      " 'LEÓN                            ' 'CÓRDOBA                         '\n",
      " 'SALAMANCA                       ' 'LUGO                            '\n",
      " 'CÁDIZ                           ' 'ALMERÍA                         '\n",
      " 'MÁLAGA                          ' 'SIENA                           '\n",
      " 'HUESCA                          ' 'ENGLAND                         '\n",
      " 'CEUTA                           ' 'JAEN                            '\n",
      " 'DP INCORRECTO                   ' 'Germany                         '\n",
      " 'PARIS                           ' 'CASTELLO DE LA PLANA            ']\n",
      "PAGCOM [5.000e-01 0.000e+00 2.000e+00 1.000e+00 1.850e+00 1.500e+00 3.750e+00\n",
      " 9.995e+01 3.500e+00 1.250e+00 3.000e-01 3.000e+00 1.750e+00 7.500e-01\n",
      " 3.250e+00 1.700e+00 4.000e-01 2.500e+00 9.994e+01 1.600e+00 9.500e-01\n",
      " 4.000e+00 2.750e+00 3.200e+00 2.450e+00 8.000e-01 5.000e+00 2.250e+00\n",
      " 9.999e+01 3.095e+01 4.950e+00 2.700e+00 1.100e+00 2.500e-01 1.690e+00\n",
      " 4.250e+00 9.997e+01 4.750e+00 4.850e+00 2.200e+00 8.500e-01 2.850e+00\n",
      " 1.350e+00 4.500e+00 3.450e+00 3.700e+00 6.000e+01 4.100e+00 4.095e+01\n",
      " 9.996e+01 1.450e+00 6.000e+00 4.700e+00 7.000e+00 4.150e+00 2.350e+00\n",
      " 2.300e+00 5.500e+00 1.400e+00 1.300e+00 1.200e+00 3.600e+00 9.000e-01\n",
      " 4.800e+00 2.100e+00 2.600e+00 1.900e+00 7.000e-01 2.000e-01 4.600e+00\n",
      " 1.650e+00 3.350e+00 1.800e+00 2.600e-01 5.200e+01 5.000e+01 1.950e+00\n",
      " 5.100e+01 3.300e+00 2.510e+00 2.760e+00 4.500e-01 2.400e+00 6.500e-01\n",
      " 8.095e+01 3.950e+00 9.993e+01 3.500e-01 5.250e+00 3.850e+00 3.100e+00\n",
      " 3.400e+00 2.900e+00 6.000e-01 2.950e+00 1.150e+00 3.900e+00 1.000e-02\n",
      " 9.992e+01]\n",
      "PAGFIJ [  2.     0.     4.   150.   200.    75.   166.66 750.   125.   100.\n",
      "  33.33  50.    66.67  41.67  66.66  12.41  30.   300.   250.   183.\n",
      "  62.5   53.33  90.    10.    42.5  134.16 260.  ]\n",
      "PAGTRA [  0.     5.     6.     8.     3.01  10.     4.   128.    88.     3.\n",
      "   1.25  70.     4.01  36.    15.     3.5    9.    26.     2.5    2.\n",
      "   7.  ]\n",
      "PAGVEN [86. 44. 99. 85. 95. 93. 68. 33. 58. 94. 66. 83. 64. 88. 50. 14. 92. 11.\n",
      " 46. 39. 65. 76. 48. 87. 91. 38. 90. 37. 49.  1. 43. 67. 72.]\n",
      "PAGDEU [0.000000e+00 9.000000e+03 4.000000e+04 5.300000e+03 4.500000e+04\n",
      " 5.000000e+04 1.752000e+03 1.000000e+03 6.500000e+03 1.700000e+03\n",
      " 1.600000e+03 5.000000e+02 1.150000e+03 2.000000e+03 6.700000e+02\n",
      " 1.500000e+03 5.460000e+01 5.500000e+01 1.000000e+00 5.000000e+01\n",
      " 1.046000e+02 1.626000e+02 7.876600e+02 2.972000e+02 1.200000e+03\n",
      " 4.755000e+02 1.848440e+03 7.109400e+02 1.137500e+03 1.322344e+04\n",
      " 1.279000e+03 1.279690e+03 2.353000e+03 3.900000e+02 3.536000e+03\n",
      " 7.437000e+03 8.450000e+02 1.000000e+02 1.523750e+03 2.000000e+02\n",
      " 3.000000e+02 1.300000e+03 3.000000e+03]\n",
      "PAGPER [ 1. 98. 99.  2.  4.  0.  3.  6.  5. 12. 89. 11. 88. 95.]\n"
     ]
    }
   ],
   "source": [
    "# Check the unique values in the columns that are of my interest in order to see the data and the quality of the data.\n",
    "for i in df_client_clean.drop(['PAGFEC','PAGCLI','PAGGRU','PAGCIF'],axis=1).columns:\n",
    "  print(i,df_client_clean[i].unique())"
   ]
  },
  {
   "cell_type": "code",
   "execution_count": null,
   "metadata": {
    "id": "uwqObYIe8lN6"
   },
   "outputs": [],
   "source": [
    "# 1. Remove duplicated client records, only leave the latest record.\n",
    "df_client_clean = df_client_clean.sort_values('PAGFEC')\n",
    "df_client_clean.drop_duplicates(subset=['PAGCLI'],keep='last',inplace=True) #Now only 6191 unique users are in the dataset.\n",
    "\n",
    "# 2. Change/correct data format\n",
    "# change dtype to integers\n",
    "df_client_clean[['PAGCLI','PAGLOG','PAGMOD','PAGDIA','PAGVEN','PAGPER','PAGGRU','PAGFAC']] = df_client_clean[['PAGCLI','PAGLOG','PAGMOD','PAGDIA','PAGVEN','PAGPER','PAGGRU','PAGFAC']].astype(int)\n",
    "\n",
    "# remove blank spaces in string variables\n",
    "df_client_clean['PAGPOF'] = df_client_clean['PAGPOF'].str.strip()\n",
    "df_client_clean['PAGPRF'] = df_client_clean['PAGPRF'].str.strip()\n",
    "df_client_clean['PAGPOF'].replace('',np.nan, inplace=True)\n",
    "df_client_clean['PAGPRF'].replace('',np.nan, inplace=True)\n",
    "df_client_clean['PAGNNO'].replace(' ',np.nan, inplace=True)\n",
    "\n",
    "# replace value 88 with 0 in column 'PAGALB'\n",
    "df_client_clean['PAGALB'] = df_client_clean['PAGALB'].replace(88,0).astype(int)\n",
    "\n",
    "# 3. Reformat time series variables.\n",
    "df_client_clean['PAGFEC'] = df_client_clean['PAGFEC'].astype(int).astype(str)\n",
    "df_client_clean['PAGFEC'] = pd.to_datetime(df_client_clean.PAGFEC, yearfirst=True,infer_datetime_format=True,errors='coerce')"
   ]
  },
  {
   "cell_type": "code",
   "execution_count": null,
   "metadata": {
    "id": "s2K7EyS2Okcz"
   },
   "outputs": [],
   "source": [
    "# 4. Missing values\n",
    "\n",
    "# 96% of the values in column 'PAGNNO' are blank, so I'll remove this column.\n",
    "df_client_clean.drop('PAGNNO',axis=1,inplace=True)\n",
    "\n",
    "# 6 missing values in both columns 'PAGPOF','PAGPRF' will be replaced by the mode value of both columns 'MADRID'\n",
    "df_client_clean[['PAGPOF','PAGPRF']] = df_client_clean[['PAGPOF','PAGPRF']].fillna('MADRID')"
   ]
  },
  {
   "cell_type": "code",
   "execution_count": null,
   "metadata": {
    "colab": {
     "base_uri": "https://localhost:8080/"
    },
    "executionInfo": {
     "elapsed": 107496,
     "status": "ok",
     "timestamp": 1620980484071,
     "user": {
      "displayName": "Yijie Hsieh",
      "photoUrl": "",
      "userId": "01348553246469964659"
     },
     "user_tz": -120
    },
    "id": "zOaSSAsrXKHi",
    "outputId": "64287755-4cf9-4622-8c3e-cf9901a4687d"
   },
   "outputs": [
    {
     "name": "stdout",
     "output_type": "stream",
     "text": [
      "<class 'pandas.core.frame.DataFrame'>\n",
      "Int64Index: 6191 entries, 2 to 7330\n",
      "Data columns (total 17 columns):\n",
      " #   Column  Non-Null Count  Dtype         \n",
      "---  ------  --------------  -----         \n",
      " 0   PAGCLI  6191 non-null   int64         \n",
      " 1   PAGLOG  6191 non-null   int64         \n",
      " 2   PAGMOD  6191 non-null   int64         \n",
      " 3   PAGDIA  6191 non-null   int64         \n",
      " 4   PAGGRU  6191 non-null   int64         \n",
      " 5   PAGALB  6191 non-null   int64         \n",
      " 6   PAGFAC  6191 non-null   int64         \n",
      " 7   PAGPOF  6191 non-null   object        \n",
      " 8   PAGPRF  6191 non-null   object        \n",
      " 9   PAGFEC  6191 non-null   datetime64[ns]\n",
      " 10  PAGCOM  6191 non-null   float64       \n",
      " 11  PAGFIJ  6191 non-null   float64       \n",
      " 12  PAGTRA  6191 non-null   float64       \n",
      " 13  PAGVEN  6191 non-null   int64         \n",
      " 14  PAGDEU  6191 non-null   float64       \n",
      " 15  PAGCIF  6191 non-null   object        \n",
      " 16  PAGPER  6191 non-null   int64         \n",
      "dtypes: datetime64[ns](1), float64(4), int64(9), object(3)\n",
      "memory usage: 870.6+ KB\n"
     ]
    }
   ],
   "source": [
    "# Double check if the format is correctly adjusted.\n",
    "df_client_clean.info()"
   ]
  },
  {
   "cell_type": "markdown",
   "metadata": {
    "id": "azT27W6SkaKO"
   },
   "source": [
    "### Sales Dataset Overview"
   ]
  },
  {
   "cell_type": "code",
   "execution_count": null,
   "metadata": {
    "id": "vFldUdVYgiHz"
   },
   "outputs": [],
   "source": [
    "df_sales = pd.read_csv('/content/drive/MyDrive/TFM/0_PythonScript/sales.csv')"
   ]
  },
  {
   "cell_type": "code",
   "execution_count": null,
   "metadata": {
    "colab": {
     "base_uri": "https://localhost:8080/",
     "height": 240
    },
    "executionInfo": {
     "elapsed": 110457,
     "status": "ok",
     "timestamp": 1620980487053,
     "user": {
      "displayName": "Yijie Hsieh",
      "photoUrl": "",
      "userId": "01348553246469964659"
     },
     "user_tz": -120
    },
    "id": "RQ34eb-6kXgl",
    "outputId": "c855c518-512d-4232-c695-44a9ebb6d2a8"
   },
   "outputs": [
    {
     "data": {
      "text/html": [
       "<div>\n",
       "<style scoped>\n",
       "    .dataframe tbody tr th:only-of-type {\n",
       "        vertical-align: middle;\n",
       "    }\n",
       "\n",
       "    .dataframe tbody tr th {\n",
       "        vertical-align: top;\n",
       "    }\n",
       "\n",
       "    .dataframe thead th {\n",
       "        text-align: right;\n",
       "    }\n",
       "</style>\n",
       "<table border=\"1\" class=\"dataframe\">\n",
       "  <thead>\n",
       "    <tr style=\"text-align: right;\">\n",
       "      <th></th>\n",
       "      <th>Unnamed: 0</th>\n",
       "      <th>FACNUM</th>\n",
       "      <th>FACFEC</th>\n",
       "      <th>FACBRU</th>\n",
       "      <th>FACCOM</th>\n",
       "      <th>FACIVA</th>\n",
       "      <th>FACNET</th>\n",
       "      <th>FACEST</th>\n",
       "      <th>FACPAG</th>\n",
       "      <th>FACCLI</th>\n",
       "      <th>FACENV</th>\n",
       "      <th>FACPTS</th>\n",
       "      <th>FACTRA</th>\n",
       "      <th>FACPCO</th>\n",
       "      <th>FACPIV</th>\n",
       "      <th>FACTFA</th>\n",
       "      <th>FACINT</th>\n",
       "      <th>FACMOD</th>\n",
       "      <th>FACNPC</th>\n",
       "    </tr>\n",
       "  </thead>\n",
       "  <tbody>\n",
       "    <tr>\n",
       "      <th>0</th>\n",
       "      <td>0</td>\n",
       "      <td>5500062</td>\n",
       "      <td>20151130.0</td>\n",
       "      <td>119.9</td>\n",
       "      <td>-6.0</td>\n",
       "      <td>-1.26</td>\n",
       "      <td>112.64</td>\n",
       "      <td>20151230.0</td>\n",
       "      <td>19671231.0</td>\n",
       "      <td>30081.0</td>\n",
       "      <td>0.0</td>\n",
       "      <td>0.0</td>\n",
       "      <td>0.0</td>\n",
       "      <td>-5.0</td>\n",
       "      <td>21.0</td>\n",
       "      <td>81.0</td>\n",
       "      <td>1.0</td>\n",
       "      <td>222.0</td>\n",
       "      <td></td>\n",
       "    </tr>\n",
       "    <tr>\n",
       "      <th>1</th>\n",
       "      <td>1</td>\n",
       "      <td>L500139</td>\n",
       "      <td>20201030.0</td>\n",
       "      <td>18550.0</td>\n",
       "      <td>0.0</td>\n",
       "      <td>0.00</td>\n",
       "      <td>18550.00</td>\n",
       "      <td>20201030.0</td>\n",
       "      <td>0.0</td>\n",
       "      <td>13290.0</td>\n",
       "      <td>0.0</td>\n",
       "      <td>0.0</td>\n",
       "      <td>0.0</td>\n",
       "      <td>0.0</td>\n",
       "      <td>21.0</td>\n",
       "      <td>1.0</td>\n",
       "      <td>1.0</td>\n",
       "      <td>1111.0</td>\n",
       "      <td></td>\n",
       "    </tr>\n",
       "    <tr>\n",
       "      <th>2</th>\n",
       "      <td>2</td>\n",
       "      <td>E500047</td>\n",
       "      <td>20201030.0</td>\n",
       "      <td>682.5</td>\n",
       "      <td>0.0</td>\n",
       "      <td>143.33</td>\n",
       "      <td>825.83</td>\n",
       "      <td>20201030.0</td>\n",
       "      <td>0.0</td>\n",
       "      <td>13290.0</td>\n",
       "      <td>0.0</td>\n",
       "      <td>0.0</td>\n",
       "      <td>0.0</td>\n",
       "      <td>0.0</td>\n",
       "      <td>21.0</td>\n",
       "      <td>1.0</td>\n",
       "      <td>0.0</td>\n",
       "      <td>1111.0</td>\n",
       "      <td></td>\n",
       "    </tr>\n",
       "    <tr>\n",
       "      <th>3</th>\n",
       "      <td>3</td>\n",
       "      <td>E500018</td>\n",
       "      <td>20161017.0</td>\n",
       "      <td>741.0</td>\n",
       "      <td>0.0</td>\n",
       "      <td>0.00</td>\n",
       "      <td>741.00</td>\n",
       "      <td>20161017.0</td>\n",
       "      <td>19671231.0</td>\n",
       "      <td>13290.0</td>\n",
       "      <td>0.0</td>\n",
       "      <td>0.0</td>\n",
       "      <td>0.0</td>\n",
       "      <td>0.0</td>\n",
       "      <td>21.0</td>\n",
       "      <td>1.0</td>\n",
       "      <td>1.0</td>\n",
       "      <td>1111.0</td>\n",
       "      <td></td>\n",
       "    </tr>\n",
       "    <tr>\n",
       "      <th>4</th>\n",
       "      <td>4</td>\n",
       "      <td>L500026</td>\n",
       "      <td>20161017.0</td>\n",
       "      <td>20140.0</td>\n",
       "      <td>0.0</td>\n",
       "      <td>0.00</td>\n",
       "      <td>20140.00</td>\n",
       "      <td>20161017.0</td>\n",
       "      <td>19671231.0</td>\n",
       "      <td>13290.0</td>\n",
       "      <td>0.0</td>\n",
       "      <td>0.0</td>\n",
       "      <td>0.0</td>\n",
       "      <td>0.0</td>\n",
       "      <td>21.0</td>\n",
       "      <td>1.0</td>\n",
       "      <td>1.0</td>\n",
       "      <td>1111.0</td>\n",
       "      <td></td>\n",
       "    </tr>\n",
       "  </tbody>\n",
       "</table>\n",
       "</div>"
      ],
      "text/plain": [
       "   Unnamed: 0    FACNUM      FACFEC  ...  FACINT  FACMOD           FACNPC\n",
       "0           0  5500062   20151130.0  ...     1.0   222.0                 \n",
       "1           1  L500139   20201030.0  ...     1.0  1111.0                 \n",
       "2           2  E500047   20201030.0  ...     0.0  1111.0                 \n",
       "3           3  E500018   20161017.0  ...     1.0  1111.0                 \n",
       "4           4  L500026   20161017.0  ...     1.0  1111.0                 \n",
       "\n",
       "[5 rows x 19 columns]"
      ]
     },
     "execution_count": 26,
     "metadata": {
      "tags": []
     },
     "output_type": "execute_result"
    }
   ],
   "source": [
    "# Have the first glance of the client dataset\n",
    "df_sales.head()"
   ]
  },
  {
   "cell_type": "code",
   "execution_count": null,
   "metadata": {
    "colab": {
     "base_uri": "https://localhost:8080/"
    },
    "executionInfo": {
     "elapsed": 522,
     "status": "ok",
     "timestamp": 1620982912922,
     "user": {
      "displayName": "Yijie Hsieh",
      "photoUrl": "",
      "userId": "01348553246469964659"
     },
     "user_tz": -120
    },
    "id": "w4hFnmzUHDso",
    "outputId": "5bd1fc73-082c-4c0e-93eb-cd699a383631"
   },
   "outputs": [
    {
     "data": {
      "text/plain": [
       "(500074, 19)"
      ]
     },
     "execution_count": 65,
     "metadata": {
      "tags": []
     },
     "output_type": "execute_result"
    }
   ],
   "source": [
    "df_sales.shape"
   ]
  },
  {
   "cell_type": "code",
   "execution_count": null,
   "metadata": {
    "colab": {
     "base_uri": "https://localhost:8080/"
    },
    "executionInfo": {
     "elapsed": 110444,
     "status": "ok",
     "timestamp": 1620980487054,
     "user": {
      "displayName": "Yijie Hsieh",
      "photoUrl": "",
      "userId": "01348553246469964659"
     },
     "user_tz": -120
    },
    "id": "738d-etdk4bD",
    "outputId": "2aaa0c1b-e0c5-440a-ecbe-3989e788e38b"
   },
   "outputs": [
    {
     "data": {
      "text/plain": [
       "Index(['Unnamed: 0', 'FACNUM', 'FACFEC', 'FACBRU', 'FACCOM', 'FACIVA',\n",
       "       'FACNET', 'FACEST', 'FACPAG', 'FACCLI', 'FACENV', 'FACPTS', 'FACTRA',\n",
       "       'FACPCO', 'FACPIV', 'FACTFA', 'FACINT', 'FACMOD', 'FACNPC'],\n",
       "      dtype='object')"
      ]
     },
     "execution_count": 27,
     "metadata": {
      "tags": []
     },
     "output_type": "execute_result"
    }
   ],
   "source": [
    "df_sales.columns"
   ]
  },
  {
   "cell_type": "markdown",
   "metadata": {
    "id": "PvixS4Qqk2uk"
   },
   "source": [
    "#### Variable Types\n",
    "**Categorical variables:** \n",
    "- FACNUM: Invoice number\n",
    "- FACCLI: Client code\n",
    "- FACMOD: Payment Type\n",
    "- FACNPC: Billing notes, should remove this column.\n",
    "\n",
    "\n",
    "**Numerical variables:**\n",
    "- FACBRU: Subtotal sales value\n",
    "- FACCOM: Commission\n",
    "- FACIVA: IVA (tax)\n",
    "- FACNET: Total sales value (FACBRU + FACCOM + IVA)\n",
    "- FACENV: ?\n",
    "- FACPTS: ?\n",
    "- FACTRA: Shipping Cost\n",
    "- FACPCO: Commission %\n",
    "- FACPIV: IVA %, always 21% so should remove this column.\n",
    "- FACTFA: ?\n",
    "- FACINT: ?\n",
    "\n",
    "\n",
    "**DateTime variables:**\n",
    "- FACFEC: Billing Date\n",
    "- FACEST: TBC, will remove it for now.\n",
    "- PACPAG: Payment Date (TBC), will remove it for now.\n",
    "\n"
   ]
  },
  {
   "cell_type": "markdown",
   "metadata": {
    "id": "7DYDzPLgwugq"
   },
   "source": [
    "Now I'll remove the columns that are not of our interests:"
   ]
  },
  {
   "cell_type": "code",
   "execution_count": null,
   "metadata": {
    "id": "HsFk7d0Lkh22"
   },
   "outputs": [],
   "source": [
    "df_sales_clean = df_sales.drop(['FACNPC','Unnamed: 0','FACPIV', 'FACEST','FACPAG'],axis=1)"
   ]
  },
  {
   "cell_type": "markdown",
   "metadata": {
    "id": "TlRodMlfxPen"
   },
   "source": [
    "#### Data Visualization"
   ]
  },
  {
   "cell_type": "markdown",
   "metadata": {
    "id": "ERE7tEnNxXgP"
   },
   "source": [
    "Numerical Variables:"
   ]
  },
  {
   "cell_type": "code",
   "execution_count": null,
   "metadata": {
    "id": "BeNXTdUsxCED"
   },
   "outputs": [],
   "source": [
    "# Select columns that are of my interest:\n",
    "var_num = ['FACBRU','FACCOM','FACIVA','FACNET','FACENV', 'FACPTS','FACTRA','FACPCO','FACTFA','FACINT']"
   ]
  },
  {
   "cell_type": "code",
   "execution_count": null,
   "metadata": {
    "colab": {
     "base_uri": "https://localhost:8080/",
     "height": 1000
    },
    "executionInfo": {
     "elapsed": 127339,
     "status": "ok",
     "timestamp": 1620980503976,
     "user": {
      "displayName": "Yijie Hsieh",
      "photoUrl": "",
      "userId": "01348553246469964659"
     },
     "user_tz": -120
    },
    "id": "H_GGtLYAx7s3",
    "outputId": "083fb4ac-73ea-4442-af5c-1a642787d805"
   },
   "outputs": [
    {
     "data": {
      "image/png": "[encoded data removed]",
      "text/plain": [
       "<Figure size 576x396 with 1 Axes>"
      ]
     },
     "metadata": {
      "tags": []
     },
     "output_type": "display_data"
    },
    {
     "data": {
      "image/png": "[encoded data removed]",
      "text/plain": [
       "<Figure size 576x396 with 1 Axes>"
      ]
     },
     "metadata": {
      "tags": []
     },
     "output_type": "display_data"
    },
    {
     "data": {
      "image/png": "[encoded data removed]",
      "text/plain": [
       "<Figure size 576x396 with 1 Axes>"
      ]
     },
     "metadata": {
      "tags": []
     },
     "output_type": "display_data"
    },
    {
     "data": {
      "image/png": "[encoded data removed]",
      "text/plain": [
       "<Figure size 576x396 with 1 Axes>"
      ]
     },
     "metadata": {
      "tags": []
     },
     "output_type": "display_data"
    },
    {
     "data": {
      "image/png": "[encoded data removed]",
      "text/plain": [
       "<Figure size 576x396 with 1 Axes>"
      ]
     },
     "metadata": {
      "tags": []
     },
     "output_type": "display_data"
    },
    {
     "data": {
      "image/png": "[encoded data removed]",
      "text/plain": [
       "<Figure size 576x396 with 1 Axes>"
      ]
     },
     "metadata": {
      "tags": []
     },
     "output_type": "display_data"
    },
    {
     "data": {
      "image/png": "[encoded data removed]",
      "text/plain": [
       "<Figure size 576x396 with 1 Axes>"
      ]
     },
     "metadata": {
      "tags": []
     },
     "output_type": "display_data"
    },
    {
     "data": {
      "image/png": "[encoded data removed]",
      "text/plain": [
       "<Figure size 576x396 with 1 Axes>"
      ]
     },
     "metadata": {
      "tags": []
     },
     "output_type": "display_data"
    },
    {
     "data": {
      "image/png": "[encoded data removed]",
      "text/plain": [
       "<Figure size 576x396 with 1 Axes>"
      ]
     },
     "metadata": {
      "tags": []
     },
     "output_type": "display_data"
    },
    {
     "data": {
      "image/png": "[encoded data removed]",
      "text/plain": [
       "<Figure size 576x396 with 1 Axes>"
      ]
     },
     "metadata": {
      "tags": []
     },
     "output_type": "display_data"
    },
    {
     "data": {
      "text/plain": [
       "<Figure size 576x396 with 0 Axes>"
      ]
     },
     "metadata": {
      "tags": []
     },
     "output_type": "display_data"
    }
   ],
   "source": [
    "for var in var_num:\n",
    "  sns.violinplot(x=df_sales_clean[var]) \n",
    "  plt.figure()"
   ]
  },
  {
   "cell_type": "markdown",
   "metadata": {
    "id": "LUb-h6E6yPo8"
   },
   "source": [
    "From the graphs shown above, we can see that most of the variables are very focused on only a few values. Only values in column 'FACTFA' vary more."
   ]
  },
  {
   "cell_type": "code",
   "execution_count": null,
   "metadata": {
    "colab": {
     "base_uri": "https://localhost:8080/"
    },
    "executionInfo": {
     "elapsed": 127691,
     "status": "ok",
     "timestamp": 1620980504338,
     "user": {
      "displayName": "Yijie Hsieh",
      "photoUrl": "",
      "userId": "01348553246469964659"
     },
     "user_tz": -120
    },
    "id": "qcioLGWex-xQ",
    "outputId": "da6093ab-9210-4a14-c981-c07a77e6b5dd"
   },
   "outputs": [
    {
     "name": "stdout",
     "output_type": "stream",
     "text": [
      "       FACBRU  percentage\n",
      "2.0      8382    0.016762\n",
      "180.0    6814    0.013626\n",
      "3.0      5287    0.010572\n",
      "0.0      3882    0.007763\n",
      "360.0    3743    0.007485\n",
      "200.0    3629    0.007257\n",
      "300.0    3244    0.006487\n",
      "100.0    3116    0.006231\n",
      "220.0    3060    0.006119\n",
      "540.0    2634    0.005267\n",
      "      FACCOM  percentage\n",
      "0.0   168578    0.337106\n",
      "10.0   21744    0.043482\n",
      "1.8     1797    0.003593\n",
      "15.0    1727    0.003453\n",
      "18.0    1576    0.003152\n",
      "9.0     1565    0.003130\n",
      "0.9     1380    0.002760\n",
      "3.0     1349    0.002698\n",
      "2.0     1241    0.002482\n",
      "1.5     1236    0.002472\n",
      "      FACIVA  percentage\n",
      "0.00  133495    0.266950\n",
      "2.52   13600    0.027196\n",
      "0.42    8167    0.016332\n",
      "2.10    6200    0.012398\n",
      "3.57    5205    0.010408\n",
      "0.63    4865    0.009729\n",
      "1.05    4655    0.009309\n",
      "1.47    3912    0.007823\n",
      "1.68    3395    0.006789\n",
      "0.84    2414    0.004827\n",
      "        FACNET  percentage\n",
      "2.42      4883    0.009765\n",
      "3.63      3217    0.006433\n",
      "8.47      2441    0.004881\n",
      "9.68      2224    0.004447\n",
      "12.10     1669    0.003338\n",
      "6.05      1598    0.003196\n",
      "180.00    1457    0.002914\n",
      "7.26      1276    0.002552\n",
      "4.84      1224    0.002448\n",
      "144.00    1026    0.002052\n",
      "      FACENV  percentage\n",
      "0.0   409564    0.819007\n",
      "1.0    87810    0.175594\n",
      "2.0      997    0.001994\n",
      "3.0      330    0.000660\n",
      "4.0      171    0.000342\n",
      "5.0      102    0.000204\n",
      "6.0       84    0.000168\n",
      "8.0       51    0.000102\n",
      "7.0       48    0.000096\n",
      "10.0      48    0.000096\n",
      "        FACPTS  percentage\n",
      " 0.0    429205    0.858283\n",
      " 5.0     57494    0.114971\n",
      " 500.0    2848    0.005695\n",
      " 8.0      2719    0.005437\n",
      " 3.5      1404    0.002808\n",
      " 2.0      1068    0.002136\n",
      " 4.0      1065    0.002130\n",
      " 6.0       734    0.001468\n",
      " 3.0       565    0.001130\n",
      "-5.0       485    0.000970\n",
      "        FACTRA  percentage\n",
      " 0.00   432428    0.864728\n",
      " 5.00    57031    0.114045\n",
      " 8.00     2620    0.005239\n",
      " 4.00     1029    0.002058\n",
      " 3.50      922    0.001844\n",
      " 6.00      706    0.001412\n",
      "-5.00      567    0.001134\n",
      " 3.00      560    0.001120\n",
      " 3.01      471    0.000942\n",
      " 10.00     427    0.000854\n",
      "      FACPCO  percentage\n",
      "0.00  190445    0.380834\n",
      "1.00   51970    0.103925\n",
      "1.50   40132    0.080252\n",
      "2.00   37028    0.074045\n",
      "0.50   36362    0.072713\n",
      "5.00   28470    0.056932\n",
      "2.50   16428    0.032851\n",
      "0.75   11523    0.023043\n",
      "1.25   10445    0.020887\n",
      "5.50    9962    0.019921\n",
      "      FACTFA  percentage\n",
      "51.0  115275    0.230516\n",
      "31.0  101602    0.203174\n",
      "1.0    95898    0.191768\n",
      "88.0   45634    0.091254\n",
      "30.0   25360    0.050712\n",
      "10.0   23990    0.047973\n",
      "17.0   17108    0.034211\n",
      "32.0   16514    0.033023\n",
      "89.0    8216    0.016430\n",
      "3.0     7759    0.015516\n",
      "      FACINT  percentage\n",
      "1.00  492389    0.984632\n",
      "0.00    7684    0.015366\n",
      "0.01       1    0.000002\n"
     ]
    }
   ],
   "source": [
    "for var in var_num:\n",
    "  df_valuecounts = pd.DataFrame(df_sales_clean[var].value_counts())\n",
    "  df_valuecounts['percentage'] = pd.DataFrame(df_sales_clean[var].value_counts()/df_sales_clean[var].count())\n",
    "  print(df_valuecounts.head(10))"
   ]
  },
  {
   "cell_type": "markdown",
   "metadata": {
    "id": "kfvckR2AzZQk"
   },
   "source": [
    "Categorical Variables"
   ]
  },
  {
   "cell_type": "code",
   "execution_count": null,
   "metadata": {
    "colab": {
     "base_uri": "https://localhost:8080/",
     "height": 393
    },
    "executionInfo": {
     "elapsed": 128092,
     "status": "ok",
     "timestamp": 1620980504760,
     "user": {
      "displayName": "Yijie Hsieh",
      "photoUrl": "",
      "userId": "01348553246469964659"
     },
     "user_tz": -120
    },
    "id": "HnJjdpn5ywX9",
    "outputId": "95286228-162e-48a5-9322-8dc807a37029"
   },
   "outputs": [
    {
     "data": {
      "text/plain": [
       "<Figure size 576x396 with 0 Axes>"
      ]
     },
     "execution_count": 32,
     "metadata": {
      "tags": []
     },
     "output_type": "execute_result"
    },
    {
     "data": {
      "image/png": "[encoded data removed]",
      "text/plain": [
       "<Figure size 576x396 with 1 Axes>"
      ]
     },
     "metadata": {
      "tags": []
     },
     "output_type": "display_data"
    },
    {
     "data": {
      "text/plain": [
       "<Figure size 576x396 with 0 Axes>"
      ]
     },
     "metadata": {
      "tags": []
     },
     "output_type": "display_data"
    }
   ],
   "source": [
    "# Select columns that are of my interest: Only 1 categorical variable (Payment Type)\n",
    "var_car = 'FACMOD'\n",
    "\n",
    "sns.countplot(x=df_sales_clean[var_car])\n",
    "plt.figure()"
   ]
  },
  {
   "cell_type": "code",
   "execution_count": null,
   "metadata": {
    "colab": {
     "base_uri": "https://localhost:8080/",
     "height": 335
    },
    "executionInfo": {
     "elapsed": 128320,
     "status": "ok",
     "timestamp": 1620980505000,
     "user": {
      "displayName": "Yijie Hsieh",
      "photoUrl": "",
      "userId": "01348553246469964659"
     },
     "user_tz": -120
    },
    "id": "fQm0dBoEzYl9",
    "outputId": "480edfe6-484f-4e8c-f698-79ed6df040f8"
   },
   "outputs": [
    {
     "data": {
      "text/html": [
       "<div>\n",
       "<style scoped>\n",
       "    .dataframe tbody tr th:only-of-type {\n",
       "        vertical-align: middle;\n",
       "    }\n",
       "\n",
       "    .dataframe tbody tr th {\n",
       "        vertical-align: top;\n",
       "    }\n",
       "\n",
       "    .dataframe thead th {\n",
       "        text-align: right;\n",
       "    }\n",
       "</style>\n",
       "<table border=\"1\" class=\"dataframe\">\n",
       "  <thead>\n",
       "    <tr style=\"text-align: right;\">\n",
       "      <th></th>\n",
       "      <th>FACMOD</th>\n",
       "      <th>percentage</th>\n",
       "    </tr>\n",
       "  </thead>\n",
       "  <tbody>\n",
       "    <tr>\n",
       "      <th>1111.0</th>\n",
       "      <td>243471</td>\n",
       "      <td>0.486870</td>\n",
       "    </tr>\n",
       "    <tr>\n",
       "      <th>2.0</th>\n",
       "      <td>102907</td>\n",
       "      <td>0.205784</td>\n",
       "    </tr>\n",
       "    <tr>\n",
       "      <th>222.0</th>\n",
       "      <td>28339</td>\n",
       "      <td>0.056670</td>\n",
       "    </tr>\n",
       "    <tr>\n",
       "      <th>11.0</th>\n",
       "      <td>26260</td>\n",
       "      <td>0.052512</td>\n",
       "    </tr>\n",
       "    <tr>\n",
       "      <th>111.0</th>\n",
       "      <td>25347</td>\n",
       "      <td>0.050686</td>\n",
       "    </tr>\n",
       "    <tr>\n",
       "      <th>112.0</th>\n",
       "      <td>23278</td>\n",
       "      <td>0.046549</td>\n",
       "    </tr>\n",
       "    <tr>\n",
       "      <th>22.0</th>\n",
       "      <td>8919</td>\n",
       "      <td>0.017835</td>\n",
       "    </tr>\n",
       "    <tr>\n",
       "      <th>3.0</th>\n",
       "      <td>7194</td>\n",
       "      <td>0.014386</td>\n",
       "    </tr>\n",
       "    <tr>\n",
       "      <th>0.0</th>\n",
       "      <td>6999</td>\n",
       "      <td>0.013996</td>\n",
       "    </tr>\n",
       "    <tr>\n",
       "      <th>99.0</th>\n",
       "      <td>6581</td>\n",
       "      <td>0.013160</td>\n",
       "    </tr>\n",
       "  </tbody>\n",
       "</table>\n",
       "</div>"
      ],
      "text/plain": [
       "        FACMOD  percentage\n",
       "1111.0  243471    0.486870\n",
       "2.0     102907    0.205784\n",
       "222.0    28339    0.056670\n",
       "11.0     26260    0.052512\n",
       "111.0    25347    0.050686\n",
       "112.0    23278    0.046549\n",
       "22.0      8919    0.017835\n",
       "3.0       7194    0.014386\n",
       "0.0       6999    0.013996\n",
       "99.0      6581    0.013160"
      ]
     },
     "execution_count": 33,
     "metadata": {
      "tags": []
     },
     "output_type": "execute_result"
    }
   ],
   "source": [
    "df_valuecounts = pd.DataFrame(df_sales_clean[var_car].value_counts())\n",
    "df_valuecounts['percentage'] = pd.DataFrame(df_sales_clean[var_car].value_counts()/df_sales_clean[var_car].count())\n",
    "df_valuecounts.head(10)"
   ]
  },
  {
   "cell_type": "markdown",
   "metadata": {
    "id": "B-Xj30mr0pO_"
   },
   "source": [
    "#### Data Cleaning & Format Correction\n",
    "\n",
    "1. Change and correct data format (dtype).\n",
    "3. Reformat time series variables."
   ]
  },
  {
   "cell_type": "code",
   "execution_count": null,
   "metadata": {
    "id": "OmX-zqPO1ODW"
   },
   "outputs": [],
   "source": [
    "# Change data format (dtype)\n",
    "\n",
    "# change dtype to integers\n",
    "df_sales_clean[['FACCLI','FACMOD']] = df_sales_clean[['FACCLI','FACMOD']].astype(int)\n",
    "\n",
    "# Reformat time series variables.\n",
    "df_sales_clean['FACFEC'] = df_sales_clean['FACFEC'].astype(int).astype(str)\n",
    "df_sales_clean['FACFEC'] = pd.to_datetime(df_sales_clean.FACFEC, yearfirst=True,infer_datetime_format=True,errors='coerce')"
   ]
  },
  {
   "cell_type": "code",
   "execution_count": null,
   "metadata": {
    "colab": {
     "base_uri": "https://localhost:8080/"
    },
    "executionInfo": {
     "elapsed": 128989,
     "status": "ok",
     "timestamp": 1620980505685,
     "user": {
      "displayName": "Yijie Hsieh",
      "photoUrl": "",
      "userId": "01348553246469964659"
     },
     "user_tz": -120
    },
    "id": "QSjEnB8Q4AHL",
    "outputId": "7bf17098-0d36-4fdf-8c05-1adcf49e18b9"
   },
   "outputs": [
    {
     "name": "stdout",
     "output_type": "stream",
     "text": [
      "<class 'pandas.core.frame.DataFrame'>\n",
      "RangeIndex: 500074 entries, 0 to 500073\n",
      "Data columns (total 14 columns):\n",
      " #   Column  Non-Null Count   Dtype         \n",
      "---  ------  --------------   -----         \n",
      " 0   FACNUM  500074 non-null  object        \n",
      " 1   FACFEC  500074 non-null  datetime64[ns]\n",
      " 2   FACBRU  500074 non-null  float64       \n",
      " 3   FACCOM  500074 non-null  float64       \n",
      " 4   FACIVA  500074 non-null  float64       \n",
      " 5   FACNET  500074 non-null  float64       \n",
      " 6   FACCLI  500074 non-null  int64         \n",
      " 7   FACENV  500074 non-null  float64       \n",
      " 8   FACPTS  500074 non-null  float64       \n",
      " 9   FACTRA  500074 non-null  float64       \n",
      " 10  FACPCO  500074 non-null  float64       \n",
      " 11  FACTFA  500074 non-null  float64       \n",
      " 12  FACINT  500074 non-null  float64       \n",
      " 13  FACMOD  500074 non-null  int64         \n",
      "dtypes: datetime64[ns](1), float64(10), int64(2), object(1)\n",
      "memory usage: 53.4+ MB\n"
     ]
    }
   ],
   "source": [
    "df_sales_clean.info()"
   ]
  },
  {
   "cell_type": "markdown",
   "metadata": {
    "id": "HVwuB34_bv8g"
   },
   "source": [
    "Now that both datasets are clean and the format of each column was all corrected. I will combine 2 datasets using an outer join:"
   ]
  },
  {
   "cell_type": "markdown",
   "metadata": {
    "id": "YIQUns0jehnS"
   },
   "source": [
    "### Merged Datasets Overview"
   ]
  },
  {
   "cell_type": "code",
   "execution_count": null,
   "metadata": {
    "colab": {
     "base_uri": "https://localhost:8080/"
    },
    "executionInfo": {
     "elapsed": 129919,
     "status": "ok",
     "timestamp": 1620980506625,
     "user": {
      "displayName": "Yijie Hsieh",
      "photoUrl": "",
      "userId": "01348553246469964659"
     },
     "user_tz": -120
    },
    "id": "0HMXAKPFfCtz",
    "outputId": "f9928f31-340d-438b-b2ea-d5642f0d37a8"
   },
   "outputs": [
    {
     "name": "stdout",
     "output_type": "stream",
     "text": [
      "2574 1514\n"
     ]
    }
   ],
   "source": [
    "# Double check the unique users in both datasets and cross check which users are not in the other datasets:\n",
    "client_list1 = df_client_clean['PAGCLI'].unique().tolist()\n",
    "client_list2 = df_sales_clean['FACCLI'].unique().tolist()\n",
    "\n",
    "not_in_client_list2 = []\n",
    "not_in_client_list1 = []\n",
    "\n",
    "for i in client_list1:\n",
    "  if i not in client_list2:\n",
    "    not_in_client_list2.append(i)\n",
    "\n",
    "for i in client_list2:\n",
    "  if i not in client_list1:\n",
    "    not_in_client_list1.append(i)\n",
    "\n",
    "print(len(not_in_client_list1),len(not_in_client_list2))"
   ]
  },
  {
   "cell_type": "markdown",
   "metadata": {
    "id": "a8RhIHMVhb0F"
   },
   "source": [
    "!!! IMPORTANT !!! \n",
    "From the above output we can see that the numbers of client codes in both datasets don't match very well. This I have to come back to investigate the reason in more detail later. Now I will just do an inner join to simplify the analysis."
   ]
  },
  {
   "cell_type": "code",
   "execution_count": null,
   "metadata": {
    "colab": {
     "base_uri": "https://localhost:8080/",
     "height": 292
    },
    "executionInfo": {
     "elapsed": 130224,
     "status": "ok",
     "timestamp": 1620980506944,
     "user": {
      "displayName": "Yijie Hsieh",
      "photoUrl": "",
      "userId": "01348553246469964659"
     },
     "user_tz": -120
    },
    "id": "b-hF5ZJWhJuW",
    "outputId": "dbac0c85-8c36-4427-cd80-b1ae06b27f0f"
   },
   "outputs": [
    {
     "data": {
      "text/html": [
       "<div>\n",
       "<style scoped>\n",
       "    .dataframe tbody tr th:only-of-type {\n",
       "        vertical-align: middle;\n",
       "    }\n",
       "\n",
       "    .dataframe tbody tr th {\n",
       "        vertical-align: top;\n",
       "    }\n",
       "\n",
       "    .dataframe thead th {\n",
       "        text-align: right;\n",
       "    }\n",
       "</style>\n",
       "<table border=\"1\" class=\"dataframe\">\n",
       "  <thead>\n",
       "    <tr style=\"text-align: right;\">\n",
       "      <th></th>\n",
       "      <th>FACNUM</th>\n",
       "      <th>FACFEC</th>\n",
       "      <th>FACBRU</th>\n",
       "      <th>FACCOM</th>\n",
       "      <th>FACIVA</th>\n",
       "      <th>FACNET</th>\n",
       "      <th>FACCLI</th>\n",
       "      <th>FACENV</th>\n",
       "      <th>FACPTS</th>\n",
       "      <th>FACTRA</th>\n",
       "      <th>FACPCO</th>\n",
       "      <th>FACTFA</th>\n",
       "      <th>FACINT</th>\n",
       "      <th>FACMOD</th>\n",
       "      <th>PAGLOG</th>\n",
       "      <th>PAGMOD</th>\n",
       "      <th>PAGDIA</th>\n",
       "      <th>PAGGRU</th>\n",
       "      <th>PAGALB</th>\n",
       "      <th>PAGFAC</th>\n",
       "      <th>PAGPOF</th>\n",
       "      <th>PAGPRF</th>\n",
       "      <th>PAGFEC</th>\n",
       "      <th>PAGCOM</th>\n",
       "      <th>PAGFIJ</th>\n",
       "      <th>PAGTRA</th>\n",
       "      <th>PAGVEN</th>\n",
       "      <th>PAGDEU</th>\n",
       "      <th>PAGCIF</th>\n",
       "      <th>PAGPER</th>\n",
       "    </tr>\n",
       "  </thead>\n",
       "  <tbody>\n",
       "    <tr>\n",
       "      <th>0</th>\n",
       "      <td>L500139</td>\n",
       "      <td>2020-10-30</td>\n",
       "      <td>18550.0</td>\n",
       "      <td>0.0</td>\n",
       "      <td>0.00</td>\n",
       "      <td>18550.00</td>\n",
       "      <td>13290</td>\n",
       "      <td>0.0</td>\n",
       "      <td>0.0</td>\n",
       "      <td>0.0</td>\n",
       "      <td>0.0</td>\n",
       "      <td>1.0</td>\n",
       "      <td>1.0</td>\n",
       "      <td>1111</td>\n",
       "      <td>0</td>\n",
       "      <td>1111</td>\n",
       "      <td>0</td>\n",
       "      <td>507</td>\n",
       "      <td>1</td>\n",
       "      <td>1</td>\n",
       "      <td>ALCOBENDAS</td>\n",
       "      <td>MADRID</td>\n",
       "      <td>2019-12-30</td>\n",
       "      <td>0.0</td>\n",
       "      <td>0.0</td>\n",
       "      <td>0.0</td>\n",
       "      <td>86</td>\n",
       "      <td>0.0</td>\n",
       "      <td>B82378431</td>\n",
       "      <td>1</td>\n",
       "    </tr>\n",
       "    <tr>\n",
       "      <th>1</th>\n",
       "      <td>E500047</td>\n",
       "      <td>2020-10-30</td>\n",
       "      <td>682.5</td>\n",
       "      <td>0.0</td>\n",
       "      <td>143.33</td>\n",
       "      <td>825.83</td>\n",
       "      <td>13290</td>\n",
       "      <td>0.0</td>\n",
       "      <td>0.0</td>\n",
       "      <td>0.0</td>\n",
       "      <td>0.0</td>\n",
       "      <td>1.0</td>\n",
       "      <td>0.0</td>\n",
       "      <td>1111</td>\n",
       "      <td>0</td>\n",
       "      <td>1111</td>\n",
       "      <td>0</td>\n",
       "      <td>507</td>\n",
       "      <td>1</td>\n",
       "      <td>1</td>\n",
       "      <td>ALCOBENDAS</td>\n",
       "      <td>MADRID</td>\n",
       "      <td>2019-12-30</td>\n",
       "      <td>0.0</td>\n",
       "      <td>0.0</td>\n",
       "      <td>0.0</td>\n",
       "      <td>86</td>\n",
       "      <td>0.0</td>\n",
       "      <td>B82378431</td>\n",
       "      <td>1</td>\n",
       "    </tr>\n",
       "    <tr>\n",
       "      <th>2</th>\n",
       "      <td>E500018</td>\n",
       "      <td>2016-10-17</td>\n",
       "      <td>741.0</td>\n",
       "      <td>0.0</td>\n",
       "      <td>0.00</td>\n",
       "      <td>741.00</td>\n",
       "      <td>13290</td>\n",
       "      <td>0.0</td>\n",
       "      <td>0.0</td>\n",
       "      <td>0.0</td>\n",
       "      <td>0.0</td>\n",
       "      <td>1.0</td>\n",
       "      <td>1.0</td>\n",
       "      <td>1111</td>\n",
       "      <td>0</td>\n",
       "      <td>1111</td>\n",
       "      <td>0</td>\n",
       "      <td>507</td>\n",
       "      <td>1</td>\n",
       "      <td>1</td>\n",
       "      <td>ALCOBENDAS</td>\n",
       "      <td>MADRID</td>\n",
       "      <td>2019-12-30</td>\n",
       "      <td>0.0</td>\n",
       "      <td>0.0</td>\n",
       "      <td>0.0</td>\n",
       "      <td>86</td>\n",
       "      <td>0.0</td>\n",
       "      <td>B82378431</td>\n",
       "      <td>1</td>\n",
       "    </tr>\n",
       "    <tr>\n",
       "      <th>3</th>\n",
       "      <td>L500026</td>\n",
       "      <td>2016-10-17</td>\n",
       "      <td>20140.0</td>\n",
       "      <td>0.0</td>\n",
       "      <td>0.00</td>\n",
       "      <td>20140.00</td>\n",
       "      <td>13290</td>\n",
       "      <td>0.0</td>\n",
       "      <td>0.0</td>\n",
       "      <td>0.0</td>\n",
       "      <td>0.0</td>\n",
       "      <td>1.0</td>\n",
       "      <td>1.0</td>\n",
       "      <td>1111</td>\n",
       "      <td>0</td>\n",
       "      <td>1111</td>\n",
       "      <td>0</td>\n",
       "      <td>507</td>\n",
       "      <td>1</td>\n",
       "      <td>1</td>\n",
       "      <td>ALCOBENDAS</td>\n",
       "      <td>MADRID</td>\n",
       "      <td>2019-12-30</td>\n",
       "      <td>0.0</td>\n",
       "      <td>0.0</td>\n",
       "      <td>0.0</td>\n",
       "      <td>86</td>\n",
       "      <td>0.0</td>\n",
       "      <td>B82378431</td>\n",
       "      <td>1</td>\n",
       "    </tr>\n",
       "    <tr>\n",
       "      <th>4</th>\n",
       "      <td>E500021</td>\n",
       "      <td>2016-11-25</td>\n",
       "      <td>-741.0</td>\n",
       "      <td>0.0</td>\n",
       "      <td>0.00</td>\n",
       "      <td>-741.00</td>\n",
       "      <td>13290</td>\n",
       "      <td>0.0</td>\n",
       "      <td>0.0</td>\n",
       "      <td>0.0</td>\n",
       "      <td>0.0</td>\n",
       "      <td>1.0</td>\n",
       "      <td>1.0</td>\n",
       "      <td>1111</td>\n",
       "      <td>0</td>\n",
       "      <td>1111</td>\n",
       "      <td>0</td>\n",
       "      <td>507</td>\n",
       "      <td>1</td>\n",
       "      <td>1</td>\n",
       "      <td>ALCOBENDAS</td>\n",
       "      <td>MADRID</td>\n",
       "      <td>2019-12-30</td>\n",
       "      <td>0.0</td>\n",
       "      <td>0.0</td>\n",
       "      <td>0.0</td>\n",
       "      <td>86</td>\n",
       "      <td>0.0</td>\n",
       "      <td>B82378431</td>\n",
       "      <td>1</td>\n",
       "    </tr>\n",
       "  </tbody>\n",
       "</table>\n",
       "</div>"
      ],
      "text/plain": [
       "     FACNUM     FACFEC   FACBRU  FACCOM  ...  PAGVEN  PAGDEU          PAGCIF  PAGPER\n",
       "0  L500139  2020-10-30  18550.0     0.0  ...      86     0.0  B82378431            1\n",
       "1  E500047  2020-10-30    682.5     0.0  ...      86     0.0  B82378431            1\n",
       "2  E500018  2016-10-17    741.0     0.0  ...      86     0.0  B82378431            1\n",
       "3  L500026  2016-10-17  20140.0     0.0  ...      86     0.0  B82378431            1\n",
       "4  E500021  2016-11-25   -741.0     0.0  ...      86     0.0  B82378431            1\n",
       "\n",
       "[5 rows x 30 columns]"
      ]
     },
     "execution_count": 37,
     "metadata": {
      "tags": []
     },
     "output_type": "execute_result"
    }
   ],
   "source": [
    "df_all = df_sales_clean.merge(df_client_clean,how='inner',left_on='FACCLI',right_on='PAGCLI')\n",
    "df_all.drop('PAGCLI',axis=1,inplace=True)\n",
    "df_all.head()"
   ]
  },
  {
   "cell_type": "code",
   "execution_count": null,
   "metadata": {
    "colab": {
     "base_uri": "https://localhost:8080/"
    },
    "executionInfo": {
     "elapsed": 130659,
     "status": "ok",
     "timestamp": 1620980507390,
     "user": {
      "displayName": "Yijie Hsieh",
      "photoUrl": "",
      "userId": "01348553246469964659"
     },
     "user_tz": -120
    },
    "id": "oSiel-2HjdjZ",
    "outputId": "aad3f110-aa4d-4c7d-f76b-3fa7c00caa95"
   },
   "outputs": [
    {
     "data": {
      "text/plain": [
       "(380840, 30)"
      ]
     },
     "execution_count": 38,
     "metadata": {
      "tags": []
     },
     "output_type": "execute_result"
    }
   ],
   "source": [
    "df_all.shape"
   ]
  },
  {
   "cell_type": "code",
   "execution_count": null,
   "metadata": {
    "colab": {
     "base_uri": "https://localhost:8080/"
    },
    "executionInfo": {
     "elapsed": 130572,
     "status": "ok",
     "timestamp": 1620980507391,
     "user": {
      "displayName": "Yijie Hsieh",
      "photoUrl": "",
      "userId": "01348553246469964659"
     },
     "user_tz": -120
    },
    "id": "mNnNepZUo91Y",
    "outputId": "2d33ac40-f14e-4275-abfd-bf8eadc5e50d"
   },
   "outputs": [
    {
     "data": {
      "text/plain": [
       "4677"
      ]
     },
     "execution_count": 39,
     "metadata": {
      "tags": []
     },
     "output_type": "execute_result"
    }
   ],
   "source": [
    "df_all['FACCLI'].nunique()"
   ]
  },
  {
   "cell_type": "code",
   "execution_count": null,
   "metadata": {
    "colab": {
     "base_uri": "https://localhost:8080/"
    },
    "executionInfo": {
     "elapsed": 130562,
     "status": "ok",
     "timestamp": 1620980507392,
     "user": {
      "displayName": "Yijie Hsieh",
      "photoUrl": "",
      "userId": "01348553246469964659"
     },
     "user_tz": -120
    },
    "id": "7-necxb5kO-q",
    "outputId": "132349c7-5777-4eb2-ced8-e45c56ff3f7a"
   },
   "outputs": [
    {
     "name": "stdout",
     "output_type": "stream",
     "text": [
      "<class 'pandas.core.frame.DataFrame'>\n",
      "Int64Index: 380840 entries, 0 to 380839\n",
      "Data columns (total 30 columns):\n",
      " #   Column  Non-Null Count   Dtype         \n",
      "---  ------  --------------   -----         \n",
      " 0   FACNUM  380840 non-null  object        \n",
      " 1   FACFEC  380840 non-null  datetime64[ns]\n",
      " 2   FACBRU  380840 non-null  float64       \n",
      " 3   FACCOM  380840 non-null  float64       \n",
      " 4   FACIVA  380840 non-null  float64       \n",
      " 5   FACNET  380840 non-null  float64       \n",
      " 6   FACCLI  380840 non-null  int64         \n",
      " 7   FACENV  380840 non-null  float64       \n",
      " 8   FACPTS  380840 non-null  float64       \n",
      " 9   FACTRA  380840 non-null  float64       \n",
      " 10  FACPCO  380840 non-null  float64       \n",
      " 11  FACTFA  380840 non-null  float64       \n",
      " 12  FACINT  380840 non-null  float64       \n",
      " 13  FACMOD  380840 non-null  int64         \n",
      " 14  PAGLOG  380840 non-null  int64         \n",
      " 15  PAGMOD  380840 non-null  int64         \n",
      " 16  PAGDIA  380840 non-null  int64         \n",
      " 17  PAGGRU  380840 non-null  int64         \n",
      " 18  PAGALB  380840 non-null  int64         \n",
      " 19  PAGFAC  380840 non-null  int64         \n",
      " 20  PAGPOF  380840 non-null  object        \n",
      " 21  PAGPRF  380840 non-null  object        \n",
      " 22  PAGFEC  380840 non-null  datetime64[ns]\n",
      " 23  PAGCOM  380840 non-null  float64       \n",
      " 24  PAGFIJ  380840 non-null  float64       \n",
      " 25  PAGTRA  380840 non-null  float64       \n",
      " 26  PAGVEN  380840 non-null  int64         \n",
      " 27  PAGDEU  380840 non-null  float64       \n",
      " 28  PAGCIF  380840 non-null  object        \n",
      " 29  PAGPER  380840 non-null  int64         \n",
      "dtypes: datetime64[ns](2), float64(14), int64(10), object(4)\n",
      "memory usage: 90.1+ MB\n"
     ]
    }
   ],
   "source": [
    "df_all.info()"
   ]
  },
  {
   "cell_type": "markdown",
   "metadata": {
    "id": "EuFSsuxI4GCk"
   },
   "source": [
    "Now I have a merged dataset with 4677 unique clients and 380840 billing records."
   ]
  },
  {
   "cell_type": "markdown",
   "metadata": {
    "id": "bDaTEIDyMUI_"
   },
   "source": [
    "#### Correlation Matrix"
   ]
  },
  {
   "cell_type": "code",
   "execution_count": null,
   "metadata": {
    "colab": {
     "base_uri": "https://localhost:8080/",
     "height": 628
    },
    "executionInfo": {
     "elapsed": 133282,
     "status": "ok",
     "timestamp": 1620980510129,
     "user": {
      "displayName": "Yijie Hsieh",
      "photoUrl": "",
      "userId": "01348553246469964659"
     },
     "user_tz": -120
    },
    "id": "yX6tF7EdY0Os",
    "outputId": "3a22df96-4435-480d-a692-2cdefbdb636a"
   },
   "outputs": [
    {
     "data": {
      "image/png": "[encoded data removed]",
      "text/plain": [
       "<Figure size 1152x720 with 2 Axes>"
      ]
     },
     "metadata": {
      "tags": []
     },
     "output_type": "display_data"
    }
   ],
   "source": [
    "corr = round(df_all.corr(),2)\n",
    "corr = corr.mask(np.triu(np.ones(corr.shape)).astype(np.bool))\n",
    "\n",
    "fig, ax = plt.subplots(figsize=(16,10))\n",
    "\n",
    "sns.heatmap(corr, annot=True, linewidths=.5,ax=ax, cmap='BrBG')\n",
    "plt.show()"
   ]
  },
  {
   "cell_type": "code",
   "execution_count": 1,
   "metadata": {
    "executionInfo": {
     "elapsed": 1397,
     "status": "ok",
     "timestamp": 1621433938917,
     "user": {
      "displayName": "Yijie Hsieh",
      "photoUrl": "",
      "userId": "01348553246469964659"
     },
     "user_tz": -120
    },
    "id": "hoe2HgcL_j7f"
   },
   "outputs": [],
   "source": [
    "# Build clusters according to the degree of correlation and compare it with the K-means result. (Do another K-Means in all variables)\n",
    "# Run a loop to check which variables are really correlated. This for loop should be run to each variable and the output would be a cluster.\n",
    "# Accodring to the matrix correlation, I expect low level of colinearity because low degree of correlation between variables.\n",
    "# When a threshold is between 0.8 - 0.99, high correlation and discard one variables. (TBC)\n",
    "# Next step is to look for clusters (run the loop for each variables to build vectors)\n",
    "# As a first approximation we have defined a process of clustering by defining a threshold for well correlated variables.\n",
    "# If there's enough time, run the same loop to negative correlated variables."
   ]
  },
  {
   "cell_type": "markdown",
   "metadata": {
    "id": "zsT3YvyMznjR"
   },
   "source": [
    "## K-Means Client Segmentation with RFM Variables\n",
    "RFM Analysis is a technique to create client segments based on the three key purchase-behavior variables: \n",
    "\n",
    "1. **Recency** - Time since last purchase. \n",
    "In the Data Preparation section, I will create a variable that indicates the duration (in day) since their last purchase.\n",
    "2. **Frequency** - The frequency of the client transactions or visists. In this case I will create a new variable and calculate the average days between purchases as frequency.\n",
    "3. **Monetary value** - The intention of client to spend or purchasing power of client. Here I will create 2 variables: One is the total spend per year and the other is the average spend per invoice using the variable 'FACBRU' (nominal value) in the dataset.\n",
    "\n",
    "\n"
   ]
  },
  {
   "cell_type": "markdown",
   "metadata": {
    "id": "jGgzvRvNlF5y"
   },
   "source": [
    "### Data Preparation\n",
    "In this section, I will prepare the dataset in order to further carry out the RFM analysis. The main focus is to create necessary variables for the analysis."
   ]
  },
  {
   "cell_type": "code",
   "execution_count": null,
   "metadata": {
    "colab": {
     "base_uri": "https://localhost:8080/",
     "height": 292
    },
    "executionInfo": {
     "elapsed": 133269,
     "status": "ok",
     "timestamp": 1620980510131,
     "user": {
      "displayName": "Yijie Hsieh",
      "photoUrl": "",
      "userId": "01348553246469964659"
     },
     "user_tz": -120
    },
    "id": "YhYInIZJ1b2P",
    "outputId": "cccd6a25-fe4b-43fa-a3ad-23c5b402a507"
   },
   "outputs": [
    {
     "data": {
      "text/html": [
       "<div>\n",
       "<style scoped>\n",
       "    .dataframe tbody tr th:only-of-type {\n",
       "        vertical-align: middle;\n",
       "    }\n",
       "\n",
       "    .dataframe tbody tr th {\n",
       "        vertical-align: top;\n",
       "    }\n",
       "\n",
       "    .dataframe thead th {\n",
       "        text-align: right;\n",
       "    }\n",
       "</style>\n",
       "<table border=\"1\" class=\"dataframe\">\n",
       "  <thead>\n",
       "    <tr style=\"text-align: right;\">\n",
       "      <th></th>\n",
       "      <th>FACNUM</th>\n",
       "      <th>FACFEC</th>\n",
       "      <th>FACYEAR</th>\n",
       "      <th>FACBRU</th>\n",
       "      <th>FACCOM</th>\n",
       "      <th>FACIVA</th>\n",
       "      <th>FACNET</th>\n",
       "      <th>FACCLI</th>\n",
       "      <th>FACENV</th>\n",
       "      <th>FACPTS</th>\n",
       "      <th>FACTRA</th>\n",
       "      <th>FACPCO</th>\n",
       "      <th>FACTFA</th>\n",
       "      <th>FACINT</th>\n",
       "      <th>FACMOD</th>\n",
       "      <th>PAGLOG</th>\n",
       "      <th>PAGMOD</th>\n",
       "      <th>PAGDIA</th>\n",
       "      <th>PAGGRU</th>\n",
       "      <th>PAGALB</th>\n",
       "      <th>PAGFAC</th>\n",
       "      <th>PAGPOF</th>\n",
       "      <th>PAGPRF</th>\n",
       "      <th>PAGFEC</th>\n",
       "      <th>PAGCOM</th>\n",
       "      <th>PAGFIJ</th>\n",
       "      <th>PAGTRA</th>\n",
       "      <th>PAGVEN</th>\n",
       "      <th>PAGDEU</th>\n",
       "      <th>PAGCIF</th>\n",
       "      <th>PAGPER</th>\n",
       "    </tr>\n",
       "  </thead>\n",
       "  <tbody>\n",
       "    <tr>\n",
       "      <th>380835</th>\n",
       "      <td>1019187</td>\n",
       "      <td>2020-12-03</td>\n",
       "      <td>2020</td>\n",
       "      <td>0.0</td>\n",
       "      <td>0.0</td>\n",
       "      <td>1.05</td>\n",
       "      <td>6.05</td>\n",
       "      <td>18457</td>\n",
       "      <td>1.0</td>\n",
       "      <td>5.0</td>\n",
       "      <td>5.0</td>\n",
       "      <td>0.0</td>\n",
       "      <td>30.0</td>\n",
       "      <td>1.0</td>\n",
       "      <td>112</td>\n",
       "      <td>0</td>\n",
       "      <td>111</td>\n",
       "      <td>0</td>\n",
       "      <td>1680</td>\n",
       "      <td>1</td>\n",
       "      <td>1</td>\n",
       "      <td>CORDOBA</td>\n",
       "      <td>CORDOBA</td>\n",
       "      <td>2020-10-05</td>\n",
       "      <td>0.0</td>\n",
       "      <td>0.0</td>\n",
       "      <td>0.0</td>\n",
       "      <td>58</td>\n",
       "      <td>0.0</td>\n",
       "      <td>B56025950</td>\n",
       "      <td>1</td>\n",
       "    </tr>\n",
       "    <tr>\n",
       "      <th>380836</th>\n",
       "      <td>1106163</td>\n",
       "      <td>2021-04-01</td>\n",
       "      <td>2021</td>\n",
       "      <td>0.0</td>\n",
       "      <td>0.0</td>\n",
       "      <td>1.05</td>\n",
       "      <td>6.05</td>\n",
       "      <td>18700</td>\n",
       "      <td>1.0</td>\n",
       "      <td>5.0</td>\n",
       "      <td>5.0</td>\n",
       "      <td>0.0</td>\n",
       "      <td>30.0</td>\n",
       "      <td>1.0</td>\n",
       "      <td>1111</td>\n",
       "      <td>0</td>\n",
       "      <td>1111</td>\n",
       "      <td>0</td>\n",
       "      <td>1711</td>\n",
       "      <td>1</td>\n",
       "      <td>1</td>\n",
       "      <td>MARBELLA</td>\n",
       "      <td>MALAGA</td>\n",
       "      <td>2021-02-22</td>\n",
       "      <td>0.0</td>\n",
       "      <td>0.0</td>\n",
       "      <td>0.0</td>\n",
       "      <td>94</td>\n",
       "      <td>0.0</td>\n",
       "      <td>B02658334</td>\n",
       "      <td>1</td>\n",
       "    </tr>\n",
       "    <tr>\n",
       "      <th>380837</th>\n",
       "      <td>Q144645</td>\n",
       "      <td>2021-04-21</td>\n",
       "      <td>2021</td>\n",
       "      <td>210.0</td>\n",
       "      <td>2.1</td>\n",
       "      <td>0.44</td>\n",
       "      <td>212.54</td>\n",
       "      <td>18700</td>\n",
       "      <td>0.0</td>\n",
       "      <td>0.0</td>\n",
       "      <td>0.0</td>\n",
       "      <td>1.0</td>\n",
       "      <td>88.0</td>\n",
       "      <td>1.0</td>\n",
       "      <td>1111</td>\n",
       "      <td>0</td>\n",
       "      <td>1111</td>\n",
       "      <td>0</td>\n",
       "      <td>1711</td>\n",
       "      <td>1</td>\n",
       "      <td>1</td>\n",
       "      <td>MARBELLA</td>\n",
       "      <td>MALAGA</td>\n",
       "      <td>2021-02-22</td>\n",
       "      <td>0.0</td>\n",
       "      <td>0.0</td>\n",
       "      <td>0.0</td>\n",
       "      <td>94</td>\n",
       "      <td>0.0</td>\n",
       "      <td>B02658334</td>\n",
       "      <td>1</td>\n",
       "    </tr>\n",
       "    <tr>\n",
       "      <th>380838</th>\n",
       "      <td>1108174</td>\n",
       "      <td>2021-04-30</td>\n",
       "      <td>2021</td>\n",
       "      <td>0.0</td>\n",
       "      <td>0.0</td>\n",
       "      <td>1.68</td>\n",
       "      <td>9.68</td>\n",
       "      <td>18811</td>\n",
       "      <td>1.0</td>\n",
       "      <td>8.0</td>\n",
       "      <td>8.0</td>\n",
       "      <td>0.0</td>\n",
       "      <td>30.0</td>\n",
       "      <td>1.0</td>\n",
       "      <td>112</td>\n",
       "      <td>0</td>\n",
       "      <td>111</td>\n",
       "      <td>0</td>\n",
       "      <td>99999</td>\n",
       "      <td>1</td>\n",
       "      <td>1</td>\n",
       "      <td>BARCELONA</td>\n",
       "      <td>BARCELONA</td>\n",
       "      <td>2021-04-26</td>\n",
       "      <td>0.0</td>\n",
       "      <td>0.0</td>\n",
       "      <td>0.0</td>\n",
       "      <td>68</td>\n",
       "      <td>0.0</td>\n",
       "      <td>B67512095</td>\n",
       "      <td>3</td>\n",
       "    </tr>\n",
       "    <tr>\n",
       "      <th>380839</th>\n",
       "      <td>Q145044</td>\n",
       "      <td>2021-04-30</td>\n",
       "      <td>2021</td>\n",
       "      <td>440.0</td>\n",
       "      <td>10.0</td>\n",
       "      <td>2.52</td>\n",
       "      <td>454.52</td>\n",
       "      <td>18811</td>\n",
       "      <td>0.0</td>\n",
       "      <td>0.0</td>\n",
       "      <td>0.0</td>\n",
       "      <td>0.0</td>\n",
       "      <td>88.0</td>\n",
       "      <td>1.0</td>\n",
       "      <td>112</td>\n",
       "      <td>0</td>\n",
       "      <td>111</td>\n",
       "      <td>0</td>\n",
       "      <td>99999</td>\n",
       "      <td>1</td>\n",
       "      <td>1</td>\n",
       "      <td>BARCELONA</td>\n",
       "      <td>BARCELONA</td>\n",
       "      <td>2021-04-26</td>\n",
       "      <td>0.0</td>\n",
       "      <td>0.0</td>\n",
       "      <td>0.0</td>\n",
       "      <td>68</td>\n",
       "      <td>0.0</td>\n",
       "      <td>B67512095</td>\n",
       "      <td>3</td>\n",
       "    </tr>\n",
       "  </tbody>\n",
       "</table>\n",
       "</div>"
      ],
      "text/plain": [
       "          FACNUM     FACFEC  FACYEAR  ...  PAGDEU          PAGCIF  PAGPER\n",
       "380835  1019187  2020-12-03     2020  ...     0.0  B56025950            1\n",
       "380836  1106163  2021-04-01     2021  ...     0.0  B02658334            1\n",
       "380837  Q144645  2021-04-21     2021  ...     0.0  B02658334            1\n",
       "380838  1108174  2021-04-30     2021  ...     0.0  B67512095            3\n",
       "380839  Q145044  2021-04-30     2021  ...     0.0  B67512095            3\n",
       "\n",
       "[5 rows x 31 columns]"
      ]
     },
     "execution_count": 42,
     "metadata": {
      "tags": []
     },
     "output_type": "execute_result"
    }
   ],
   "source": [
    "# Create Billing Year column ('FACYEAR') to better organize and analyze the data\n",
    "year = pd.DatetimeIndex(df_all['FACFEC']).year\n",
    "df_all.insert(2, 'FACYEAR', year)\n",
    "df_all.tail()"
   ]
  },
  {
   "cell_type": "markdown",
   "metadata": {
    "id": "l4H0SWoE2zm7"
   },
   "source": [
    "#### **Invoice Type & Product Type**\n",
    "\n",
    "Invoices with invoice number starting from an English alphabet are \"Special Invoices\". When the nominal value of an invoice is negative, it may imply that it's a cancellation invoice or it's a case that Up Spain has to return the money to the clients for a specific reason.\n",
    "\n",
    "As for the product type of each invoice, as one invoice can only belong to one product, now I will create a new column in the dataset to identify the corresponding product type based on the information given by Up Spain:\n",
    "\n",
    "Invoice starting number and its corresponding product type:\n",
    "\n",
    "*   0\tCheque Comida\n",
    "*   1\tTarjeta Comida\n",
    "*   2\tTarjeta Transporte\n",
    "*   5\tCadhoc\n",
    "*   6\tGuardería\n",
    "*   9\tRetriplus\n",
    "\n",
    "I will create another column that will specify the special invoices so that it's easier for the analysis later.\n",
    "\n",
    "!!!IMPORTANT!!!\n",
    "Here I have to confirm with Up Spain if all special invoices shouldn't be included into the calculation. As there are some special invoices do have positive nominal value."
   ]
  },
  {
   "cell_type": "code",
   "execution_count": null,
   "metadata": {
    "id": "EM1a_Jnd59Wu"
   },
   "outputs": [],
   "source": [
    "# Create a function to identify the product type of each invoice.\n",
    "def proType(x):\n",
    "  num_list = list(map(str,range(0,10,1)))\n",
    "  if x[0] == '0' or ((x[0] not in num_list) and (x[1]=='0')):\n",
    "    return 'Cheque Comida'\n",
    "  elif x[0] == '1' or ((x[0] not in num_list) and (x[1]=='1')):\n",
    "    return 'Tarjeta Comida'\n",
    "  elif x[0] == '2' or ((x[0] not in num_list) and (x[1]=='2')):\n",
    "    return 'Tarjeta Transporte'\n",
    "  elif x[0] == '5' or ((x[0] not in num_list) and (x[1]=='5')):\n",
    "    return 'Cadhoc'\n",
    "  elif x[0] == '6' or ((x[0] not in num_list) and (x[1]=='6')):\n",
    "    return 'Guardería'\n",
    "  elif x[0] == '9' or ((x[0] not in num_list) and (x[1]=='9')):\n",
    "    return 'Retriplus'\n",
    "  else:\n",
    "    return 'Others' \n",
    "\n",
    "\n",
    "# Create a function to specify special invoices.\n",
    "def special(x):\n",
    "  num_list = list(map(str,range(0,10,1)))\n",
    "  if x[0] not in num_list:\n",
    "    return 1\n",
    "  else:\n",
    "    return 0"
   ]
  },
  {
   "cell_type": "code",
   "execution_count": null,
   "metadata": {
    "id": "OELnwGncAOjq"
   },
   "outputs": [],
   "source": [
    "# Apply the function to the dataframe so that we have a new column that indicates the product type per invoice\n",
    "productType = df_all['FACNUM'].apply(proType)\n",
    "specialInvoice = df_all['FACNUM'].apply(special)\n",
    "df_all.insert(0,'ProductType',productType)\n",
    "df_all.insert(2,'SpecialInvoice',specialInvoice)"
   ]
  },
  {
   "cell_type": "code",
   "execution_count": null,
   "metadata": {
    "colab": {
     "base_uri": "https://localhost:8080/",
     "height": 292
    },
    "executionInfo": {
     "elapsed": 134860,
     "status": "ok",
     "timestamp": 1620980511759,
     "user": {
      "displayName": "Yijie Hsieh",
      "photoUrl": "",
      "userId": "01348553246469964659"
     },
     "user_tz": -120
    },
    "id": "TzWZ96H7L-Wr",
    "outputId": "4480c67d-1556-40ba-c4be-9b97911d2750"
   },
   "outputs": [
    {
     "data": {
      "text/html": [
       "<div>\n",
       "<style scoped>\n",
       "    .dataframe tbody tr th:only-of-type {\n",
       "        vertical-align: middle;\n",
       "    }\n",
       "\n",
       "    .dataframe tbody tr th {\n",
       "        vertical-align: top;\n",
       "    }\n",
       "\n",
       "    .dataframe thead th {\n",
       "        text-align: right;\n",
       "    }\n",
       "</style>\n",
       "<table border=\"1\" class=\"dataframe\">\n",
       "  <thead>\n",
       "    <tr style=\"text-align: right;\">\n",
       "      <th></th>\n",
       "      <th>ProductType</th>\n",
       "      <th>FACNUM</th>\n",
       "      <th>SpecialInvoice</th>\n",
       "      <th>FACFEC</th>\n",
       "      <th>FACYEAR</th>\n",
       "      <th>FACBRU</th>\n",
       "      <th>FACCOM</th>\n",
       "      <th>FACIVA</th>\n",
       "      <th>FACNET</th>\n",
       "      <th>FACCLI</th>\n",
       "      <th>FACENV</th>\n",
       "      <th>FACPTS</th>\n",
       "      <th>FACTRA</th>\n",
       "      <th>FACPCO</th>\n",
       "      <th>FACTFA</th>\n",
       "      <th>FACINT</th>\n",
       "      <th>FACMOD</th>\n",
       "      <th>PAGLOG</th>\n",
       "      <th>PAGMOD</th>\n",
       "      <th>PAGDIA</th>\n",
       "      <th>PAGGRU</th>\n",
       "      <th>PAGALB</th>\n",
       "      <th>PAGFAC</th>\n",
       "      <th>PAGPOF</th>\n",
       "      <th>PAGPRF</th>\n",
       "      <th>PAGFEC</th>\n",
       "      <th>PAGCOM</th>\n",
       "      <th>PAGFIJ</th>\n",
       "      <th>PAGTRA</th>\n",
       "      <th>PAGVEN</th>\n",
       "      <th>PAGDEU</th>\n",
       "      <th>PAGCIF</th>\n",
       "      <th>PAGPER</th>\n",
       "    </tr>\n",
       "  </thead>\n",
       "  <tbody>\n",
       "    <tr>\n",
       "      <th>0</th>\n",
       "      <td>Cadhoc</td>\n",
       "      <td>L500139</td>\n",
       "      <td>1</td>\n",
       "      <td>2020-10-30</td>\n",
       "      <td>2020</td>\n",
       "      <td>18550.0</td>\n",
       "      <td>0.0</td>\n",
       "      <td>0.00</td>\n",
       "      <td>18550.00</td>\n",
       "      <td>13290</td>\n",
       "      <td>0.0</td>\n",
       "      <td>0.0</td>\n",
       "      <td>0.0</td>\n",
       "      <td>0.0</td>\n",
       "      <td>1.0</td>\n",
       "      <td>1.0</td>\n",
       "      <td>1111</td>\n",
       "      <td>0</td>\n",
       "      <td>1111</td>\n",
       "      <td>0</td>\n",
       "      <td>507</td>\n",
       "      <td>1</td>\n",
       "      <td>1</td>\n",
       "      <td>ALCOBENDAS</td>\n",
       "      <td>MADRID</td>\n",
       "      <td>2019-12-30</td>\n",
       "      <td>0.0</td>\n",
       "      <td>0.0</td>\n",
       "      <td>0.0</td>\n",
       "      <td>86</td>\n",
       "      <td>0.0</td>\n",
       "      <td>B82378431</td>\n",
       "      <td>1</td>\n",
       "    </tr>\n",
       "    <tr>\n",
       "      <th>1</th>\n",
       "      <td>Cadhoc</td>\n",
       "      <td>E500047</td>\n",
       "      <td>1</td>\n",
       "      <td>2020-10-30</td>\n",
       "      <td>2020</td>\n",
       "      <td>682.5</td>\n",
       "      <td>0.0</td>\n",
       "      <td>143.33</td>\n",
       "      <td>825.83</td>\n",
       "      <td>13290</td>\n",
       "      <td>0.0</td>\n",
       "      <td>0.0</td>\n",
       "      <td>0.0</td>\n",
       "      <td>0.0</td>\n",
       "      <td>1.0</td>\n",
       "      <td>0.0</td>\n",
       "      <td>1111</td>\n",
       "      <td>0</td>\n",
       "      <td>1111</td>\n",
       "      <td>0</td>\n",
       "      <td>507</td>\n",
       "      <td>1</td>\n",
       "      <td>1</td>\n",
       "      <td>ALCOBENDAS</td>\n",
       "      <td>MADRID</td>\n",
       "      <td>2019-12-30</td>\n",
       "      <td>0.0</td>\n",
       "      <td>0.0</td>\n",
       "      <td>0.0</td>\n",
       "      <td>86</td>\n",
       "      <td>0.0</td>\n",
       "      <td>B82378431</td>\n",
       "      <td>1</td>\n",
       "    </tr>\n",
       "    <tr>\n",
       "      <th>2</th>\n",
       "      <td>Cadhoc</td>\n",
       "      <td>E500018</td>\n",
       "      <td>1</td>\n",
       "      <td>2016-10-17</td>\n",
       "      <td>2016</td>\n",
       "      <td>741.0</td>\n",
       "      <td>0.0</td>\n",
       "      <td>0.00</td>\n",
       "      <td>741.00</td>\n",
       "      <td>13290</td>\n",
       "      <td>0.0</td>\n",
       "      <td>0.0</td>\n",
       "      <td>0.0</td>\n",
       "      <td>0.0</td>\n",
       "      <td>1.0</td>\n",
       "      <td>1.0</td>\n",
       "      <td>1111</td>\n",
       "      <td>0</td>\n",
       "      <td>1111</td>\n",
       "      <td>0</td>\n",
       "      <td>507</td>\n",
       "      <td>1</td>\n",
       "      <td>1</td>\n",
       "      <td>ALCOBENDAS</td>\n",
       "      <td>MADRID</td>\n",
       "      <td>2019-12-30</td>\n",
       "      <td>0.0</td>\n",
       "      <td>0.0</td>\n",
       "      <td>0.0</td>\n",
       "      <td>86</td>\n",
       "      <td>0.0</td>\n",
       "      <td>B82378431</td>\n",
       "      <td>1</td>\n",
       "    </tr>\n",
       "    <tr>\n",
       "      <th>3</th>\n",
       "      <td>Cadhoc</td>\n",
       "      <td>L500026</td>\n",
       "      <td>1</td>\n",
       "      <td>2016-10-17</td>\n",
       "      <td>2016</td>\n",
       "      <td>20140.0</td>\n",
       "      <td>0.0</td>\n",
       "      <td>0.00</td>\n",
       "      <td>20140.00</td>\n",
       "      <td>13290</td>\n",
       "      <td>0.0</td>\n",
       "      <td>0.0</td>\n",
       "      <td>0.0</td>\n",
       "      <td>0.0</td>\n",
       "      <td>1.0</td>\n",
       "      <td>1.0</td>\n",
       "      <td>1111</td>\n",
       "      <td>0</td>\n",
       "      <td>1111</td>\n",
       "      <td>0</td>\n",
       "      <td>507</td>\n",
       "      <td>1</td>\n",
       "      <td>1</td>\n",
       "      <td>ALCOBENDAS</td>\n",
       "      <td>MADRID</td>\n",
       "      <td>2019-12-30</td>\n",
       "      <td>0.0</td>\n",
       "      <td>0.0</td>\n",
       "      <td>0.0</td>\n",
       "      <td>86</td>\n",
       "      <td>0.0</td>\n",
       "      <td>B82378431</td>\n",
       "      <td>1</td>\n",
       "    </tr>\n",
       "    <tr>\n",
       "      <th>4</th>\n",
       "      <td>Cadhoc</td>\n",
       "      <td>E500021</td>\n",
       "      <td>1</td>\n",
       "      <td>2016-11-25</td>\n",
       "      <td>2016</td>\n",
       "      <td>-741.0</td>\n",
       "      <td>0.0</td>\n",
       "      <td>0.00</td>\n",
       "      <td>-741.00</td>\n",
       "      <td>13290</td>\n",
       "      <td>0.0</td>\n",
       "      <td>0.0</td>\n",
       "      <td>0.0</td>\n",
       "      <td>0.0</td>\n",
       "      <td>1.0</td>\n",
       "      <td>1.0</td>\n",
       "      <td>1111</td>\n",
       "      <td>0</td>\n",
       "      <td>1111</td>\n",
       "      <td>0</td>\n",
       "      <td>507</td>\n",
       "      <td>1</td>\n",
       "      <td>1</td>\n",
       "      <td>ALCOBENDAS</td>\n",
       "      <td>MADRID</td>\n",
       "      <td>2019-12-30</td>\n",
       "      <td>0.0</td>\n",
       "      <td>0.0</td>\n",
       "      <td>0.0</td>\n",
       "      <td>86</td>\n",
       "      <td>0.0</td>\n",
       "      <td>B82378431</td>\n",
       "      <td>1</td>\n",
       "    </tr>\n",
       "  </tbody>\n",
       "</table>\n",
       "</div>"
      ],
      "text/plain": [
       "  ProductType    FACNUM  SpecialInvoice  ... PAGDEU          PAGCIF  PAGPER\n",
       "0      Cadhoc  L500139                1  ...    0.0  B82378431            1\n",
       "1      Cadhoc  E500047                1  ...    0.0  B82378431            1\n",
       "2      Cadhoc  E500018                1  ...    0.0  B82378431            1\n",
       "3      Cadhoc  L500026                1  ...    0.0  B82378431            1\n",
       "4      Cadhoc  E500021                1  ...    0.0  B82378431            1\n",
       "\n",
       "[5 rows x 33 columns]"
      ]
     },
     "execution_count": 45,
     "metadata": {
      "tags": []
     },
     "output_type": "execute_result"
    }
   ],
   "source": [
    "df_all.head()"
   ]
  },
  {
   "cell_type": "markdown",
   "metadata": {
    "id": "NaVyuM7RvCB0"
   },
   "source": [
    "#### **Recency**\n",
    "\n",
    "In order to create a variable that indicates the duration (in day) since their last purchase, I have to find out the last purchase date of each client and calculate the difference of today (May 12, 2021).\n",
    "\n",
    "Be careful! Here I'm only interested in the standard invoices (rather than the special invoices.) So I should only take the last \"standard invoice\" date to calculate the Recency."
   ]
  },
  {
   "cell_type": "code",
   "execution_count": null,
   "metadata": {
    "colab": {
     "base_uri": "https://localhost:8080/",
     "height": 292
    },
    "executionInfo": {
     "elapsed": 135574,
     "status": "ok",
     "timestamp": 1620980512493,
     "user": {
      "displayName": "Yijie Hsieh",
      "photoUrl": "",
      "userId": "01348553246469964659"
     },
     "user_tz": -120
    },
    "id": "ZusgycjAvDHF",
    "outputId": "75affa35-60e8-4899-f12d-37ef2347f3c5"
   },
   "outputs": [
    {
     "data": {
      "text/html": [
       "<div>\n",
       "<style scoped>\n",
       "    .dataframe tbody tr th:only-of-type {\n",
       "        vertical-align: middle;\n",
       "    }\n",
       "\n",
       "    .dataframe tbody tr th {\n",
       "        vertical-align: top;\n",
       "    }\n",
       "\n",
       "    .dataframe thead th {\n",
       "        text-align: right;\n",
       "    }\n",
       "</style>\n",
       "<table border=\"1\" class=\"dataframe\">\n",
       "  <thead>\n",
       "    <tr style=\"text-align: right;\">\n",
       "      <th></th>\n",
       "      <th>ProductType</th>\n",
       "      <th>FACNUM</th>\n",
       "      <th>SpecialInvoice</th>\n",
       "      <th>FACFEC</th>\n",
       "      <th>FACYEAR</th>\n",
       "      <th>FACBRU</th>\n",
       "      <th>FACCOM</th>\n",
       "      <th>FACIVA</th>\n",
       "      <th>FACNET</th>\n",
       "      <th>FACCLI</th>\n",
       "      <th>FACENV</th>\n",
       "      <th>FACPTS</th>\n",
       "      <th>FACTRA</th>\n",
       "      <th>FACPCO</th>\n",
       "      <th>FACTFA</th>\n",
       "      <th>FACINT</th>\n",
       "      <th>FACMOD</th>\n",
       "      <th>PAGLOG</th>\n",
       "      <th>PAGMOD</th>\n",
       "      <th>PAGDIA</th>\n",
       "      <th>PAGGRU</th>\n",
       "      <th>PAGALB</th>\n",
       "      <th>PAGFAC</th>\n",
       "      <th>PAGPOF</th>\n",
       "      <th>PAGPRF</th>\n",
       "      <th>PAGFEC</th>\n",
       "      <th>PAGCOM</th>\n",
       "      <th>PAGFIJ</th>\n",
       "      <th>PAGTRA</th>\n",
       "      <th>PAGVEN</th>\n",
       "      <th>PAGDEU</th>\n",
       "      <th>PAGCIF</th>\n",
       "      <th>PAGPER</th>\n",
       "      <th>LastPurchaseDate</th>\n",
       "      <th>Recency</th>\n",
       "    </tr>\n",
       "  </thead>\n",
       "  <tbody>\n",
       "    <tr>\n",
       "      <th>0</th>\n",
       "      <td>Cadhoc</td>\n",
       "      <td>L500139</td>\n",
       "      <td>1</td>\n",
       "      <td>2020-10-30</td>\n",
       "      <td>2020</td>\n",
       "      <td>18550.0</td>\n",
       "      <td>0.0</td>\n",
       "      <td>0.00</td>\n",
       "      <td>18550.00</td>\n",
       "      <td>13290</td>\n",
       "      <td>0.0</td>\n",
       "      <td>0.0</td>\n",
       "      <td>0.0</td>\n",
       "      <td>0.0</td>\n",
       "      <td>1.0</td>\n",
       "      <td>1.0</td>\n",
       "      <td>1111</td>\n",
       "      <td>0</td>\n",
       "      <td>1111</td>\n",
       "      <td>0</td>\n",
       "      <td>507</td>\n",
       "      <td>1</td>\n",
       "      <td>1</td>\n",
       "      <td>ALCOBENDAS</td>\n",
       "      <td>MADRID</td>\n",
       "      <td>2019-12-30</td>\n",
       "      <td>0.0</td>\n",
       "      <td>0.0</td>\n",
       "      <td>0.0</td>\n",
       "      <td>86</td>\n",
       "      <td>0.0</td>\n",
       "      <td>B82378431</td>\n",
       "      <td>1</td>\n",
       "      <td>2021-05-01</td>\n",
       "      <td>13.0</td>\n",
       "    </tr>\n",
       "    <tr>\n",
       "      <th>1</th>\n",
       "      <td>Cadhoc</td>\n",
       "      <td>E500047</td>\n",
       "      <td>1</td>\n",
       "      <td>2020-10-30</td>\n",
       "      <td>2020</td>\n",
       "      <td>682.5</td>\n",
       "      <td>0.0</td>\n",
       "      <td>143.33</td>\n",
       "      <td>825.83</td>\n",
       "      <td>13290</td>\n",
       "      <td>0.0</td>\n",
       "      <td>0.0</td>\n",
       "      <td>0.0</td>\n",
       "      <td>0.0</td>\n",
       "      <td>1.0</td>\n",
       "      <td>0.0</td>\n",
       "      <td>1111</td>\n",
       "      <td>0</td>\n",
       "      <td>1111</td>\n",
       "      <td>0</td>\n",
       "      <td>507</td>\n",
       "      <td>1</td>\n",
       "      <td>1</td>\n",
       "      <td>ALCOBENDAS</td>\n",
       "      <td>MADRID</td>\n",
       "      <td>2019-12-30</td>\n",
       "      <td>0.0</td>\n",
       "      <td>0.0</td>\n",
       "      <td>0.0</td>\n",
       "      <td>86</td>\n",
       "      <td>0.0</td>\n",
       "      <td>B82378431</td>\n",
       "      <td>1</td>\n",
       "      <td>2021-05-01</td>\n",
       "      <td>13.0</td>\n",
       "    </tr>\n",
       "    <tr>\n",
       "      <th>2</th>\n",
       "      <td>Cadhoc</td>\n",
       "      <td>E500018</td>\n",
       "      <td>1</td>\n",
       "      <td>2016-10-17</td>\n",
       "      <td>2016</td>\n",
       "      <td>741.0</td>\n",
       "      <td>0.0</td>\n",
       "      <td>0.00</td>\n",
       "      <td>741.00</td>\n",
       "      <td>13290</td>\n",
       "      <td>0.0</td>\n",
       "      <td>0.0</td>\n",
       "      <td>0.0</td>\n",
       "      <td>0.0</td>\n",
       "      <td>1.0</td>\n",
       "      <td>1.0</td>\n",
       "      <td>1111</td>\n",
       "      <td>0</td>\n",
       "      <td>1111</td>\n",
       "      <td>0</td>\n",
       "      <td>507</td>\n",
       "      <td>1</td>\n",
       "      <td>1</td>\n",
       "      <td>ALCOBENDAS</td>\n",
       "      <td>MADRID</td>\n",
       "      <td>2019-12-30</td>\n",
       "      <td>0.0</td>\n",
       "      <td>0.0</td>\n",
       "      <td>0.0</td>\n",
       "      <td>86</td>\n",
       "      <td>0.0</td>\n",
       "      <td>B82378431</td>\n",
       "      <td>1</td>\n",
       "      <td>2021-05-01</td>\n",
       "      <td>13.0</td>\n",
       "    </tr>\n",
       "    <tr>\n",
       "      <th>3</th>\n",
       "      <td>Cadhoc</td>\n",
       "      <td>L500026</td>\n",
       "      <td>1</td>\n",
       "      <td>2016-10-17</td>\n",
       "      <td>2016</td>\n",
       "      <td>20140.0</td>\n",
       "      <td>0.0</td>\n",
       "      <td>0.00</td>\n",
       "      <td>20140.00</td>\n",
       "      <td>13290</td>\n",
       "      <td>0.0</td>\n",
       "      <td>0.0</td>\n",
       "      <td>0.0</td>\n",
       "      <td>0.0</td>\n",
       "      <td>1.0</td>\n",
       "      <td>1.0</td>\n",
       "      <td>1111</td>\n",
       "      <td>0</td>\n",
       "      <td>1111</td>\n",
       "      <td>0</td>\n",
       "      <td>507</td>\n",
       "      <td>1</td>\n",
       "      <td>1</td>\n",
       "      <td>ALCOBENDAS</td>\n",
       "      <td>MADRID</td>\n",
       "      <td>2019-12-30</td>\n",
       "      <td>0.0</td>\n",
       "      <td>0.0</td>\n",
       "      <td>0.0</td>\n",
       "      <td>86</td>\n",
       "      <td>0.0</td>\n",
       "      <td>B82378431</td>\n",
       "      <td>1</td>\n",
       "      <td>2021-05-01</td>\n",
       "      <td>13.0</td>\n",
       "    </tr>\n",
       "    <tr>\n",
       "      <th>4</th>\n",
       "      <td>Cadhoc</td>\n",
       "      <td>E500021</td>\n",
       "      <td>1</td>\n",
       "      <td>2016-11-25</td>\n",
       "      <td>2016</td>\n",
       "      <td>-741.0</td>\n",
       "      <td>0.0</td>\n",
       "      <td>0.00</td>\n",
       "      <td>-741.00</td>\n",
       "      <td>13290</td>\n",
       "      <td>0.0</td>\n",
       "      <td>0.0</td>\n",
       "      <td>0.0</td>\n",
       "      <td>0.0</td>\n",
       "      <td>1.0</td>\n",
       "      <td>1.0</td>\n",
       "      <td>1111</td>\n",
       "      <td>0</td>\n",
       "      <td>1111</td>\n",
       "      <td>0</td>\n",
       "      <td>507</td>\n",
       "      <td>1</td>\n",
       "      <td>1</td>\n",
       "      <td>ALCOBENDAS</td>\n",
       "      <td>MADRID</td>\n",
       "      <td>2019-12-30</td>\n",
       "      <td>0.0</td>\n",
       "      <td>0.0</td>\n",
       "      <td>0.0</td>\n",
       "      <td>86</td>\n",
       "      <td>0.0</td>\n",
       "      <td>B82378431</td>\n",
       "      <td>1</td>\n",
       "      <td>2021-05-01</td>\n",
       "      <td>13.0</td>\n",
       "    </tr>\n",
       "  </tbody>\n",
       "</table>\n",
       "</div>"
      ],
      "text/plain": [
       "  ProductType    FACNUM  SpecialInvoice  ... PAGPER  LastPurchaseDate  Recency\n",
       "0      Cadhoc  L500139                1  ...      1        2021-05-01     13.0\n",
       "1      Cadhoc  E500047                1  ...      1        2021-05-01     13.0\n",
       "2      Cadhoc  E500018                1  ...      1        2021-05-01     13.0\n",
       "3      Cadhoc  L500026                1  ...      1        2021-05-01     13.0\n",
       "4      Cadhoc  E500021                1  ...      1        2021-05-01     13.0\n",
       "\n",
       "[5 rows x 35 columns]"
      ]
     },
     "execution_count": 46,
     "metadata": {
      "tags": []
     },
     "output_type": "execute_result"
    }
   ],
   "source": [
    "df_lastpurchase = df_all[['FACCLI','FACFEC']][df_all['SpecialInvoice']==0].sort_values('FACFEC').drop_duplicates(subset=['FACCLI'], keep='last', inplace=False)\n",
    "df_lastpurchase.columns = ['FACCLI','LastPurchaseDate']\n",
    "\n",
    "today = pd.to_datetime('today').normalize()\n",
    "\n",
    "df_lastpurchase['Recency'] = abs((df_lastpurchase['LastPurchaseDate'] - today).dt.days)\n",
    "\n",
    "df_all = df_all.merge(df_lastpurchase, how='left',on=['FACCLI'])\n",
    "df_all.head()"
   ]
  },
  {
   "cell_type": "markdown",
   "metadata": {
    "id": "3p8y6gfNvE7P"
   },
   "source": [
    "#### **Frequency**\n",
    "The frequency of the client transactions or visists. In this case I will create a new variable and calculate the average days between invoice dates as frequency.\n",
    "\n",
    "Note:\n",
    "1. If several invoices are issued at the same day from a client, I remove duplicates and only leave 1 date to indicate the purchase date. So the result of the average purchase frequency is more accurate and objective.\n",
    "\n",
    "2. Same as Recency variable, here I'm only interested in the standard invoices (rather than the special invoices.) So I should only take the last \"standard invoice\" date to calculate the Recency."
   ]
  },
  {
   "cell_type": "code",
   "execution_count": null,
   "metadata": {
    "id": "Fu8uR9McvJLL"
   },
   "outputs": [],
   "source": [
    "df_frequency = df_all[['FACCLI','FACFEC']][df_all['SpecialInvoice']==0].sort_values(['FACCLI','FACFEC'])\n",
    "\n",
    "# If several invoices are issued at the same day, I only want to count them as 1 Purchase:\n",
    "def func(df):\n",
    "  for i in df['FACCLI'].unique():\n",
    "    df[df['FACCLI']==i] = df[df['FACCLI']==i].drop_duplicates('FACFEC')\n",
    "  return df\n",
    "\n",
    "df_frequency = func(df_frequency)\n",
    "\n",
    "df_frequency['LastInvoiceDate'] = df_frequency.groupby('FACCLI')['FACFEC'].shift()\n",
    "df_frequency['Frequency'] = (df_frequency['FACFEC'] - df_frequency['LastInvoiceDate']).dt.days\n",
    "df_frequency = df_frequency[['FACCLI','Frequency']].groupby('FACCLI',as_index=False).mean().round(2)\n",
    "\n",
    "df_all = df_all.merge(df_frequency, how='left',on='FACCLI')"
   ]
  },
  {
   "cell_type": "markdown",
   "metadata": {
    "id": "0kNFvhBGvL1Y"
   },
   "source": [
    "#### **Monetary Value**\n",
    "\n",
    "The Monetary Value is the intention of the clients to spend or purchasing power of the clients. Instead of Nominal Value, I will create 2 variables: \n",
    "\n",
    "1. Annual Income of a client.\n",
    "2. The average income per invoice of a client.\n",
    "\n",
    "Note:\n",
    "1. Invoice Income = Total Sales (column 'FACNET') - Nominal Value (column 'FACBRU') - IVA ('FACIVA')\n",
    "2. Average Annual Income of a client: I will only take into account the sales from year 2018-2020 because 2021 hasn't ended and so that the result could reflect more the recent reality. \n",
    "3. The Invoice Income of a client: I will only take into account the sales from year 2018, so the result could reflect more the recent reality. \n",
    "\n"
   ]
  },
  {
   "cell_type": "code",
   "execution_count": null,
   "metadata": {
    "id": "FVWnopmHIE94"
   },
   "outputs": [],
   "source": [
    "# Average Annual Income of a client\n",
    "df_mvalue = df_all[['FACCLI','FACYEAR','FACNUM','FACNET','FACBRU','FACIVA']][(df_all['FACYEAR']>=2018) & (df_all['FACYEAR']<2021)].copy()\n",
    "df_mvalue['Avg.AnualIncome'] = (df_mvalue['FACNET'] - df_mvalue['FACBRU'] - df_mvalue['FACIVA']).round(2)\n",
    "df_mvalue = df_mvalue[['FACCLI','FACYEAR','Avg.AnualIncome']].groupby(['FACCLI','FACYEAR'],as_index=False).sum().groupby('FACCLI', as_index=False).mean().round(2).drop('FACYEAR',axis=1)\n",
    "\n",
    "# Average Income per Invoice of a client\n",
    "df_mvalue1 = df_all[['FACCLI','FACYEAR','FACNUM','FACNET','FACBRU','FACIVA']][df_all['FACYEAR']>=2018].copy()\n",
    "df_mvalue1['Income'] = (df_mvalue1['FACNET'] - df_mvalue1['FACBRU'] - df_mvalue1['FACIVA']).round(2)\n",
    "\n",
    "df_mvalue2 = df_mvalue1.groupby('FACCLI',as_index=False).sum()[['FACCLI','Income']]\n",
    "df_mvalue2['TotalInvoice'] = df_mvalue1.groupby('FACCLI',as_index=False).count()['FACNUM']\n",
    "df_mvalue2['Avg.InvoiceIncome'] = (df_mvalue2['Income']/df_mvalue2['TotalInvoice']).round(2)\n",
    "df_mvalue2.drop(['Income','TotalInvoice'],axis=1,inplace=True)\n",
    "\n",
    "# Merge these 2 variables with the df_all dataframe\n",
    "df_all = df_all.merge(df_mvalue,how='left',on='FACCLI').merge(df_mvalue2, how='left',on='FACCLI')\n"
   ]
  },
  {
   "cell_type": "markdown",
   "metadata": {
    "id": "VI7q9rLhJU4c"
   },
   "source": [
    "Now that we have the variables in order to carry out the RFM analysis."
   ]
  },
  {
   "cell_type": "code",
   "execution_count": null,
   "metadata": {
    "colab": {
     "base_uri": "https://localhost:8080/",
     "height": 191
    },
    "executionInfo": {
     "elapsed": 175136,
     "status": "ok",
     "timestamp": 1620980552082,
     "user": {
      "displayName": "Yijie Hsieh",
      "photoUrl": "",
      "userId": "01348553246469964659"
     },
     "user_tz": -120
    },
    "id": "tPPjPrxkrPfS",
    "outputId": "6a600c96-4979-4550-cbcd-d88c5164413a"
   },
   "outputs": [
    {
     "data": {
      "text/html": [
       "<div>\n",
       "<style scoped>\n",
       "    .dataframe tbody tr th:only-of-type {\n",
       "        vertical-align: middle;\n",
       "    }\n",
       "\n",
       "    .dataframe tbody tr th {\n",
       "        vertical-align: top;\n",
       "    }\n",
       "\n",
       "    .dataframe thead th {\n",
       "        text-align: right;\n",
       "    }\n",
       "</style>\n",
       "<table border=\"1\" class=\"dataframe\">\n",
       "  <thead>\n",
       "    <tr style=\"text-align: right;\">\n",
       "      <th></th>\n",
       "      <th>FACCLI</th>\n",
       "      <th>Recency</th>\n",
       "      <th>Frequency</th>\n",
       "      <th>Avg.AnualIncome</th>\n",
       "      <th>Avg.InvoiceIncome</th>\n",
       "    </tr>\n",
       "  </thead>\n",
       "  <tbody>\n",
       "    <tr>\n",
       "      <th>0</th>\n",
       "      <td>1</td>\n",
       "      <td>18.0</td>\n",
       "      <td>35.71</td>\n",
       "      <td>473.48</td>\n",
       "      <td>14.64</td>\n",
       "    </tr>\n",
       "    <tr>\n",
       "      <th>1</th>\n",
       "      <td>3</td>\n",
       "      <td>934.0</td>\n",
       "      <td>150.22</td>\n",
       "      <td>0.00</td>\n",
       "      <td>0.00</td>\n",
       "    </tr>\n",
       "    <tr>\n",
       "      <th>2</th>\n",
       "      <td>8</td>\n",
       "      <td>531.0</td>\n",
       "      <td>36.52</td>\n",
       "      <td>57.50</td>\n",
       "      <td>2.61</td>\n",
       "    </tr>\n",
       "    <tr>\n",
       "      <th>3</th>\n",
       "      <td>14</td>\n",
       "      <td>491.0</td>\n",
       "      <td>30.99</td>\n",
       "      <td>1055.08</td>\n",
       "      <td>33.67</td>\n",
       "    </tr>\n",
       "    <tr>\n",
       "      <th>4</th>\n",
       "      <td>32</td>\n",
       "      <td>13.0</td>\n",
       "      <td>40.02</td>\n",
       "      <td>858.08</td>\n",
       "      <td>40.11</td>\n",
       "    </tr>\n",
       "  </tbody>\n",
       "</table>\n",
       "</div>"
      ],
      "text/plain": [
       "   FACCLI  Recency  Frequency  Avg.AnualIncome  Avg.InvoiceIncome\n",
       "0       1     18.0      35.71           473.48              14.64\n",
       "1       3    934.0     150.22             0.00               0.00\n",
       "2       8    531.0      36.52            57.50               2.61\n",
       "3      14    491.0      30.99          1055.08              33.67\n",
       "4      32     13.0      40.02           858.08              40.11"
      ]
     },
     "execution_count": 49,
     "metadata": {
      "tags": []
     },
     "output_type": "execute_result"
    }
   ],
   "source": [
    "df_rfm = df_all[['FACCLI','Recency','Frequency','Avg.AnualIncome','Avg.InvoiceIncome']].drop_duplicates('FACCLI').sort_values('FACCLI').reset_index(drop=True)\n",
    "df_rfm.head()"
   ]
  },
  {
   "cell_type": "code",
   "execution_count": null,
   "metadata": {
    "colab": {
     "base_uri": "https://localhost:8080/",
     "height": 277
    },
    "executionInfo": {
     "elapsed": 175117,
     "status": "ok",
     "timestamp": 1620980552083,
     "user": {
      "displayName": "Yijie Hsieh",
      "photoUrl": "",
      "userId": "01348553246469964659"
     },
     "user_tz": -120
    },
    "id": "VG3qtQR9Jyjt",
    "outputId": "487e4039-3628-409a-d704-34750ee622b5"
   },
   "outputs": [
    {
     "data": {
      "text/html": [
       "<div>\n",
       "<style scoped>\n",
       "    .dataframe tbody tr th:only-of-type {\n",
       "        vertical-align: middle;\n",
       "    }\n",
       "\n",
       "    .dataframe tbody tr th {\n",
       "        vertical-align: top;\n",
       "    }\n",
       "\n",
       "    .dataframe thead th {\n",
       "        text-align: right;\n",
       "    }\n",
       "</style>\n",
       "<table border=\"1\" class=\"dataframe\">\n",
       "  <thead>\n",
       "    <tr style=\"text-align: right;\">\n",
       "      <th></th>\n",
       "      <th>FACCLI</th>\n",
       "      <th>Recency</th>\n",
       "      <th>Frequency</th>\n",
       "      <th>Avg.AnualIncome</th>\n",
       "      <th>Avg.InvoiceIncome</th>\n",
       "    </tr>\n",
       "  </thead>\n",
       "  <tbody>\n",
       "    <tr>\n",
       "      <th>count</th>\n",
       "      <td>4677.000000</td>\n",
       "      <td>4571.000000</td>\n",
       "      <td>4279.000000</td>\n",
       "      <td>2855.000000</td>\n",
       "      <td>2885.000000</td>\n",
       "    </tr>\n",
       "    <tr>\n",
       "      <th>mean</th>\n",
       "      <td>12181.748343</td>\n",
       "      <td>1093.937432</td>\n",
       "      <td>64.612388</td>\n",
       "      <td>362.205566</td>\n",
       "      <td>22.188887</td>\n",
       "    </tr>\n",
       "    <tr>\n",
       "      <th>std</th>\n",
       "      <td>7281.818186</td>\n",
       "      <td>1247.458188</td>\n",
       "      <td>108.763447</td>\n",
       "      <td>783.729136</td>\n",
       "      <td>29.652596</td>\n",
       "    </tr>\n",
       "    <tr>\n",
       "      <th>min</th>\n",
       "      <td>1.000000</td>\n",
       "      <td>4.000000</td>\n",
       "      <td>1.000000</td>\n",
       "      <td>-2.720000</td>\n",
       "      <td>-2.720000</td>\n",
       "    </tr>\n",
       "    <tr>\n",
       "      <th>25%</th>\n",
       "      <td>7763.000000</td>\n",
       "      <td>28.000000</td>\n",
       "      <td>24.595000</td>\n",
       "      <td>29.395000</td>\n",
       "      <td>2.830000</td>\n",
       "    </tr>\n",
       "    <tr>\n",
       "      <th>50%</th>\n",
       "      <td>11648.000000</td>\n",
       "      <td>480.000000</td>\n",
       "      <td>32.860000</td>\n",
       "      <td>138.150000</td>\n",
       "      <td>11.300000</td>\n",
       "    </tr>\n",
       "    <tr>\n",
       "      <th>75%</th>\n",
       "      <td>16070.000000</td>\n",
       "      <td>2289.500000</td>\n",
       "      <td>66.220000</td>\n",
       "      <td>389.010000</td>\n",
       "      <td>29.090000</td>\n",
       "    </tr>\n",
       "    <tr>\n",
       "      <th>max</th>\n",
       "      <td>80001.000000</td>\n",
       "      <td>8156.000000</td>\n",
       "      <td>2527.670000</td>\n",
       "      <td>15227.750000</td>\n",
       "      <td>305.360000</td>\n",
       "    </tr>\n",
       "  </tbody>\n",
       "</table>\n",
       "</div>"
      ],
      "text/plain": [
       "             FACCLI      Recency  ...  Avg.AnualIncome  Avg.InvoiceIncome\n",
       "count   4677.000000  4571.000000  ...      2855.000000        2885.000000\n",
       "mean   12181.748343  1093.937432  ...       362.205566          22.188887\n",
       "std     7281.818186  1247.458188  ...       783.729136          29.652596\n",
       "min        1.000000     4.000000  ...        -2.720000          -2.720000\n",
       "25%     7763.000000    28.000000  ...        29.395000           2.830000\n",
       "50%    11648.000000   480.000000  ...       138.150000          11.300000\n",
       "75%    16070.000000  2289.500000  ...       389.010000          29.090000\n",
       "max    80001.000000  8156.000000  ...     15227.750000         305.360000\n",
       "\n",
       "[8 rows x 5 columns]"
      ]
     },
     "execution_count": 50,
     "metadata": {
      "tags": []
     },
     "output_type": "execute_result"
    }
   ],
   "source": [
    "df_rfm.describe()"
   ]
  },
  {
   "cell_type": "markdown",
   "metadata": {
    "id": "Yyz5KakfudsD"
   },
   "source": [
    "#### Visualize the Variables"
   ]
  },
  {
   "cell_type": "code",
   "execution_count": null,
   "metadata": {
    "colab": {
     "base_uri": "https://localhost:8080/",
     "height": 1000
    },
    "executionInfo": {
     "elapsed": 178198,
     "status": "ok",
     "timestamp": 1620980555184,
     "user": {
      "displayName": "Yijie Hsieh",
      "photoUrl": "",
      "userId": "01348553246469964659"
     },
     "user_tz": -120
    },
    "id": "j7jL-iEsKDar",
    "outputId": "75b29234-e72e-4ac0-867b-2fb28ea622bc"
   },
   "outputs": [
    {
     "data": {
      "image/png": "[encoded data removed]",
      "text/plain": [
       "<Figure size 576x396 with 1 Axes>"
      ]
     },
     "metadata": {
      "tags": []
     },
     "output_type": "display_data"
    },
    {
     "data": {
      "image/png": "[encoded data removed]",
      "text/plain": [
       "<Figure size 576x396 with 1 Axes>"
      ]
     },
     "metadata": {
      "tags": []
     },
     "output_type": "display_data"
    },
    {
     "data": {
      "image/png": "[encoded data removed]",
      "text/plain": [
       "<Figure size 576x396 with 1 Axes>"
      ]
     },
     "metadata": {
      "tags": []
     },
     "output_type": "display_data"
    },
    {
     "data": {
      "image/png": "[encoded data removed]",
      "text/plain": [
       "<Figure size 576x396 with 1 Axes>"
      ]
     },
     "metadata": {
      "tags": []
     },
     "output_type": "display_data"
    },
    {
     "data": {
      "text/plain": [
       "<Figure size 576x396 with 0 Axes>"
      ]
     },
     "metadata": {
      "tags": []
     },
     "output_type": "display_data"
    }
   ],
   "source": [
    "for i in df_rfm.columns[1:]:\n",
    "  sns.histplot(x = df_rfm[i])\n",
    "  plt.figure()"
   ]
  },
  {
   "cell_type": "code",
   "execution_count": null,
   "metadata": {
    "colab": {
     "base_uri": "https://localhost:8080/",
     "height": 347
    },
    "executionInfo": {
     "elapsed": 178675,
     "status": "ok",
     "timestamp": 1620980555679,
     "user": {
      "displayName": "Yijie Hsieh",
      "photoUrl": "",
      "userId": "01348553246469964659"
     },
     "user_tz": -120
    },
    "id": "ZIie5N0Kupc4",
    "outputId": "73c31892-da89-4e29-cdee-4ebcc821968f"
   },
   "outputs": [
    {
     "data": {
      "image/png": "[encoded data removed]",
      "text/plain": [
       "<Figure size 576x396 with 2 Axes>"
      ]
     },
     "metadata": {
      "tags": []
     },
     "output_type": "display_data"
    }
   ],
   "source": [
    "corr = round(df_rfm.iloc[:,1:5].corr(),2)\n",
    "corr = corr.mask(np.triu(np.ones(corr.shape)).astype(np.bool))\n",
    "\n",
    "fig, ax = plt.subplots()\n",
    "\n",
    "sns.heatmap(corr, annot=True, linewidths=.5,ax=ax, cmap='BrBG')\n",
    "plt.show()"
   ]
  },
  {
   "cell_type": "markdown",
   "metadata": {
    "id": "h9NvsPIQO3YV"
   },
   "source": [
    "### Client Segmentation\n",
    "!!!IMPORTANT!!!\n",
    "\n",
    "This part I should confirm with Up Spain if the segmentations make sense and if I should adjust relative importance/weights of each variables to get the RFM Score. (Maybe types of product would have impact on the weights.)\n",
    "\n",
    "Now the dataset df_rfm is ready for me create clients segmentations based on these variables.\n",
    "\n",
    "I will assign score from 1 to 4 (4 is more preferable) in each rfm variable using quantiles, then create client segmentations based on the following criteria:\n",
    "\n",
    "1. **Key Clients:** High Recency(4), High frequency(4), High Monetary Value(4)\n",
    "2. **Loyal Clients:** High frequency(4)\n",
    "3. **Lost Clients:** Low Recency(1)\n",
    "4. **High Value Clients:** High Monetary Value(4)"
   ]
  },
  {
   "cell_type": "code",
   "execution_count": null,
   "metadata": {
    "colab": {
     "base_uri": "https://localhost:8080/",
     "height": 191
    },
    "executionInfo": {
     "elapsed": 178660,
     "status": "ok",
     "timestamp": 1620980555680,
     "user": {
      "displayName": "Yijie Hsieh",
      "photoUrl": "",
      "userId": "01348553246469964659"
     },
     "user_tz": -120
    },
    "id": "3UZIQtyLKrL2",
    "outputId": "e4ba4aa8-2aba-4be2-84e8-cfa3688e6fc4"
   },
   "outputs": [
    {
     "data": {
      "text/html": [
       "<div>\n",
       "<style scoped>\n",
       "    .dataframe tbody tr th:only-of-type {\n",
       "        vertical-align: middle;\n",
       "    }\n",
       "\n",
       "    .dataframe tbody tr th {\n",
       "        vertical-align: top;\n",
       "    }\n",
       "\n",
       "    .dataframe thead th {\n",
       "        text-align: right;\n",
       "    }\n",
       "</style>\n",
       "<table border=\"1\" class=\"dataframe\">\n",
       "  <thead>\n",
       "    <tr style=\"text-align: right;\">\n",
       "      <th></th>\n",
       "      <th>FACCLI</th>\n",
       "      <th>Recency</th>\n",
       "      <th>Frequency</th>\n",
       "      <th>Avg.AnualIncome</th>\n",
       "      <th>Avg.InvoiceIncome</th>\n",
       "    </tr>\n",
       "  </thead>\n",
       "  <tbody>\n",
       "    <tr>\n",
       "      <th>0</th>\n",
       "      <td>1</td>\n",
       "      <td>18.0</td>\n",
       "      <td>35.71</td>\n",
       "      <td>473.48</td>\n",
       "      <td>14.64</td>\n",
       "    </tr>\n",
       "    <tr>\n",
       "      <th>1</th>\n",
       "      <td>3</td>\n",
       "      <td>934.0</td>\n",
       "      <td>150.22</td>\n",
       "      <td>0.00</td>\n",
       "      <td>0.00</td>\n",
       "    </tr>\n",
       "    <tr>\n",
       "      <th>2</th>\n",
       "      <td>8</td>\n",
       "      <td>531.0</td>\n",
       "      <td>36.52</td>\n",
       "      <td>57.50</td>\n",
       "      <td>2.61</td>\n",
       "    </tr>\n",
       "    <tr>\n",
       "      <th>3</th>\n",
       "      <td>14</td>\n",
       "      <td>491.0</td>\n",
       "      <td>30.99</td>\n",
       "      <td>1055.08</td>\n",
       "      <td>33.67</td>\n",
       "    </tr>\n",
       "    <tr>\n",
       "      <th>4</th>\n",
       "      <td>32</td>\n",
       "      <td>13.0</td>\n",
       "      <td>40.02</td>\n",
       "      <td>858.08</td>\n",
       "      <td>40.11</td>\n",
       "    </tr>\n",
       "  </tbody>\n",
       "</table>\n",
       "</div>"
      ],
      "text/plain": [
       "   FACCLI  Recency  Frequency  Avg.AnualIncome  Avg.InvoiceIncome\n",
       "0       1     18.0      35.71           473.48              14.64\n",
       "1       3    934.0     150.22             0.00               0.00\n",
       "2       8    531.0      36.52            57.50               2.61\n",
       "3      14    491.0      30.99          1055.08              33.67\n",
       "4      32     13.0      40.02           858.08              40.11"
      ]
     },
     "execution_count": 53,
     "metadata": {
      "tags": []
     },
     "output_type": "execute_result"
    }
   ],
   "source": [
    "df_rfm.head()"
   ]
  },
  {
   "cell_type": "code",
   "execution_count": null,
   "metadata": {
    "colab": {
     "base_uri": "https://localhost:8080/"
    },
    "executionInfo": {
     "elapsed": 178649,
     "status": "ok",
     "timestamp": 1620980555681,
     "user": {
      "displayName": "Yijie Hsieh",
      "photoUrl": "",
      "userId": "01348553246469964659"
     },
     "user_tz": -120
    },
    "id": "16inV6LsYRbw",
    "outputId": "805b6830-1ac3-4121-d67f-018ad603add6"
   },
   "outputs": [
    {
     "data": {
      "text/plain": [
       "{'Avg.AnualIncome': {0.25: 29.395, 0.5: 138.15, 0.75: 389.01},\n",
       " 'Avg.InvoiceIncome': {0.25: 2.83, 0.5: 11.3, 0.75: 29.09},\n",
       " 'FACCLI': {0.25: 7763.0, 0.5: 11648.0, 0.75: 16070.0},\n",
       " 'Frequency': {0.25: 24.595, 0.5: 32.86, 0.75: 66.22},\n",
       " 'Recency': {0.25: 28.0, 0.5: 480.0, 0.75: 2289.5}}"
      ]
     },
     "execution_count": 54,
     "metadata": {
      "tags": []
     },
     "output_type": "execute_result"
    }
   ],
   "source": [
    "quantiles = df_rfm.quantile(q=[0.25,0.5,0.75])\n",
    "quantiles = quantiles.to_dict()\n",
    "quantiles"
   ]
  },
  {
   "cell_type": "code",
   "execution_count": null,
   "metadata": {
    "id": "BDgMz8njYWzL"
   },
   "outputs": [],
   "source": [
    "def RScore(x,p,d):\n",
    "    if x <= d[p][0.25]:\n",
    "        return 4\n",
    "    elif x <= d[p][0.50]:\n",
    "        return 3\n",
    "    elif x <= d[p][0.75]: \n",
    "        return 2\n",
    "    else:\n",
    "        return 1\n",
    "    \n",
    "def FMScore(x,p,d):\n",
    "    if x <= d[p][0.25]:\n",
    "        return 1\n",
    "    elif x <= d[p][0.50]:\n",
    "        return 2\n",
    "    elif x <= d[p][0.75]: \n",
    "        return 3\n",
    "    else:\n",
    "        return 4"
   ]
  },
  {
   "cell_type": "code",
   "execution_count": null,
   "metadata": {
    "colab": {
     "base_uri": "https://localhost:8080/",
     "height": 335
    },
    "executionInfo": {
     "elapsed": 178628,
     "status": "ok",
     "timestamp": 1620980555682,
     "user": {
      "displayName": "Yijie Hsieh",
      "photoUrl": "",
      "userId": "01348553246469964659"
     },
     "user_tz": -120
    },
    "id": "NxDgQkRTYy_F",
    "outputId": "b60b0007-b53f-4da7-ee84-13a6ff74049b"
   },
   "outputs": [
    {
     "data": {
      "text/html": [
       "<div>\n",
       "<style scoped>\n",
       "    .dataframe tbody tr th:only-of-type {\n",
       "        vertical-align: middle;\n",
       "    }\n",
       "\n",
       "    .dataframe tbody tr th {\n",
       "        vertical-align: top;\n",
       "    }\n",
       "\n",
       "    .dataframe thead th {\n",
       "        text-align: right;\n",
       "    }\n",
       "</style>\n",
       "<table border=\"1\" class=\"dataframe\">\n",
       "  <thead>\n",
       "    <tr style=\"text-align: right;\">\n",
       "      <th></th>\n",
       "      <th>FACCLI</th>\n",
       "      <th>Recency</th>\n",
       "      <th>Frequency</th>\n",
       "      <th>Avg.AnualIncome</th>\n",
       "      <th>Avg.InvoiceIncome</th>\n",
       "      <th>R_Score</th>\n",
       "      <th>F_Score</th>\n",
       "      <th>M_Score</th>\n",
       "      <th>RFM_Score</th>\n",
       "    </tr>\n",
       "  </thead>\n",
       "  <tbody>\n",
       "    <tr>\n",
       "      <th>0</th>\n",
       "      <td>1</td>\n",
       "      <td>18.0</td>\n",
       "      <td>35.71</td>\n",
       "      <td>473.48</td>\n",
       "      <td>14.64</td>\n",
       "      <td>4</td>\n",
       "      <td>2</td>\n",
       "      <td>4</td>\n",
       "      <td>10</td>\n",
       "    </tr>\n",
       "    <tr>\n",
       "      <th>1</th>\n",
       "      <td>3</td>\n",
       "      <td>934.0</td>\n",
       "      <td>150.22</td>\n",
       "      <td>0.00</td>\n",
       "      <td>0.00</td>\n",
       "      <td>2</td>\n",
       "      <td>1</td>\n",
       "      <td>1</td>\n",
       "      <td>4</td>\n",
       "    </tr>\n",
       "    <tr>\n",
       "      <th>2</th>\n",
       "      <td>8</td>\n",
       "      <td>531.0</td>\n",
       "      <td>36.52</td>\n",
       "      <td>57.50</td>\n",
       "      <td>2.61</td>\n",
       "      <td>2</td>\n",
       "      <td>2</td>\n",
       "      <td>2</td>\n",
       "      <td>6</td>\n",
       "    </tr>\n",
       "    <tr>\n",
       "      <th>3</th>\n",
       "      <td>14</td>\n",
       "      <td>491.0</td>\n",
       "      <td>30.99</td>\n",
       "      <td>1055.08</td>\n",
       "      <td>33.67</td>\n",
       "      <td>2</td>\n",
       "      <td>3</td>\n",
       "      <td>4</td>\n",
       "      <td>9</td>\n",
       "    </tr>\n",
       "    <tr>\n",
       "      <th>4</th>\n",
       "      <td>32</td>\n",
       "      <td>13.0</td>\n",
       "      <td>40.02</td>\n",
       "      <td>858.08</td>\n",
       "      <td>40.11</td>\n",
       "      <td>4</td>\n",
       "      <td>2</td>\n",
       "      <td>4</td>\n",
       "      <td>10</td>\n",
       "    </tr>\n",
       "    <tr>\n",
       "      <th>5</th>\n",
       "      <td>50</td>\n",
       "      <td>7469.0</td>\n",
       "      <td>27.48</td>\n",
       "      <td>NaN</td>\n",
       "      <td>NaN</td>\n",
       "      <td>1</td>\n",
       "      <td>3</td>\n",
       "      <td>4</td>\n",
       "      <td>8</td>\n",
       "    </tr>\n",
       "    <tr>\n",
       "      <th>6</th>\n",
       "      <td>58</td>\n",
       "      <td>2447.0</td>\n",
       "      <td>107.52</td>\n",
       "      <td>NaN</td>\n",
       "      <td>NaN</td>\n",
       "      <td>1</td>\n",
       "      <td>1</td>\n",
       "      <td>4</td>\n",
       "      <td>6</td>\n",
       "    </tr>\n",
       "    <tr>\n",
       "      <th>7</th>\n",
       "      <td>68</td>\n",
       "      <td>10.0</td>\n",
       "      <td>60.46</td>\n",
       "      <td>367.21</td>\n",
       "      <td>12.65</td>\n",
       "      <td>4</td>\n",
       "      <td>2</td>\n",
       "      <td>3</td>\n",
       "      <td>9</td>\n",
       "    </tr>\n",
       "    <tr>\n",
       "      <th>8</th>\n",
       "      <td>88</td>\n",
       "      <td>57.0</td>\n",
       "      <td>65.48</td>\n",
       "      <td>199.10</td>\n",
       "      <td>17.85</td>\n",
       "      <td>3</td>\n",
       "      <td>2</td>\n",
       "      <td>3</td>\n",
       "      <td>8</td>\n",
       "    </tr>\n",
       "    <tr>\n",
       "      <th>9</th>\n",
       "      <td>96</td>\n",
       "      <td>2782.0</td>\n",
       "      <td>135.89</td>\n",
       "      <td>NaN</td>\n",
       "      <td>NaN</td>\n",
       "      <td>1</td>\n",
       "      <td>1</td>\n",
       "      <td>4</td>\n",
       "      <td>6</td>\n",
       "    </tr>\n",
       "  </tbody>\n",
       "</table>\n",
       "</div>"
      ],
      "text/plain": [
       "   FACCLI  Recency  Frequency  ...  F_Score  M_Score  RFM_Score\n",
       "0       1     18.0      35.71  ...        2        4         10\n",
       "1       3    934.0     150.22  ...        1        1          4\n",
       "2       8    531.0      36.52  ...        2        2          6\n",
       "3      14    491.0      30.99  ...        3        4          9\n",
       "4      32     13.0      40.02  ...        2        4         10\n",
       "5      50   7469.0      27.48  ...        3        4          8\n",
       "6      58   2447.0     107.52  ...        1        4          6\n",
       "7      68     10.0      60.46  ...        2        3          9\n",
       "8      88     57.0      65.48  ...        2        3          8\n",
       "9      96   2782.0     135.89  ...        1        4          6\n",
       "\n",
       "[10 rows x 9 columns]"
      ]
     },
     "execution_count": 56,
     "metadata": {
      "tags": []
     },
     "output_type": "execute_result"
    }
   ],
   "source": [
    "df_rfm_score = df_rfm.copy()\n",
    "df_rfm_score['R_Score'] = df_rfm_score['Recency'].apply(RScore, args=('Recency',quantiles))\n",
    "df_rfm_score['F_Score'] = df_rfm_score['Frequency'].apply(RScore, args=('Frequency',quantiles))\n",
    "df_rfm_score['M_Score'] = df_rfm_score['Avg.AnualIncome'].apply(FMScore, args=('Avg.AnualIncome',quantiles))\n",
    "df_rfm_score['RFM_Score'] = df_rfm_score['R_Score'] + df_rfm_score['F_Score'] + df_rfm_score['M_Score']\n",
    "df_rfm_score.head(10)"
   ]
  },
  {
   "cell_type": "markdown",
   "metadata": {
    "id": "n9a0M3Ocbb1E"
   },
   "source": [
    "Now that I have the score for each variable, I can check how many clients are in each segments I defined:\n",
    "1. **Key Clients:** High Recency(4), High frequency(4), High Monetary Value(4)\n",
    "2. **Loyal Clients:** High frequency(4)\n",
    "3. **Lost Clients:** Low Recency(1)\n",
    "4. **High Value Clients:** High Monetary Value(4)"
   ]
  },
  {
   "cell_type": "code",
   "execution_count": null,
   "metadata": {
    "colab": {
     "base_uri": "https://localhost:8080/"
    },
    "executionInfo": {
     "elapsed": 178619,
     "status": "ok",
     "timestamp": 1620980555682,
     "user": {
      "displayName": "Yijie Hsieh",
      "photoUrl": "",
      "userId": "01348553246469964659"
     },
     "user_tz": -120
    },
    "id": "iKscr8A3bBWv",
    "outputId": "8261a4a6-6b71-4dfe-c75f-3dd103b678b3"
   },
   "outputs": [
    {
     "name": "stdout",
     "output_type": "stream",
     "text": [
      "Key Clients: 294\n",
      "Loyal Clients:  1070\n",
      "Lost Clients: 1249\n",
      "High Value Cliets: 2536\n"
     ]
    }
   ],
   "source": [
    "print(\"Key Clients:\",len(df_rfm_score[(df_rfm_score['R_Score']==4) & (df_rfm_score['F_Score']==4)&(df_rfm_score['M_Score']==4)]))\n",
    "print('Loyal Clients: ',len(df_rfm_score[df_rfm_score['F_Score']==4]))\n",
    "print(\"Lost Clients:\",len(df_rfm_score[df_rfm_score['R_Score']==1]))\n",
    "print('High Value Cliets:', len(df_rfm_score[df_rfm_score['M_Score']==4]))"
   ]
  },
  {
   "cell_type": "code",
   "execution_count": null,
   "metadata": {
    "colab": {
     "base_uri": "https://localhost:8080/",
     "height": 335
    },
    "executionInfo": {
     "elapsed": 178607,
     "status": "ok",
     "timestamp": 1620980555683,
     "user": {
      "displayName": "Yijie Hsieh",
      "photoUrl": "",
      "userId": "01348553246469964659"
     },
     "user_tz": -120
    },
    "id": "8P7XemVqdKcG",
    "outputId": "08e2d42f-8203-43c7-996d-62751d49c447"
   },
   "outputs": [
    {
     "data": {
      "text/html": [
       "<div>\n",
       "<style scoped>\n",
       "    .dataframe tbody tr th:only-of-type {\n",
       "        vertical-align: middle;\n",
       "    }\n",
       "\n",
       "    .dataframe tbody tr th {\n",
       "        vertical-align: top;\n",
       "    }\n",
       "\n",
       "    .dataframe thead th {\n",
       "        text-align: right;\n",
       "    }\n",
       "</style>\n",
       "<table border=\"1\" class=\"dataframe\">\n",
       "  <thead>\n",
       "    <tr style=\"text-align: right;\">\n",
       "      <th></th>\n",
       "      <th>RFM_Score</th>\n",
       "      <th>Recency</th>\n",
       "      <th>Frequency</th>\n",
       "      <th>Avg.AnualIncome</th>\n",
       "    </tr>\n",
       "  </thead>\n",
       "  <tbody>\n",
       "    <tr>\n",
       "      <th>9</th>\n",
       "      <td>12</td>\n",
       "      <td>14.09</td>\n",
       "      <td>15.57</td>\n",
       "      <td>1483.87</td>\n",
       "    </tr>\n",
       "    <tr>\n",
       "      <th>8</th>\n",
       "      <td>11</td>\n",
       "      <td>48.15</td>\n",
       "      <td>20.70</td>\n",
       "      <td>664.42</td>\n",
       "    </tr>\n",
       "    <tr>\n",
       "      <th>7</th>\n",
       "      <td>10</td>\n",
       "      <td>300.28</td>\n",
       "      <td>25.29</td>\n",
       "      <td>448.33</td>\n",
       "    </tr>\n",
       "    <tr>\n",
       "      <th>6</th>\n",
       "      <td>9</td>\n",
       "      <td>976.71</td>\n",
       "      <td>28.65</td>\n",
       "      <td>258.43</td>\n",
       "    </tr>\n",
       "    <tr>\n",
       "      <th>5</th>\n",
       "      <td>8</td>\n",
       "      <td>1355.97</td>\n",
       "      <td>37.41</td>\n",
       "      <td>154.82</td>\n",
       "    </tr>\n",
       "    <tr>\n",
       "      <th>4</th>\n",
       "      <td>7</td>\n",
       "      <td>1331.61</td>\n",
       "      <td>86.16</td>\n",
       "      <td>102.06</td>\n",
       "    </tr>\n",
       "    <tr>\n",
       "      <th>3</th>\n",
       "      <td>6</td>\n",
       "      <td>1912.51</td>\n",
       "      <td>126.30</td>\n",
       "      <td>60.02</td>\n",
       "    </tr>\n",
       "    <tr>\n",
       "      <th>2</th>\n",
       "      <td>5</td>\n",
       "      <td>622.39</td>\n",
       "      <td>150.44</td>\n",
       "      <td>32.50</td>\n",
       "    </tr>\n",
       "    <tr>\n",
       "      <th>1</th>\n",
       "      <td>4</td>\n",
       "      <td>917.20</td>\n",
       "      <td>301.23</td>\n",
       "      <td>11.32</td>\n",
       "    </tr>\n",
       "    <tr>\n",
       "      <th>0</th>\n",
       "      <td>3</td>\n",
       "      <td>7807.00</td>\n",
       "      <td>131.00</td>\n",
       "      <td>2.73</td>\n",
       "    </tr>\n",
       "  </tbody>\n",
       "</table>\n",
       "</div>"
      ],
      "text/plain": [
       "   RFM_Score  Recency  Frequency  Avg.AnualIncome\n",
       "9         12    14.09      15.57          1483.87\n",
       "8         11    48.15      20.70           664.42\n",
       "7         10   300.28      25.29           448.33\n",
       "6          9   976.71      28.65           258.43\n",
       "5          8  1355.97      37.41           154.82\n",
       "4          7  1331.61      86.16           102.06\n",
       "3          6  1912.51     126.30            60.02\n",
       "2          5   622.39     150.44            32.50\n",
       "1          4   917.20     301.23            11.32\n",
       "0          3  7807.00     131.00             2.73"
      ]
     },
     "execution_count": 58,
     "metadata": {
      "tags": []
     },
     "output_type": "execute_result"
    }
   ],
   "source": [
    "df_rfm_score['RFM_Score'].unique()\n",
    "df_rfm_score.groupby('RFM_Score',as_index=False).agg({\n",
    "    'Recency': 'mean',\n",
    "    'Frequency': 'mean',\n",
    "    'Avg.AnualIncome': 'mean'}).sort_values('RFM_Score',ascending=False).round(2)"
   ]
  },
  {
   "cell_type": "markdown",
   "metadata": {
    "id": "ND6DLzW91K3V"
   },
   "source": [
    "### K-Means Clustering with RFM Variables\n",
    "\n"
   ]
  },
  {
   "cell_type": "code",
   "execution_count": null,
   "metadata": {
    "colab": {
     "base_uri": "https://localhost:8080/"
    },
    "executionInfo": {
     "elapsed": 178594,
     "status": "ok",
     "timestamp": 1620980555684,
     "user": {
      "displayName": "Yijie Hsieh",
      "photoUrl": "",
      "userId": "01348553246469964659"
     },
     "user_tz": -120
    },
    "id": "DIf86RHE4c3j",
    "outputId": "6c5be739-c817-4188-cb7c-ef75449fb930"
   },
   "outputs": [
    {
     "data": {
      "text/plain": [
       "Index(['FACCLI', 'Recency', 'Frequency', 'Avg.AnualIncome',\n",
       "       'Avg.InvoiceIncome'],\n",
       "      dtype='object')"
      ]
     },
     "execution_count": 59,
     "metadata": {
      "tags": []
     },
     "output_type": "execute_result"
    }
   ],
   "source": [
    "df_rfm.head()\n",
    "df_rfm.columns"
   ]
  },
  {
   "cell_type": "markdown",
   "metadata": {
    "id": "6QeqG1Kg6h5_"
   },
   "source": [
    "Before running K-Means, it's important to normalize the data."
   ]
  },
  {
   "cell_type": "code",
   "execution_count": null,
   "metadata": {
    "colab": {
     "base_uri": "https://localhost:8080/",
     "height": 277
    },
    "executionInfo": {
     "elapsed": 178580,
     "status": "ok",
     "timestamp": 1620980555685,
     "user": {
      "displayName": "Yijie Hsieh",
      "photoUrl": "",
      "userId": "01348553246469964659"
     },
     "user_tz": -120
    },
    "id": "QH_-NAg92CYY",
    "outputId": "3ff7eb92-5fbd-43b8-f63f-3237c7185453"
   },
   "outputs": [
    {
     "data": {
      "text/html": [
       "<div>\n",
       "<style scoped>\n",
       "    .dataframe tbody tr th:only-of-type {\n",
       "        vertical-align: middle;\n",
       "    }\n",
       "\n",
       "    .dataframe tbody tr th {\n",
       "        vertical-align: top;\n",
       "    }\n",
       "\n",
       "    .dataframe thead th {\n",
       "        text-align: right;\n",
       "    }\n",
       "</style>\n",
       "<table border=\"1\" class=\"dataframe\">\n",
       "  <thead>\n",
       "    <tr style=\"text-align: right;\">\n",
       "      <th></th>\n",
       "      <th>Recency</th>\n",
       "      <th>Frequency</th>\n",
       "      <th>Avg.AnualIncome</th>\n",
       "      <th>Avg.InvoiceIncome</th>\n",
       "    </tr>\n",
       "  </thead>\n",
       "  <tbody>\n",
       "    <tr>\n",
       "      <th>count</th>\n",
       "      <td>2.782000e+03</td>\n",
       "      <td>2.782000e+03</td>\n",
       "      <td>2.782000e+03</td>\n",
       "      <td>2.782000e+03</td>\n",
       "    </tr>\n",
       "    <tr>\n",
       "      <th>mean</th>\n",
       "      <td>1.225156e-17</td>\n",
       "      <td>-1.403143e-16</td>\n",
       "      <td>6.070909e-16</td>\n",
       "      <td>1.035955e-15</td>\n",
       "    </tr>\n",
       "    <tr>\n",
       "      <th>std</th>\n",
       "      <td>1.000180e+00</td>\n",
       "      <td>1.000180e+00</td>\n",
       "      <td>1.000180e+00</td>\n",
       "      <td>1.000180e+00</td>\n",
       "    </tr>\n",
       "    <tr>\n",
       "      <th>min</th>\n",
       "      <td>-6.732386e-01</td>\n",
       "      <td>-5.359596e-01</td>\n",
       "      <td>-4.725299e-01</td>\n",
       "      <td>-8.544364e-01</td>\n",
       "    </tr>\n",
       "    <tr>\n",
       "      <th>25%</th>\n",
       "      <td>-6.396282e-01</td>\n",
       "      <td>-3.350462e-01</td>\n",
       "      <td>-4.255559e-01</td>\n",
       "      <td>-6.551820e-01</td>\n",
       "    </tr>\n",
       "    <tr>\n",
       "      <th>50%</th>\n",
       "      <td>-5.780091e-01</td>\n",
       "      <td>-2.453718e-01</td>\n",
       "      <td>-2.873242e-01</td>\n",
       "      <td>-3.659957e-01</td>\n",
       "    </tr>\n",
       "    <tr>\n",
       "      <th>75%</th>\n",
       "      <td>5.507395e-01</td>\n",
       "      <td>-2.779692e-02</td>\n",
       "      <td>4.291171e-02</td>\n",
       "      <td>2.420478e-01</td>\n",
       "    </tr>\n",
       "    <tr>\n",
       "      <th>max</th>\n",
       "      <td>2.118191e+01</td>\n",
       "      <td>2.411882e+01</td>\n",
       "      <td>1.876480e+01</td>\n",
       "      <td>9.445278e+00</td>\n",
       "    </tr>\n",
       "  </tbody>\n",
       "</table>\n",
       "</div>"
      ],
      "text/plain": [
       "            Recency     Frequency  Avg.AnualIncome  Avg.InvoiceIncome\n",
       "count  2.782000e+03  2.782000e+03     2.782000e+03       2.782000e+03\n",
       "mean   1.225156e-17 -1.403143e-16     6.070909e-16       1.035955e-15\n",
       "std    1.000180e+00  1.000180e+00     1.000180e+00       1.000180e+00\n",
       "min   -6.732386e-01 -5.359596e-01    -4.725299e-01      -8.544364e-01\n",
       "25%   -6.396282e-01 -3.350462e-01    -4.255559e-01      -6.551820e-01\n",
       "50%   -5.780091e-01 -2.453718e-01    -2.873242e-01      -3.659957e-01\n",
       "75%    5.507395e-01 -2.779692e-02     4.291171e-02       2.420478e-01\n",
       "max    2.118191e+01  2.411882e+01     1.876480e+01       9.445278e+00"
      ]
     },
     "execution_count": 60,
     "metadata": {
      "tags": []
     },
     "output_type": "execute_result"
    }
   ],
   "source": [
    "# Data Normalization\n",
    "scaler = StandardScaler()\n",
    "\n",
    "df_rfm_standard = pd.DataFrame(scaler.fit_transform(df_rfm.dropna(axis=0)),columns=['FACCLI', 'Recency', 'Frequency', 'Avg.AnualIncome','Avg.InvoiceIncome'])\n",
    "df_rfm_standard.iloc[:,1:].describe()"
   ]
  },
  {
   "cell_type": "code",
   "execution_count": null,
   "metadata": {
    "colab": {
     "base_uri": "https://localhost:8080/"
    },
    "executionInfo": {
     "elapsed": 178567,
     "status": "ok",
     "timestamp": 1620980555686,
     "user": {
      "displayName": "Yijie Hsieh",
      "photoUrl": "",
      "userId": "01348553246469964659"
     },
     "user_tz": -120
    },
    "id": "AtCP4ukGDmig",
    "outputId": "2e2d65c9-1bdb-4175-dece-ac92f0d097da"
   },
   "outputs": [
    {
     "data": {
      "text/plain": [
       "Index(['FACCLI', 'Recency', 'Frequency', 'Avg.AnualIncome',\n",
       "       'Avg.InvoiceIncome'],\n",
       "      dtype='object')"
      ]
     },
     "execution_count": 61,
     "metadata": {
      "tags": []
     },
     "output_type": "execute_result"
    }
   ],
   "source": [
    "df_rfm_standard.columns"
   ]
  },
  {
   "cell_type": "markdown",
   "metadata": {
    "id": "akLeMphO64C8"
   },
   "source": [
    "Segmenting with K-Means, Identify the optimal k."
   ]
  },
  {
   "cell_type": "code",
   "execution_count": null,
   "metadata": {
    "colab": {
     "base_uri": "https://localhost:8080/",
     "height": 347
    },
    "executionInfo": {
     "elapsed": 180545,
     "status": "ok",
     "timestamp": 1620980557676,
     "user": {
      "displayName": "Yijie Hsieh",
      "photoUrl": "",
      "userId": "01348553246469964659"
     },
     "user_tz": -120
    },
    "id": "UcBlMSSC5xib",
    "outputId": "0b8327da-ef69-4b90-da3a-f707529551e2"
   },
   "outputs": [
    {
     "data": {
      "image/png": "[encoded data removed]",
      "text/plain": [
       "<Figure size 576x396 with 1 Axes>"
      ]
     },
     "metadata": {
      "tags": []
     },
     "output_type": "display_data"
    }
   ],
   "source": [
    "# SSE = Error Sum of Squares\n",
    "SSE = []\n",
    "\n",
    "for k in range(0,10):\n",
    "  kmeans=KMeans(n_clusters=k+1,random_state=1200).fit(df_rfm_standard)\n",
    "  SSE.append(kmeans.inertia_)\n",
    "\n",
    "sns.pointplot(x=list(range(1,11)),y=SSE)\n",
    "plt.show()"
   ]
  },
  {
   "cell_type": "code",
   "execution_count": null,
   "metadata": {
    "colab": {
     "base_uri": "https://localhost:8080/",
     "height": 330
    },
    "executionInfo": {
     "elapsed": 181130,
     "status": "ok",
     "timestamp": 1620980558277,
     "user": {
      "displayName": "Yijie Hsieh",
      "photoUrl": "",
      "userId": "01348553246469964659"
     },
     "user_tz": -120
    },
    "id": "7b26SDzk9vmk",
    "outputId": "3f291a67-524d-48e1-c854-56c0ec4f33a7"
   },
   "outputs": [
    {
     "data": {
      "image/png": "[encoded data removed]",
      "text/plain": [
       "<Figure size 576x396 with 1 Axes>"
      ]
     },
     "metadata": {
      "tags": []
     },
     "output_type": "display_data"
    }
   ],
   "source": [
    "model = KMeans(n_clusters=5,random_state=1200).fit(df_rfm_standard)\n",
    "centers=model.cluster_centers_\n",
    "fig=plt.figure()\n",
    "\n",
    "ax=fig.add_subplot(projection='3d')\n",
    "ax.scatter(df_rfm_standard['Recency'],df_rfm_standard['Frequency'],df_rfm_standard['Avg.AnualIncome'],cmap='brg',c=model.predict(df_rfm_standard))\n",
    "ax.scatter(centers[:,0],centers[:,1],c='black');\n",
    "\n",
    "# Add rotation\n",
    "# Add names of the variables\n",
    "# Remove outliers"
   ]
  }
 ],
 "metadata": {
  "colab": {
   "collapsed_sections": [],
   "name": "TFM_YijieHsieh.ipynb",
   "provenance": [],
   "toc_visible": true
  },
  "kernelspec": {
   "display_name": "Python 3",
   "language": "python",
   "name": "python3"
  },
  "language_info": {
   "codemirror_mode": {
    "name": "ipython",
    "version": 3
   },
   "file_extension": ".py",
   "mimetype": "text/x-python",
   "name": "python",
   "nbconvert_exporter": "python",
   "pygments_lexer": "ipython3",
   "version": "3.8.2"
  }
 },
 "nbformat": 4,
 "nbformat_minor": 1
}
